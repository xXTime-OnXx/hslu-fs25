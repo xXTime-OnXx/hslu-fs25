{
 "cells": [
  {
   "cell_type": "markdown",
   "id": "40427979",
   "metadata": {},
   "source": [
    "# NLP Pipeline\n",
    "We will learn some basic operations of the NLP pipelines with the help of two libraries, NLTK and spaCy. These will prove useful in your project for tasks such as preprocessing."
   ]
  },
  {
   "cell_type": "code",
   "execution_count": 1,
   "id": "144162dd",
   "metadata": {},
   "outputs": [
    {
     "name": "stdout",
     "output_type": "stream",
     "text": [
      "\n",
      "\u001b[1m[\u001b[0m\u001b[34;49mnotice\u001b[0m\u001b[1;39;49m]\u001b[0m\u001b[39;49m A new release of pip is available: \u001b[0m\u001b[31;49m23.0.1\u001b[0m\u001b[39;49m -> \u001b[0m\u001b[32;49m25.0.1\u001b[0m\n",
      "\u001b[1m[\u001b[0m\u001b[34;49mnotice\u001b[0m\u001b[1;39;49m]\u001b[0m\u001b[39;49m To update, run: \u001b[0m\u001b[32;49mpip install --upgrade pip\u001b[0m\n",
      "Note: you may need to restart the kernel to use updated packages.\n"
     ]
    }
   ],
   "source": [
    "%pip install -q nltk matplotlib"
   ]
  },
  {
   "cell_type": "markdown",
   "id": "8333d6fa",
   "metadata": {},
   "source": [
    "## NLTK\n",
    "We will use [Chapter 3 of the introductory manual of NLTK](https://www.nltk.org/book/ch03.html) to solve the following exercises.\n",
    "\n",
    "First, use the interactive downloader to get the *gutenberg* book corpus (in the *Corpora* tab). Take a moment to admire the amazing user interface."
   ]
  },
  {
   "cell_type": "code",
   "execution_count": 2,
   "id": "d6d021c0",
   "metadata": {},
   "outputs": [
    {
     "name": "stderr",
     "output_type": "stream",
     "text": [
      "[nltk_data] Downloading package gutenberg to /Users/timon/nltk_data...\n",
      "[nltk_data]   Package gutenberg is already up-to-date!\n"
     ]
    },
    {
     "data": {
      "text/plain": [
       "True"
      ]
     },
     "execution_count": 2,
     "metadata": {},
     "output_type": "execute_result"
    }
   ],
   "source": [
    "import nltk\n",
    "nltk.download('gutenberg')"
   ]
  },
  {
   "cell_type": "markdown",
   "id": "3c9da622",
   "metadata": {},
   "source": [
    "NLTK automatically saves its files in the `nltk_data` folder in your home directory. (Windows users: Maybe it's in your `Documents`?)\n",
    "\n",
    "We load the raw text of the first book in the corpus."
   ]
  },
  {
   "cell_type": "code",
   "execution_count": 3,
   "id": "977b230b",
   "metadata": {},
   "outputs": [
    {
     "name": "stdout",
     "output_type": "stream",
     "text": [
      "887071\n"
     ]
    }
   ],
   "source": [
    "from nltk.corpus import gutenberg\n",
    "raw_text = gutenberg.raw('austen-emma.txt')\n",
    "print(len(raw_text))"
   ]
  },
  {
   "cell_type": "markdown",
   "id": "8fb99b02",
   "metadata": {},
   "source": [
    "To use nltk's tokenization, we need to download the `punkt_tab` resource."
   ]
  },
  {
   "cell_type": "code",
   "execution_count": 4,
   "id": "779c157c",
   "metadata": {},
   "outputs": [
    {
     "name": "stderr",
     "output_type": "stream",
     "text": [
      "[nltk_data] Downloading package punkt_tab to /Users/timon/nltk_data...\n",
      "[nltk_data]   Package punkt_tab is already up-to-date!\n"
     ]
    },
    {
     "data": {
      "text/plain": [
       "True"
      ]
     },
     "execution_count": 4,
     "metadata": {},
     "output_type": "execute_result"
    }
   ],
   "source": [
    "nltk.download('punkt_tab')"
   ]
  },
  {
   "cell_type": "markdown",
   "id": "bcb59b1d",
   "metadata": {},
   "source": [
    "Count the number of words and sentences in the book."
   ]
  },
  {
   "cell_type": "code",
   "execution_count": 5,
   "id": "015dbbf6",
   "metadata": {},
   "outputs": [
    {
     "name": "stdout",
     "output_type": "stream",
     "text": [
      "Words: 191855\n",
      "Sentences: 7493\n"
     ]
    }
   ],
   "source": [
    "print(\"Words: \" + str(len(nltk.word_tokenize(raw_text))))\n",
    "print(\"Sentences: \" + str(len(nltk.sent_tokenize(raw_text))))"
   ]
  },
  {
   "cell_type": "markdown",
   "id": "ef55d386",
   "metadata": {},
   "source": [
    "- Lowercase all words. \n",
    "- Count the number of unique lower-cased words in the book."
   ]
  },
  {
   "cell_type": "code",
   "execution_count": 6,
   "id": "e2028dd4",
   "metadata": {},
   "outputs": [
    {
     "name": "stdout",
     "output_type": "stream",
     "text": [
      "Unique Words: 7914\n"
     ]
    }
   ],
   "source": [
    "words = nltk.word_tokenize(raw_text.lower())\n",
    "\n",
    "print(f'Unique Words: {len(set(words))}')"
   ]
  },
  {
   "cell_type": "markdown",
   "id": "9f5a45a3",
   "metadata": {},
   "source": [
    "The total number of words is also called *tokens*, and the unique words are the *types*. (This is the same distinction as instance vs. class in software engineering.)\n",
    "\n",
    "We now perform *stemming* on the first 50 words of the text. We use the PorterStemmer (example usage [here](https://www.nltk.org/howto/stem.html)). Plot only the pairs of words that have changed after stemming."
   ]
  },
  {
   "cell_type": "code",
   "execution_count": 7,
   "id": "6ae02b60",
   "metadata": {},
   "outputs": [
    {
     "name": "stdout",
     "output_type": "stream",
     "text": [
      "volume volum\n",
      "woodhouse woodhous\n",
      "handsome handsom\n",
      "comfortable comfort\n",
      "happy happi\n",
      "disposition disposit\n",
      "seemed seem\n",
      "unite unit\n",
      "blessings bless\n",
      "existence exist\n",
      "lived live\n",
      "nearly nearli\n",
      "twenty-one twenty-on\n",
      "years year\n"
     ]
    }
   ],
   "source": [
    "stemmer = nltk.stem.porter.PorterStemmer()\n",
    "\n",
    "stemmed_words = [stemmer.stem(word) for word in words[:50]]\n",
    "for w_origin, w_stemmed in zip(words[:50], stemmed_words):\n",
    "    if w_origin != w_stemmed:\n",
    "        print(w_origin, w_stemmed)\n"
   ]
  },
  {
   "cell_type": "markdown",
   "id": "522cf088",
   "metadata": {},
   "source": [
    "Find the 10 most frequent words, together with their counts, using the `FreqDist` object from NLTK. Save it to a variable named `fdist`."
   ]
  },
  {
   "cell_type": "code",
   "execution_count": 8,
   "id": "425c26c7",
   "metadata": {},
   "outputs": [
    {
     "name": "stdout",
     "output_type": "stream",
     "text": [
      ", 12016\n",
      ". 6351\n",
      "the 5201\n",
      "to 5181\n",
      "and 4877\n",
      "of 4284\n",
      "i 3177\n",
      "a 3124\n",
      "-- 3100\n",
      "it 2503\n",
      "[('could', 836), ('would', 818)]\n"
     ]
    }
   ],
   "source": [
    "fdist = nltk.FreqDist(words)\n",
    "\n",
    "for word, count in fdist.most_common(10):\n",
    "    print(word, count)\n",
    "    \n",
    "print([(word, count) for word, count in fdist.most_common(50) if len(word) >= 5])"
   ]
  },
  {
   "cell_type": "markdown",
   "id": "abfc5cff",
   "metadata": {},
   "source": [
    "Run the below command to see the word counts vs. the words in the frequency distribution."
   ]
  },
  {
   "cell_type": "code",
   "execution_count": 9,
   "id": "7fbdd446",
   "metadata": {},
   "outputs": [
    {
     "data": {
      "text/plain": [
       "<Axes: xlabel='Samples', ylabel='Counts'>"
      ]
     },
     "execution_count": 9,
     "metadata": {},
     "output_type": "execute_result"
    },
    {
     "data": {
      "image/png": "[encoded data removed]",
      "text/plain": [
       "<Figure size 640x480 with 1 Axes>"
      ]
     },
     "metadata": {},
     "output_type": "display_data"
    }
   ],
   "source": [
    "fdist.plot(50)"
   ]
  },
  {
   "cell_type": "markdown",
   "id": "f776c7b9",
   "metadata": {},
   "source": [
    "This curve is characteristic of any natural (= human) language, and is known as [Zipf's law](https://en.wikipedia.org/wiki/Zipf%27s_law). It states that the frequency of a word is inversely proportional to its rank, i.e.:\n",
    "$$\\text{frequency}(x) \\propto \\frac{1}{\\text{rank}(x)}$$"
   ]
  },
  {
   "cell_type": "markdown",
   "id": "3444a5e9",
   "metadata": {},
   "source": [
    "## Hugging Face\n",
    "\n",
    "With Transformers (we will get to know them in more detail later in the course), tokenization has become part of the model itself. As opposed to `word_tokenize` in NLTK, Transformers use BPE tokenization.\n",
    "\n",
    "We first install Hugging Face's `transformers` library."
   ]
  },
  {
   "cell_type": "code",
   "execution_count": 10,
   "id": "2ac74dd3",
   "metadata": {},
   "outputs": [
    {
     "name": "stdout",
     "output_type": "stream",
     "text": [
      "\n",
      "\u001b[1m[\u001b[0m\u001b[34;49mnotice\u001b[0m\u001b[1;39;49m]\u001b[0m\u001b[39;49m A new release of pip is available: \u001b[0m\u001b[31;49m23.0.1\u001b[0m\u001b[39;49m -> \u001b[0m\u001b[32;49m25.0.1\u001b[0m\n",
      "\u001b[1m[\u001b[0m\u001b[34;49mnotice\u001b[0m\u001b[1;39;49m]\u001b[0m\u001b[39;49m To update, run: \u001b[0m\u001b[32;49mpip install --upgrade pip\u001b[0m\n",
      "Note: you may need to restart the kernel to use updated packages.\n"
     ]
    }
   ],
   "source": [
    "%pip install -q transformers ipywidgets"
   ]
  },
  {
   "cell_type": "markdown",
   "id": "54e8318c",
   "metadata": {},
   "source": [
    "Use the [model page of the base-uncased version of BERT](https://huggingface.co/google-bert/bert-base-uncased) to initialize a `BertTokenizer`."
   ]
  },
  {
   "cell_type": "code",
   "execution_count": 11,
   "id": "545492bd",
   "metadata": {},
   "outputs": [],
   "source": [
    "# from transformers import BertTokenizer\n",
    "# tokenizer = BertTokenizer.from_pretrained('google-bert/bert-base-uncased')\n",
    "\n",
    "from transformers import AutoTokenizer\n",
    "\n",
    "tokenizer = AutoTokenizer.from_pretrained('google-bert/bert-base-uncased')"
   ]
  },
  {
   "cell_type": "markdown",
   "id": "b177d372",
   "metadata": {},
   "source": [
    "We look at the first sentence of Jane Austen's Emma."
   ]
  },
  {
   "cell_type": "code",
   "execution_count": 12,
   "id": "e2eca187",
   "metadata": {},
   "outputs": [
    {
     "name": "stdout",
     "output_type": "stream",
     "text": [
      "Emma Woodhouse, handsome, clever, and rich, with a comfortable home and happy disposition, seemed to unite some of the best blessings of existence; and had lived nearly twenty-one years in the world with very little to distress or vex her.\n"
     ]
    }
   ],
   "source": [
    "sentence = nltk.sent_tokenize(raw_text)[0].split('\\n\\n\\n')[-1].replace('\\n', ' ')\n",
    "print(sentence)"
   ]
  },
  {
   "cell_type": "markdown",
   "id": "711cc14b",
   "metadata": {},
   "source": [
    "Encode the sentence. Look at the outputs of the following functions:\n",
    "- `tokenizer(sentence)`\n",
    "- `tokenizer.encode(sentence)`\n",
    "- `tokenizer.tokenize(sentence)`\n",
    "- `tokenizer.convert_tokens_to_ids(tokenizer.tokenize(sentence))`"
   ]
  },
  {
   "cell_type": "code",
   "execution_count": 13,
   "id": "b99ddc96",
   "metadata": {},
   "outputs": [
    {
     "data": {
      "text/plain": [
       "['emma',\n",
       " 'wood',\n",
       " '##house',\n",
       " ',',\n",
       " 'handsome',\n",
       " ',',\n",
       " 'clever',\n",
       " ',',\n",
       " 'and',\n",
       " 'rich',\n",
       " ',',\n",
       " 'with',\n",
       " 'a',\n",
       " 'comfortable',\n",
       " 'home',\n",
       " 'and',\n",
       " 'happy',\n",
       " 'disposition',\n",
       " ',',\n",
       " 'seemed',\n",
       " 'to',\n",
       " 'unite',\n",
       " 'some',\n",
       " 'of',\n",
       " 'the',\n",
       " 'best',\n",
       " 'blessings',\n",
       " 'of',\n",
       " 'existence',\n",
       " ';',\n",
       " 'and',\n",
       " 'had',\n",
       " 'lived',\n",
       " 'nearly',\n",
       " 'twenty',\n",
       " '-',\n",
       " 'one',\n",
       " 'years',\n",
       " 'in',\n",
       " 'the',\n",
       " 'world',\n",
       " 'with',\n",
       " 'very',\n",
       " 'little',\n",
       " 'to',\n",
       " 'distress',\n",
       " 'or',\n",
       " 've',\n",
       " '##x',\n",
       " 'her',\n",
       " '.']"
      ]
     },
     "execution_count": 13,
     "metadata": {},
     "output_type": "execute_result"
    }
   ],
   "source": [
    "tokenizer.tokenize(sentence)"
   ]
  },
  {
   "cell_type": "markdown",
   "id": "9b7629a8",
   "metadata": {},
   "source": [
    "**Decoding.** Check out the various ways of decoding: `.decode`, `.convert_ids_to_tokens`, `.convert_tokens_to_string`."
   ]
  },
  {
   "cell_type": "code",
   "execution_count": 14,
   "id": "9ad3b807",
   "metadata": {},
   "outputs": [
    {
     "name": "stdout",
     "output_type": "stream",
     "text": [
      "emma woodhouse, handsome, clever, and rich, with a comfortable home and happy disposition, seemed to unite some of the best blessings of existence ; and had lived nearly twenty - one years in the world with very little to distress or vex her.\n",
      "['[CLS]', 'emma', 'wood', '##house', ',', 'handsome', ',', 'clever', ',', 'and', 'rich', ',', 'with', 'a', 'comfortable', 'home', 'and', 'happy', 'disposition', ',', 'seemed', 'to', 'unite', 'some', 'of', 'the', 'best', 'blessings', 'of', 'existence', ';', 'and', 'had', 'lived', 'nearly', 'twenty', '-', 'one', 'years', 'in', 'the', 'world', 'with', 'very', 'little', 'to', 'distress', 'or', 've', '##x', 'her', '.', '[SEP]']\n",
      "emma woodhouse, handsome, clever, and rich, with a comfortable home and happy disposition, seemed to unite some of the best blessings of existence ; and had lived nearly twenty - one years in the world with very little to distress or vex her.\n"
     ]
    }
   ],
   "source": [
    "input_ids = tokenizer.encode(sentence)\n",
    "\n",
    "print(tokenizer.decode(input_ids, skip_special_tokens=True))\n",
    "print(tokenizer.convert_ids_to_tokens(input_ids))\n",
    "print(tokenizer.convert_tokens_to_string(tokenizer.tokenize(sentence)))"
   ]
  },
  {
   "cell_type": "markdown",
   "id": "b8673fdd",
   "metadata": {},
   "source": [
    "**Tokenization differences.** Compare the tokenization of NLTK, bert-base-uncased and [t5-small](https://huggingface.co/google-t5/t5-small)."
   ]
  },
  {
   "cell_type": "code",
   "execution_count": 15,
   "id": "810393f1",
   "metadata": {},
   "outputs": [],
   "source": [
    "t5_tokenizer = AutoTokenizer.from_pretrained('google-t5/t5-small')"
   ]
  },
  {
   "cell_type": "code",
   "execution_count": 16,
   "id": "efc8fb9f",
   "metadata": {},
   "outputs": [
    {
     "name": "stdout",
     "output_type": "stream",
     "text": [
      "['Emma', 'Woodhouse', ',', 'handsome', ',', 'clever', ',', 'and', 'rich', ',', 'with', 'a', 'comfortable', 'home', 'and', 'happy', 'disposition', ',', 'seemed', 'to', 'unite', 'some', 'of', 'the', 'best', 'blessings', 'of', 'existence', ';', 'and', 'had', 'lived', 'nearly', 'twenty-one', 'years', 'in', 'the', 'world', 'with', 'very', 'little', 'to', 'distress', 'or', 'vex', 'her', '.']\n",
      "['emma', 'wood', '##house', ',', 'handsome', ',', 'clever', ',', 'and', 'rich', ',', 'with', 'a', 'comfortable', 'home', 'and', 'happy', 'disposition', ',', 'seemed', 'to', 'unite', 'some', 'of', 'the', 'best', 'blessings', 'of', 'existence', ';', 'and', 'had', 'lived', 'nearly', 'twenty', '-', 'one', 'years', 'in', 'the', 'world', 'with', 'very', 'little', 'to', 'distress', 'or', 've', '##x', 'her', '.']\n",
      "['▁Emma', '▁Wood', 'house', ',', '▁handsome', ',', '▁clever', ',', '▁and', '▁rich', ',', '▁with', '▁', 'a', '▁comfortable', '▁home', '▁and', '▁happy', '▁disposition', ',', '▁seemed', '▁to', '▁unit', 'e', '▁some', '▁of', '▁the', '▁best', '▁blessing', 's', '▁of', '▁existence', ';', '▁and', '▁had', '▁lived', '▁nearly', '▁twenty', '-', 'one', '▁years', '▁in', '▁the', '▁world', '▁with', '▁very', '▁little', '▁to', '▁distress', '▁or', '▁', 've', 'x', '▁her', '.']\n"
     ]
    }
   ],
   "source": [
    "print(nltk.word_tokenize(sentence))\n",
    "print(tokenizer.tokenize(sentence))\n",
    "print(t5_tokenizer.tokenize(sentence))"
   ]
  },
  {
   "cell_type": "markdown",
   "id": "60559c74",
   "metadata": {},
   "source": [
    "Now `encode` and `decode` the sentence with all 3 tokenizers. Is the encoding/decoding lossless, i.e. do we recover the original sentence?"
   ]
  },
  {
   "cell_type": "code",
   "execution_count": 17,
   "id": "851fe7bf",
   "metadata": {},
   "outputs": [
    {
     "name": "stdout",
     "output_type": "stream",
     "text": [
      "Emma Woodhouse , handsome , clever , and rich , with a comfortable home and happy disposition , seemed to unite some of the best blessings of existence ; and had lived nearly twenty-one years in the world with very little to distress or vex her .\n",
      "emma woodhouse, handsome, clever, and rich, with a comfortable home and happy disposition, seemed to unite some of the best blessings of existence ; and had lived nearly twenty - one years in the world with very little to distress or vex her.\n",
      "Emma Woodhouse, handsome, clever, and rich, with a comfortable home and happy disposition, seemed to unite some of the best blessings of existence; and had lived nearly twenty-one years in the world with very little to distress or vex her.\n"
     ]
    }
   ],
   "source": [
    "print(' '.join(nltk.word_tokenize(sentence)))\n",
    "print(tokenizer.decode(tokenizer.encode(sentence), skip_special_tokens=True))\n",
    "print(t5_tokenizer.decode(t5_tokenizer.encode(sentence), skip_special_tokens=True))"
   ]
  },
  {
   "cell_type": "markdown",
   "id": "89ab450c",
   "metadata": {},
   "source": [
    "## spaCy\n",
    "We will use the [spaCy 101 guide](https://spacy.io/usage/spacy-101) to familiarize ourselves with its capabilities. First we install and download the small core model for English."
   ]
  },
  {
   "cell_type": "code",
   "execution_count": 18,
   "id": "8500c142",
   "metadata": {},
   "outputs": [
    {
     "name": "stdout",
     "output_type": "stream",
     "text": [
      "Requirement already satisfied: setuptools in /Users/timon/.pyenv/versions/3.9.21/envs/nlp/lib/python3.9/site-packages (58.1.0)\n",
      "Collecting wheel\n",
      "  Using cached wheel-0.45.1-py3-none-any.whl (72 kB)\n",
      "Installing collected packages: wheel\n",
      "Successfully installed wheel-0.45.1\n",
      "\n",
      "\u001b[1m[\u001b[0m\u001b[34;49mnotice\u001b[0m\u001b[1;39;49m]\u001b[0m\u001b[39;49m A new release of pip is available: \u001b[0m\u001b[31;49m23.0.1\u001b[0m\u001b[39;49m -> \u001b[0m\u001b[32;49m25.0.1\u001b[0m\n",
      "\u001b[1m[\u001b[0m\u001b[34;49mnotice\u001b[0m\u001b[1;39;49m]\u001b[0m\u001b[39;49m To update, run: \u001b[0m\u001b[32;49mpip install --upgrade pip\u001b[0m\n",
      "Note: you may need to restart the kernel to use updated packages.\n",
      "Collecting spacy[apple]\n",
      "  Downloading spacy-3.8.3-cp39-cp39-macosx_11_0_arm64.whl (6.3 MB)\n",
      "\u001b[2K     \u001b[90m━━━━━━━━━━━━━━━━━━━━━━━━━━━━━━━━━━━━━━━━\u001b[0m \u001b[32m6.3/6.3 MB\u001b[0m \u001b[31m27.3 MB/s\u001b[0m eta \u001b[36m0:00:00\u001b[0m00:01\u001b[0m00:01\u001b[0m\n",
      "\u001b[?25hCollecting wasabi<1.2.0,>=0.9.1\n",
      "  Using cached wasabi-1.1.3-py3-none-any.whl (27 kB)\n",
      "Requirement already satisfied: numpy>=1.19.0 in /Users/timon/.pyenv/versions/3.9.21/envs/nlp/lib/python3.9/site-packages (from spacy[apple]) (2.0.2)\n",
      "Collecting thinc<8.4.0,>=8.3.0\n",
      "  Downloading thinc-8.3.4-cp39-cp39-macosx_11_0_arm64.whl (780 kB)\n",
      "\u001b[2K     \u001b[90m━━━━━━━━━━━━━━━━━━━━━━━━━━━━━━━━━━━━━━\u001b[0m \u001b[32m780.8/780.8 kB\u001b[0m \u001b[31m34.7 MB/s\u001b[0m eta \u001b[36m0:00:00\u001b[0m\n",
      "\u001b[?25hCollecting catalogue<2.1.0,>=2.0.6\n",
      "  Using cached catalogue-2.0.10-py3-none-any.whl (17 kB)\n",
      "Collecting murmurhash<1.1.0,>=0.28.0\n",
      "  Downloading murmurhash-1.0.12-cp39-cp39-macosx_11_0_arm64.whl (26 kB)\n",
      "Requirement already satisfied: tqdm<5.0.0,>=4.38.0 in /Users/timon/.pyenv/versions/3.9.21/envs/nlp/lib/python3.9/site-packages (from spacy[apple]) (4.67.1)\n",
      "Requirement already satisfied: jinja2 in /Users/timon/.pyenv/versions/3.9.21/envs/nlp/lib/python3.9/site-packages (from spacy[apple]) (3.1.5)\n",
      "Collecting spacy-loggers<2.0.0,>=1.0.0\n",
      "  Using cached spacy_loggers-1.0.5-py3-none-any.whl (22 kB)\n",
      "Requirement already satisfied: packaging>=20.0 in /Users/timon/.pyenv/versions/3.9.21/envs/nlp/lib/python3.9/site-packages (from spacy[apple]) (24.2)\n",
      "Collecting typer<1.0.0,>=0.3.0\n",
      "  Using cached typer-0.15.1-py3-none-any.whl (44 kB)\n",
      "Collecting preshed<3.1.0,>=3.0.2\n",
      "  Downloading preshed-3.0.9-cp39-cp39-macosx_11_0_arm64.whl (129 kB)\n",
      "\u001b[2K     \u001b[90m━━━━━━━━━━━━━━━━━━━━━━━━━━━━━━━━━━━━━━\u001b[0m \u001b[32m129.1/129.1 kB\u001b[0m \u001b[31m17.4 MB/s\u001b[0m eta \u001b[36m0:00:00\u001b[0m\n",
      "\u001b[?25hCollecting langcodes<4.0.0,>=3.2.0\n",
      "  Using cached langcodes-3.5.0-py3-none-any.whl (182 kB)\n",
      "Requirement already satisfied: setuptools in /Users/timon/.pyenv/versions/3.9.21/envs/nlp/lib/python3.9/site-packages (from spacy[apple]) (58.1.0)\n",
      "Collecting spacy-legacy<3.1.0,>=3.0.11\n",
      "  Using cached spacy_legacy-3.0.12-py2.py3-none-any.whl (29 kB)\n",
      "Collecting srsly<3.0.0,>=2.4.3\n",
      "  Downloading srsly-2.5.1-cp39-cp39-macosx_11_0_arm64.whl (635 kB)\n",
      "\u001b[2K     \u001b[90m━━━━━━━━━━━━━━━━━━━━━━━━━━━━━━━━━━━━━━\u001b[0m \u001b[32m635.7/635.7 kB\u001b[0m \u001b[31m38.1 MB/s\u001b[0m eta \u001b[36m0:00:00\u001b[0m\n",
      "\u001b[?25hRequirement already satisfied: pydantic!=1.8,!=1.8.1,<3.0.0,>=1.7.4 in /Users/timon/.pyenv/versions/3.9.21/envs/nlp/lib/python3.9/site-packages (from spacy[apple]) (2.10.6)\n",
      "Requirement already satisfied: requests<3.0.0,>=2.13.0 in /Users/timon/.pyenv/versions/3.9.21/envs/nlp/lib/python3.9/site-packages (from spacy[apple]) (2.32.3)\n",
      "Collecting cymem<2.1.0,>=2.0.2\n",
      "  Downloading cymem-2.0.11-cp39-cp39-macosx_11_0_arm64.whl (42 kB)\n",
      "\u001b[2K     \u001b[90m━━━━━━━━━━━━━━━━━━━━━━━━━━━━━━━━━━━━━━━━\u001b[0m \u001b[32m42.2/42.2 kB\u001b[0m \u001b[31m7.3 MB/s\u001b[0m eta \u001b[36m0:00:00\u001b[0m\n",
      "\u001b[?25hCollecting weasel<0.5.0,>=0.1.0\n",
      "  Using cached weasel-0.4.1-py3-none-any.whl (50 kB)\n",
      "Collecting thinc-apple-ops<2.0.0,>=1.0.0\n",
      "  Downloading thinc_apple_ops-1.0.0-cp39-cp39-macosx_11_0_arm64.whl (157 kB)\n",
      "\u001b[2K     \u001b[90m━━━━━━━━━━━━━━━━━━━━━━━━━━━━━━━━━━━━━━\u001b[0m \u001b[32m157.5/157.5 kB\u001b[0m \u001b[31m24.9 MB/s\u001b[0m eta \u001b[36m0:00:00\u001b[0m\n",
      "\u001b[?25hCollecting language-data>=1.2\n",
      "  Using cached language_data-1.3.0-py3-none-any.whl (5.4 MB)\n",
      "Requirement already satisfied: pydantic-core==2.27.2 in /Users/timon/.pyenv/versions/3.9.21/envs/nlp/lib/python3.9/site-packages (from pydantic!=1.8,!=1.8.1,<3.0.0,>=1.7.4->spacy[apple]) (2.27.2)\n",
      "Requirement already satisfied: annotated-types>=0.6.0 in /Users/timon/.pyenv/versions/3.9.21/envs/nlp/lib/python3.9/site-packages (from pydantic!=1.8,!=1.8.1,<3.0.0,>=1.7.4->spacy[apple]) (0.7.0)\n",
      "Requirement already satisfied: typing-extensions>=4.12.2 in /Users/timon/.pyenv/versions/3.9.21/envs/nlp/lib/python3.9/site-packages (from pydantic!=1.8,!=1.8.1,<3.0.0,>=1.7.4->spacy[apple]) (4.12.2)\n",
      "Requirement already satisfied: urllib3<3,>=1.21.1 in /Users/timon/.pyenv/versions/3.9.21/envs/nlp/lib/python3.9/site-packages (from requests<3.0.0,>=2.13.0->spacy[apple]) (2.3.0)\n",
      "Requirement already satisfied: certifi>=2017.4.17 in /Users/timon/.pyenv/versions/3.9.21/envs/nlp/lib/python3.9/site-packages (from requests<3.0.0,>=2.13.0->spacy[apple]) (2025.1.31)\n",
      "Requirement already satisfied: charset-normalizer<4,>=2 in /Users/timon/.pyenv/versions/3.9.21/envs/nlp/lib/python3.9/site-packages (from requests<3.0.0,>=2.13.0->spacy[apple]) (3.4.1)\n",
      "Requirement already satisfied: idna<4,>=2.5 in /Users/timon/.pyenv/versions/3.9.21/envs/nlp/lib/python3.9/site-packages (from requests<3.0.0,>=2.13.0->spacy[apple]) (3.10)\n",
      "Collecting confection<1.0.0,>=0.0.1\n",
      "  Using cached confection-0.1.5-py3-none-any.whl (35 kB)\n",
      "Collecting blis<1.3.0,>=1.2.0\n",
      "  Downloading blis-1.2.0-cp39-cp39-macosx_11_0_arm64.whl (1.3 MB)\n",
      "\u001b[2K     \u001b[90m━━━━━━━━━━━━━━━━━━━━━━━━━━━━━━━━━━━━━━━━\u001b[0m \u001b[32m1.3/1.3 MB\u001b[0m \u001b[31m28.9 MB/s\u001b[0m eta \u001b[36m0:00:00\u001b[0m00:01\u001b[0m\n",
      "\u001b[?25hCollecting shellingham>=1.3.0\n",
      "  Using cached shellingham-1.5.4-py2.py3-none-any.whl (9.8 kB)\n",
      "Requirement already satisfied: click>=8.0.0 in /Users/timon/.pyenv/versions/3.9.21/envs/nlp/lib/python3.9/site-packages (from typer<1.0.0,>=0.3.0->spacy[apple]) (8.1.8)\n",
      "Collecting rich>=10.11.0\n",
      "  Using cached rich-13.9.4-py3-none-any.whl (242 kB)\n",
      "Collecting smart-open<8.0.0,>=5.2.1\n",
      "  Using cached smart_open-7.1.0-py3-none-any.whl (61 kB)\n",
      "Collecting cloudpathlib<1.0.0,>=0.7.0\n",
      "  Using cached cloudpathlib-0.20.0-py3-none-any.whl (52 kB)\n",
      "Requirement already satisfied: MarkupSafe>=2.0 in /Users/timon/.pyenv/versions/3.9.21/envs/nlp/lib/python3.9/site-packages (from jinja2->spacy[apple]) (3.0.2)\n",
      "Collecting marisa-trie>=1.1.0\n",
      "  Downloading marisa_trie-1.2.1-cp39-cp39-macosx_11_0_arm64.whl (175 kB)\n",
      "\u001b[2K     \u001b[90m━━━━━━━━━━━━━━━━━━━━━━━━━━━━━━━━━━━━━━\u001b[0m \u001b[32m175.1/175.1 kB\u001b[0m \u001b[31m17.6 MB/s\u001b[0m eta \u001b[36m0:00:00\u001b[0m\n",
      "\u001b[?25hRequirement already satisfied: pygments<3.0.0,>=2.13.0 in /Users/timon/.pyenv/versions/3.9.21/envs/nlp/lib/python3.9/site-packages (from rich>=10.11.0->typer<1.0.0,>=0.3.0->spacy[apple]) (2.19.1)\n",
      "Collecting markdown-it-py>=2.2.0\n",
      "  Using cached markdown_it_py-3.0.0-py3-none-any.whl (87 kB)\n",
      "Collecting wrapt\n",
      "  Downloading wrapt-1.17.2-cp39-cp39-macosx_11_0_arm64.whl (38 kB)\n",
      "Collecting mdurl~=0.1\n",
      "  Using cached mdurl-0.1.2-py3-none-any.whl (10.0 kB)\n",
      "Installing collected packages: cymem, wrapt, wasabi, spacy-loggers, spacy-legacy, shellingham, murmurhash, mdurl, marisa-trie, cloudpathlib, catalogue, blis, srsly, smart-open, preshed, markdown-it-py, language-data, rich, langcodes, confection, typer, thinc, weasel, thinc-apple-ops, spacy\n",
      "Successfully installed blis-1.2.0 catalogue-2.0.10 cloudpathlib-0.20.0 confection-0.1.5 cymem-2.0.11 langcodes-3.5.0 language-data-1.3.0 marisa-trie-1.2.1 markdown-it-py-3.0.0 mdurl-0.1.2 murmurhash-1.0.12 preshed-3.0.9 rich-13.9.4 shellingham-1.5.4 smart-open-7.1.0 spacy-3.8.3 spacy-legacy-3.0.12 spacy-loggers-1.0.5 srsly-2.5.1 thinc-8.3.4 thinc-apple-ops-1.0.0 typer-0.15.1 wasabi-1.1.3 weasel-0.4.1 wrapt-1.17.2\n",
      "\n",
      "\u001b[1m[\u001b[0m\u001b[34;49mnotice\u001b[0m\u001b[1;39;49m]\u001b[0m\u001b[39;49m A new release of pip is available: \u001b[0m\u001b[31;49m23.0.1\u001b[0m\u001b[39;49m -> \u001b[0m\u001b[32;49m25.0.1\u001b[0m\n",
      "\u001b[1m[\u001b[0m\u001b[34;49mnotice\u001b[0m\u001b[1;39;49m]\u001b[0m\u001b[39;49m To update, run: \u001b[0m\u001b[32;49mpip install --upgrade pip\u001b[0m\n",
      "Note: you may need to restart the kernel to use updated packages.\n",
      "Collecting en-core-web-sm==3.8.0\n",
      "  Downloading https://github.com/explosion/spacy-models/releases/download/en_core_web_sm-3.8.0/en_core_web_sm-3.8.0-py3-none-any.whl (12.8 MB)\n",
      "\u001b[2K     \u001b[90m━━━━━━━━━━━━━━━━━━━━━━━━━━━━━━━━━━━━━━━━\u001b[0m \u001b[32m12.8/12.8 MB\u001b[0m \u001b[31m14.4 MB/s\u001b[0m eta \u001b[36m0:00:00\u001b[0m00:01\u001b[0m00:01\u001b[0m\n",
      "\u001b[?25hInstalling collected packages: en-core-web-sm\n",
      "Successfully installed en-core-web-sm-3.8.0\n",
      "\n",
      "\u001b[1m[\u001b[0m\u001b[34;49mnotice\u001b[0m\u001b[1;39;49m]\u001b[0m\u001b[39;49m A new release of pip is available: \u001b[0m\u001b[31;49m23.0.1\u001b[0m\u001b[39;49m -> \u001b[0m\u001b[32;49m25.0.1\u001b[0m\n",
      "\u001b[1m[\u001b[0m\u001b[34;49mnotice\u001b[0m\u001b[1;39;49m]\u001b[0m\u001b[39;49m To update, run: \u001b[0m\u001b[32;49mpip install --upgrade pip\u001b[0m\n",
      "\u001b[38;5;2m✔ Download and installation successful\u001b[0m\n",
      "You can now load the package via spacy.load('en_core_web_sm')\n"
     ]
    }
   ],
   "source": [
    "import os\n",
    "os.environ[\"TOKENIZERS_PARALLELISM\"] = \"false\"\n",
    "\n",
    "%pip install setuptools wheel\n",
    "%pip install 'spacy[apple]'\n",
    "!python -m spacy download en_core_web_sm"
   ]
  },
  {
   "cell_type": "markdown",
   "id": "5ce37219",
   "metadata": {},
   "source": [
    "*(You may have to restart your kernel after installing spacy.)*\n",
    "\n",
    "We can now load the NLP pipeline from the small model."
   ]
  },
  {
   "cell_type": "code",
   "execution_count": 19,
   "id": "ef7c3812",
   "metadata": {},
   "outputs": [],
   "source": [
    "import spacy\n",
    "pipeline = spacy.load('en_core_web_sm')\n",
    "doc = pipeline('Apple is looking at buying U.K. startup for $1 billion.')"
   ]
  },
  {
   "attachments": {},
   "cell_type": "markdown",
   "id": "ebf94fec",
   "metadata": {},
   "source": [
    "The `doc` object has now tokenized our sentence and ran the NLP pipeline on it, as shown in this image:\n",
    "![spacy pipeline](https://spacy.io/images/pipeline.svg)\n",
    "\n",
    "Use the 101 guide to display the following information about each token.\n",
    "- Text: The original word text.\n",
    "- Lemma: The base form of the word.\n",
    "- POS: The simple [UPOS](https://universaldependencies.org/u/pos/) part-of-speech tag.\n",
    "- Tag: The detailed part-of-speech tag.\n",
    "- Dep: Syntactic dependency, i.e. the relation between tokens.\n",
    "- Shape: The word shape – capitalization, punctuation, digits.\n",
    "- is stopword: Is the token part of a stop list, i.e. the most common words of the language?"
   ]
  },
  {
   "cell_type": "code",
   "execution_count": 20,
   "id": "cd87b5d5",
   "metadata": {},
   "outputs": [
    {
     "name": "stdout",
     "output_type": "stream",
     "text": [
      "Apple Apple PROPN NNP nsubj Xxxxx False\n",
      "is be AUX VBZ aux xx True\n",
      "looking look VERB VBG ROOT xxxx False\n",
      "at at ADP IN prep xx True\n",
      "buying buy VERB VBG pcomp xxxx False\n",
      "U.K. U.K. PROPN NNP nsubj X.X. False\n",
      "startup startup VERB VBD ccomp xxxx False\n",
      "for for ADP IN prep xxx True\n",
      "$ $ SYM $ quantmod $ False\n",
      "1 1 NUM CD compound d False\n",
      "billion billion NUM CD pobj xxxx False\n",
      ". . PUNCT . punct . False\n"
     ]
    }
   ],
   "source": [
    "for token in doc:\n",
    "    print(token.text, token.lemma_, token.pos_, token.tag_, token.dep_, token.shape_, token.is_stop)"
   ]
  },
  {
   "cell_type": "markdown",
   "id": "41f3326a",
   "metadata": {},
   "source": [
    "Looking at the named entities in `doc`, print the following information:\n",
    "- The token's text\n",
    "- The start index of the named entity\n",
    "- Its end index\n",
    "- The NER label"
   ]
  },
  {
   "cell_type": "code",
   "execution_count": 21,
   "id": "40d7418a",
   "metadata": {},
   "outputs": [
    {
     "name": "stdout",
     "output_type": "stream",
     "text": [
      "Apple 0 5 ORG\n",
      "U.K. 27 31 GPE\n",
      "$1 billion 44 54 MONEY\n"
     ]
    }
   ],
   "source": [
    "for ent in doc.ents:\n",
    "    print(ent.text, ent.start_char, ent.end_char, ent.label_)"
   ]
  },
  {
   "cell_type": "markdown",
   "id": "decfbf10",
   "metadata": {},
   "source": [
    "**Question:** Search the internet for a description of the entity labels `FAC`, `ORG`, `GPE` and `LOC`."
   ]
  },
  {
   "cell_type": "markdown",
   "id": "672d6e3e",
   "metadata": {},
   "source": [
    "**Answer:**"
   ]
  },
  {
   "cell_type": "markdown",
   "id": "9c69d1b3",
   "metadata": {},
   "source": []
  }
 ],
 "metadata": {
  "kernelspec": {
   "display_name": "nlp",
   "language": "python",
   "name": "python3"
  },
  "language_info": {
   "codemirror_mode": {
    "name": "ipython",
    "version": 3
   },
   "file_extension": ".py",
   "mimetype": "text/x-python",
   "name": "python",
   "nbconvert_exporter": "python",
   "pygments_lexer": "ipython3",
   "version": "3.9.21"
  }
 },
 "nbformat": 4,
 "nbformat_minor": 5
}
