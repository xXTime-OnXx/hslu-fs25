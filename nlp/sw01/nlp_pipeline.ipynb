{
 "cells": [
  {
   "cell_type": "markdown",
   "id": "40427979",
   "metadata": {},
   "source": [
    "# NLP Pipeline\n",
    "We will learn some basic operations of the NLP pipelines with the help of two libraries, NLTK and spaCy. These will prove useful in your project for tasks such as preprocessing."
   ]
  },
  {
   "cell_type": "code",
   "execution_count": 1,
   "id": "144162dd",
   "metadata": {},
   "outputs": [
    {
     "name": "stdout",
     "output_type": "stream",
     "text": [
      "\n",
      "\u001b[1m[\u001b[0m\u001b[34;49mnotice\u001b[0m\u001b[1;39;49m]\u001b[0m\u001b[39;49m A new release of pip is available: \u001b[0m\u001b[31;49m24.3.1\u001b[0m\u001b[39;49m -> \u001b[0m\u001b[32;49m25.0.1\u001b[0m\n",
      "\u001b[1m[\u001b[0m\u001b[34;49mnotice\u001b[0m\u001b[1;39;49m]\u001b[0m\u001b[39;49m To update, run: \u001b[0m\u001b[32;49mpip install --upgrade pip\u001b[0m\n",
      "Note: you may need to restart the kernel to use updated packages.\n"
     ]
    }
   ],
   "source": [
    "%pip install -q nltk matplotlib"
   ]
  },
  {
   "cell_type": "markdown",
   "id": "8333d6fa",
   "metadata": {},
   "source": [
    "## NLTK\n",
    "We will use [Chapter 3 of the introductory manual of NLTK](https://www.nltk.org/book/ch03.html) to solve the following exercises.\n",
    "\n",
    "First, use the interactive downloader to get the *gutenberg* book corpus (in the *Corpora* tab). Take a moment to admire the amazing user interface."
   ]
  },
  {
   "cell_type": "code",
   "execution_count": 2,
   "id": "d6d021c0",
   "metadata": {},
   "outputs": [
    {
     "name": "stderr",
     "output_type": "stream",
     "text": [
      "[nltk_data] Downloading package gutenberg to /Users/timon/nltk_data...\n",
      "[nltk_data]   Unzipping corpora/gutenberg.zip.\n"
     ]
    },
    {
     "data": {
      "text/plain": [
       "True"
      ]
     },
     "execution_count": 2,
     "metadata": {},
     "output_type": "execute_result"
    }
   ],
   "source": [
    "import nltk\n",
    "nltk.download('gutenberg')"
   ]
  },
  {
   "cell_type": "markdown",
   "id": "3c9da622",
   "metadata": {},
   "source": [
    "NLTK automatically saves its files in the `nltk_data` folder in your home directory. (Windows users: Maybe it's in your `Documents`?)\n",
    "\n",
    "We load the raw text of the first book in the corpus."
   ]
  },
  {
   "cell_type": "code",
   "execution_count": 3,
   "id": "977b230b",
   "metadata": {},
   "outputs": [
    {
     "name": "stdout",
     "output_type": "stream",
     "text": [
      "887071\n"
     ]
    }
   ],
   "source": [
    "from nltk.corpus import gutenberg\n",
    "raw_text = gutenberg.raw('austen-emma.txt')\n",
    "print(len(raw_text))"
   ]
  },
  {
   "cell_type": "markdown",
   "id": "8fb99b02",
   "metadata": {},
   "source": [
    "To use nltk's tokenization, we need to download the `punkt_tab` resource."
   ]
  },
  {
   "cell_type": "code",
   "execution_count": 4,
   "id": "779c157c",
   "metadata": {},
   "outputs": [
    {
     "name": "stderr",
     "output_type": "stream",
     "text": [
      "[nltk_data] Downloading package punkt_tab to /Users/timon/nltk_data...\n",
      "[nltk_data]   Unzipping tokenizers/punkt_tab.zip.\n"
     ]
    },
    {
     "data": {
      "text/plain": [
       "True"
      ]
     },
     "execution_count": 4,
     "metadata": {},
     "output_type": "execute_result"
    }
   ],
   "source": [
    "nltk.download('punkt_tab')"
   ]
  },
  {
   "cell_type": "markdown",
   "id": "bcb59b1d",
   "metadata": {},
   "source": [
    "Count the number of words and sentences in the book."
   ]
  },
  {
   "cell_type": "code",
   "execution_count": 8,
   "id": "015dbbf6",
   "metadata": {},
   "outputs": [
    {
     "name": "stdout",
     "output_type": "stream",
     "text": [
      "Words: 191855\n",
      "Sentences: 7493\n"
     ]
    }
   ],
   "source": [
    "print(\"Words: \" + str(len(nltk.word_tokenize(raw_text))))\n",
    "print(\"Sentences: \" + str(len(nltk.sent_tokenize(raw_text))))"
   ]
  },
  {
   "cell_type": "markdown",
   "id": "ef55d386",
   "metadata": {},
   "source": [
    "- Lowercase all words. \n",
    "- Count the number of unique lower-cased words in the book."
   ]
  },
  {
   "cell_type": "code",
   "execution_count": 11,
   "id": "e2028dd4",
   "metadata": {},
   "outputs": [
    {
     "name": "stdout",
     "output_type": "stream",
     "text": [
      "Unique Words: 7914\n"
     ]
    }
   ],
   "source": [
    "words = nltk.word_tokenize(raw_text.lower())\n",
    "\n",
    "print(f'Unique Words: {len(set(words))}')"
   ]
  },
  {
   "cell_type": "markdown",
   "id": "9f5a45a3",
   "metadata": {},
   "source": [
    "The total number of words is also called *tokens*, and the unique words are the *types*. (This is the same distinction as instance vs. class in software engineering.)\n",
    "\n",
    "We now perform *stemming* on the first 50 words of the text. We use the PorterStemmer (example usage [here](https://www.nltk.org/howto/stem.html)). Plot only the pairs of words that have changed after stemming."
   ]
  },
  {
   "cell_type": "code",
   "execution_count": 14,
   "id": "6ae02b60",
   "metadata": {},
   "outputs": [
    {
     "name": "stdout",
     "output_type": "stream",
     "text": [
      "volume volum\n",
      "woodhouse woodhous\n",
      "handsome handsom\n",
      "comfortable comfort\n",
      "happy happi\n",
      "disposition disposit\n",
      "seemed seem\n",
      "unite unit\n",
      "blessings bless\n",
      "existence exist\n",
      "lived live\n",
      "nearly nearli\n",
      "twenty-one twenty-on\n",
      "years year\n"
     ]
    }
   ],
   "source": [
    "stemmer = nltk.stem.porter.PorterStemmer()\n",
    "\n",
    "stemmed_words = [stemmer.stem(word) for word in words[:50]]\n",
    "for w_origin, w_stemmed in zip(words[:50], stemmed_words):\n",
    "    if w_origin != w_stemmed:\n",
    "        print(w_origin, w_stemmed)\n"
   ]
  },
  {
   "cell_type": "markdown",
   "id": "522cf088",
   "metadata": {},
   "source": [
    "Find the 10 most frequent words, together with their counts, using the `FreqDist` object from NLTK. Save it to a variable named `fdist`."
   ]
  },
  {
   "cell_type": "code",
   "execution_count": 17,
   "id": "425c26c7",
   "metadata": {},
   "outputs": [
    {
     "name": "stdout",
     "output_type": "stream",
     "text": [
      ", 12016\n",
      ". 6351\n",
      "the 5201\n",
      "to 5181\n",
      "and 4877\n",
      "of 4284\n",
      "i 3177\n",
      "a 3124\n",
      "-- 3100\n",
      "it 2503\n",
      "[('could', 836), ('would', 818)]\n"
     ]
    }
   ],
   "source": [
    "fdist = nltk.FreqDist(words)\n",
    "\n",
    "for word, count in fdist.most_common(10):\n",
    "    print(word, count)\n",
    "    \n",
    "print([(word, count) for word, count in fdist.most_common(50) if len(word) >= 5])"
   ]
  },
  {
   "cell_type": "markdown",
   "id": "abfc5cff",
   "metadata": {},
   "source": [
    "Run the below command to see the word counts vs. the words in the frequency distribution."
   ]
  },
  {
   "cell_type": "code",
   "execution_count": 18,
   "id": "7fbdd446",
   "metadata": {},
   "outputs": [
    {
     "data": {
      "text/plain": [
       "<Axes: xlabel='Samples', ylabel='Counts'>"
      ]
     },
     "execution_count": 18,
     "metadata": {},
     "output_type": "execute_result"
    },
    {
     "data": {
      "image/png": "[encoded data removed]",
      "text/plain": [
       "<Figure size 640x480 with 1 Axes>"
      ]
     },
     "metadata": {},
     "output_type": "display_data"
    }
   ],
   "source": [
    "fdist.plot(50)"
   ]
  },
  {
   "cell_type": "markdown",
   "id": "f776c7b9",
   "metadata": {},
   "source": [
    "This curve is characteristic of any natural (= human) language, and is known as [Zipf's law](https://en.wikipedia.org/wiki/Zipf%27s_law). It states that the frequency of a word is inversely proportional to its rank, i.e.:\n",
    "$$\\text{frequency}(x) \\propto \\frac{1}{\\text{rank}(x)}$$"
   ]
  },
  {
   "cell_type": "markdown",
   "id": "3444a5e9",
   "metadata": {},
   "source": [
    "## Hugging Face\n",
    "\n",
    "With Transformers (we will get to know them in more detail later in the course), tokenization has become part of the model itself. As opposed to `word_tokenize` in NLTK, Transformers use BPE tokenization.\n",
    "\n",
    "We first install Hugging Face's `transformers` library."
   ]
  },
  {
   "cell_type": "code",
   "execution_count": 19,
   "id": "2ac74dd3",
   "metadata": {},
   "outputs": [
    {
     "name": "stdout",
     "output_type": "stream",
     "text": [
      "\n",
      "\u001b[1m[\u001b[0m\u001b[34;49mnotice\u001b[0m\u001b[1;39;49m]\u001b[0m\u001b[39;49m A new release of pip is available: \u001b[0m\u001b[31;49m24.3.1\u001b[0m\u001b[39;49m -> \u001b[0m\u001b[32;49m25.0.1\u001b[0m\n",
      "\u001b[1m[\u001b[0m\u001b[34;49mnotice\u001b[0m\u001b[1;39;49m]\u001b[0m\u001b[39;49m To update, run: \u001b[0m\u001b[32;49mpip install --upgrade pip\u001b[0m\n",
      "Note: you may need to restart the kernel to use updated packages.\n"
     ]
    }
   ],
   "source": [
    "%pip install -q transformers ipywidgets"
   ]
  },
  {
   "cell_type": "markdown",
   "id": "54e8318c",
   "metadata": {},
   "source": [
    "Use the [model page of the base-uncased version of BERT](https://huggingface.co/google-bert/bert-base-uncased) to initialize a `BertTokenizer`."
   ]
  },
  {
   "cell_type": "code",
   "execution_count": 21,
   "id": "545492bd",
   "metadata": {},
   "outputs": [],
   "source": [
    "# from transformers import BertTokenizer\n",
    "# tokenizer = BertTokenizer.from_pretrained('google-bert/bert-base-uncased')\n",
    "\n",
    "from transformers import AutoTokenizer\n",
    "\n",
    "tokenizer = AutoTokenizer.from_pretrained('google-bert/bert-base-uncased')"
   ]
  },
  {
   "cell_type": "markdown",
   "id": "b177d372",
   "metadata": {},
   "source": [
    "We look at the first sentence of Jane Austen's Emma."
   ]
  },
  {
   "cell_type": "code",
   "execution_count": 22,
   "id": "e2eca187",
   "metadata": {},
   "outputs": [
    {
     "name": "stdout",
     "output_type": "stream",
     "text": [
      "Emma Woodhouse, handsome, clever, and rich, with a comfortable home and happy disposition, seemed to unite some of the best blessings of existence; and had lived nearly twenty-one years in the world with very little to distress or vex her.\n"
     ]
    }
   ],
   "source": [
    "sentence = nltk.sent_tokenize(raw_text)[0].split('\\n\\n\\n')[-1].replace('\\n', ' ')\n",
    "print(sentence)"
   ]
  },
  {
   "cell_type": "markdown",
   "id": "711cc14b",
   "metadata": {},
   "source": [
    "Encode the sentence. Look at the outputs of the following functions:\n",
    "- `tokenizer(sentence)`\n",
    "- `tokenizer.encode(sentence)`\n",
    "- `tokenizer.tokenize(sentence)`\n",
    "- `tokenizer.convert_tokens_to_ids(tokenizer.tokenize(sentence))`"
   ]
  },
  {
   "cell_type": "code",
   "execution_count": 29,
   "id": "b99ddc96",
   "metadata": {},
   "outputs": [
    {
     "data": {
      "text/plain": [
       "['emma',\n",
       " 'wood',\n",
       " '##house',\n",
       " ',',\n",
       " 'handsome',\n",
       " ',',\n",
       " 'clever',\n",
       " ',',\n",
       " 'and',\n",
       " 'rich',\n",
       " ',',\n",
       " 'with',\n",
       " 'a',\n",
       " 'comfortable',\n",
       " 'home',\n",
       " 'and',\n",
       " 'happy',\n",
       " 'disposition',\n",
       " ',',\n",
       " 'seemed',\n",
       " 'to',\n",
       " 'unite',\n",
       " 'some',\n",
       " 'of',\n",
       " 'the',\n",
       " 'best',\n",
       " 'blessings',\n",
       " 'of',\n",
       " 'existence',\n",
       " ';',\n",
       " 'and',\n",
       " 'had',\n",
       " 'lived',\n",
       " 'nearly',\n",
       " 'twenty',\n",
       " '-',\n",
       " 'one',\n",
       " 'years',\n",
       " 'in',\n",
       " 'the',\n",
       " 'world',\n",
       " 'with',\n",
       " 'very',\n",
       " 'little',\n",
       " 'to',\n",
       " 'distress',\n",
       " 'or',\n",
       " 've',\n",
       " '##x',\n",
       " 'her',\n",
       " '.']"
      ]
     },
     "execution_count": 29,
     "metadata": {},
     "output_type": "execute_result"
    }
   ],
   "source": [
    "tokenizer.tokenize(sentence)"
   ]
  },
  {
   "cell_type": "markdown",
   "id": "9b7629a8",
   "metadata": {},
   "source": [
    "**Decoding.** Check out the various ways of decoding: `.decode`, `.convert_ids_to_tokens`, `.convert_tokens_to_string`."
   ]
  },
  {
   "cell_type": "code",
   "execution_count": 34,
   "id": "9ad3b807",
   "metadata": {},
   "outputs": [
    {
     "name": "stdout",
     "output_type": "stream",
     "text": [
      "emma woodhouse, handsome, clever, and rich, with a comfortable home and happy disposition, seemed to unite some of the best blessings of existence ; and had lived nearly twenty - one years in the world with very little to distress or vex her.\n",
      "['[CLS]', 'emma', 'wood', '##house', ',', 'handsome', ',', 'clever', ',', 'and', 'rich', ',', 'with', 'a', 'comfortable', 'home', 'and', 'happy', 'disposition', ',', 'seemed', 'to', 'unite', 'some', 'of', 'the', 'best', 'blessings', 'of', 'existence', ';', 'and', 'had', 'lived', 'nearly', 'twenty', '-', 'one', 'years', 'in', 'the', 'world', 'with', 'very', 'little', 'to', 'distress', 'or', 've', '##x', 'her', '.', '[SEP]']\n",
      "emma woodhouse, handsome, clever, and rich, with a comfortable home and happy disposition, seemed to unite some of the best blessings of existence ; and had lived nearly twenty - one years in the world with very little to distress or vex her.\n"
     ]
    }
   ],
   "source": [
    "input_ids = tokenizer.encode(sentence)\n",
    "\n",
    "print(tokenizer.decode(input_ids, skip_special_tokens=True))\n",
    "print(tokenizer.convert_ids_to_tokens(input_ids))\n",
    "print(tokenizer.convert_tokens_to_string(tokenizer.tokenize(sentence)))"
   ]
  },
  {
   "cell_type": "markdown",
   "id": "b8673fdd",
   "metadata": {},
   "source": [
    "**Tokenization differences.** Compare the tokenization of NLTK, bert-base-uncased and [t5-small](https://huggingface.co/google-t5/t5-small)."
   ]
  },
  {
   "cell_type": "code",
   "execution_count": 44,
   "id": "810393f1",
   "metadata": {},
   "outputs": [],
   "source": [
    "t5_tokenizer = AutoTokenizer.from_pretrained('google-t5/t5-small')"
   ]
  },
  {
   "cell_type": "code",
   "execution_count": 45,
   "id": "efc8fb9f",
   "metadata": {},
   "outputs": [
    {
     "name": "stdout",
     "output_type": "stream",
     "text": [
      "['Emma', 'Woodhouse', ',', 'handsome', ',', 'clever', ',', 'and', 'rich', ',', 'with', 'a', 'comfortable', 'home', 'and', 'happy', 'disposition', ',', 'seemed', 'to', 'unite', 'some', 'of', 'the', 'best', 'blessings', 'of', 'existence', ';', 'and', 'had', 'lived', 'nearly', 'twenty-one', 'years', 'in', 'the', 'world', 'with', 'very', 'little', 'to', 'distress', 'or', 'vex', 'her', '.']\n",
      "['emma', 'wood', '##house', ',', 'handsome', ',', 'clever', ',', 'and', 'rich', ',', 'with', 'a', 'comfortable', 'home', 'and', 'happy', 'disposition', ',', 'seemed', 'to', 'unite', 'some', 'of', 'the', 'best', 'blessings', 'of', 'existence', ';', 'and', 'had', 'lived', 'nearly', 'twenty', '-', 'one', 'years', 'in', 'the', 'world', 'with', 'very', 'little', 'to', 'distress', 'or', 've', '##x', 'her', '.']\n",
      "['▁Emma', '▁Wood', 'house', ',', '▁handsome', ',', '▁clever', ',', '▁and', '▁rich', ',', '▁with', '▁', 'a', '▁comfortable', '▁home', '▁and', '▁happy', '▁disposition', ',', '▁seemed', '▁to', '▁unit', 'e', '▁some', '▁of', '▁the', '▁best', '▁blessing', 's', '▁of', '▁existence', ';', '▁and', '▁had', '▁lived', '▁nearly', '▁twenty', '-', 'one', '▁years', '▁in', '▁the', '▁world', '▁with', '▁very', '▁little', '▁to', '▁distress', '▁or', '▁', 've', 'x', '▁her', '.']\n"
     ]
    }
   ],
   "source": [
    "print(nltk.word_tokenize(sentence))\n",
    "print(tokenizer.tokenize(sentence))\n",
    "print(t5_tokenizer.tokenize(sentence))"
   ]
  },
  {
   "cell_type": "markdown",
   "id": "60559c74",
   "metadata": {},
   "source": [
    "Now `encode` and `decode` the sentence with all 3 tokenizers. Is the encoding/decoding lossless, i.e. do we recover the original sentence?"
   ]
  },
  {
   "cell_type": "code",
   "execution_count": 46,
   "id": "851fe7bf",
   "metadata": {},
   "outputs": [
    {
     "name": "stdout",
     "output_type": "stream",
     "text": [
      "Emma Woodhouse , handsome , clever , and rich , with a comfortable home and happy disposition , seemed to unite some of the best blessings of existence ; and had lived nearly twenty-one years in the world with very little to distress or vex her .\n",
      "emma woodhouse, handsome, clever, and rich, with a comfortable home and happy disposition, seemed to unite some of the best blessings of existence ; and had lived nearly twenty - one years in the world with very little to distress or vex her.\n",
      "Emma Woodhouse, handsome, clever, and rich, with a comfortable home and happy disposition, seemed to unite some of the best blessings of existence; and had lived nearly twenty-one years in the world with very little to distress or vex her.\n"
     ]
    }
   ],
   "source": [
    "print(' '.join(nltk.word_tokenize(sentence)))\n",
    "print(tokenizer.decode(tokenizer.encode(sentence), skip_special_tokens=True))\n",
    "print(t5_tokenizer.decode(t5_tokenizer.encode(sentence), skip_special_tokens=True))"
   ]
  },
  {
   "cell_type": "markdown",
   "id": "89ab450c",
   "metadata": {},
   "source": [
    "## spaCy\n",
    "We will use the [spaCy 101 guide](https://spacy.io/usage/spacy-101) to familiarize ourselves with its capabilities. First we install and download the small core model for English."
   ]
  },
  {
   "cell_type": "code",
   "execution_count": 49,
   "id": "8500c142",
   "metadata": {},
   "outputs": [
    {
     "name": "stdout",
     "output_type": "stream",
     "text": [
      "Requirement already satisfied: setuptools in /Users/timon/.pyenv/versions/nlp/lib/python3.13/site-packages (75.8.0)\n",
      "Requirement already satisfied: wheel in /Users/timon/.pyenv/versions/nlp/lib/python3.13/site-packages (0.45.1)\n",
      "\n",
      "\u001b[1m[\u001b[0m\u001b[34;49mnotice\u001b[0m\u001b[1;39;49m]\u001b[0m\u001b[39;49m A new release of pip is available: \u001b[0m\u001b[31;49m24.3.1\u001b[0m\u001b[39;49m -> \u001b[0m\u001b[32;49m25.0.1\u001b[0m\n",
      "\u001b[1m[\u001b[0m\u001b[34;49mnotice\u001b[0m\u001b[1;39;49m]\u001b[0m\u001b[39;49m To update, run: \u001b[0m\u001b[32;49mpip install --upgrade pip\u001b[0m\n",
      "Note: you may need to restart the kernel to use updated packages.\n",
      "Collecting spacy[apple]\n",
      "  Using cached spacy-3.8.2.tar.gz (1.3 MB)\n",
      "  Installing build dependencies ... \u001b[?25lerror\n",
      "  \u001b[1;31merror\u001b[0m: \u001b[1msubprocess-exited-with-error\u001b[0m\n",
      "  \n",
      "  \u001b[31m×\u001b[0m \u001b[32mpip subprocess to install build dependencies\u001b[0m did not run successfully.\n",
      "  \u001b[31m│\u001b[0m exit code: \u001b[1;36m1\u001b[0m\n",
      "  \u001b[31m╰─>\u001b[0m \u001b[31m[453 lines of output]\u001b[0m\n",
      "  \u001b[31m   \u001b[0m Ignoring numpy: markers 'python_version < \"3.9\"' don't match your environment\n",
      "  \u001b[31m   \u001b[0m Collecting setuptools\n",
      "  \u001b[31m   \u001b[0m   Using cached setuptools-75.8.0-py3-none-any.whl.metadata (6.7 kB)\n",
      "  \u001b[31m   \u001b[0m Collecting cython<3.0,>=0.25\n",
      "  \u001b[31m   \u001b[0m   Using cached Cython-0.29.37-py2.py3-none-any.whl.metadata (3.1 kB)\n",
      "  \u001b[31m   \u001b[0m Collecting cymem<2.1.0,>=2.0.2\n",
      "  \u001b[31m   \u001b[0m   Using cached cymem-2.0.11-cp313-cp313-macosx_11_0_arm64.whl.metadata (8.5 kB)\n",
      "  \u001b[31m   \u001b[0m Collecting preshed<3.1.0,>=3.0.2\n",
      "  \u001b[31m   \u001b[0m   Using cached preshed-3.0.9-cp313-cp313-macosx_15_0_arm64.whl\n",
      "  \u001b[31m   \u001b[0m Collecting murmurhash<1.1.0,>=0.28.0\n",
      "  \u001b[31m   \u001b[0m   Using cached murmurhash-1.0.12-cp313-cp313-macosx_11_0_arm64.whl.metadata (2.1 kB)\n",
      "  \u001b[31m   \u001b[0m Collecting thinc<8.4.0,>=8.3.0\n",
      "  \u001b[31m   \u001b[0m   Using cached thinc-8.3.2.tar.gz (193 kB)\n",
      "  \u001b[31m   \u001b[0m   Installing build dependencies: started\n",
      "  \u001b[31m   \u001b[0m   Installing build dependencies: finished with status 'done'\n",
      "  \u001b[31m   \u001b[0m   Getting requirements to build wheel: started\n",
      "  \u001b[31m   \u001b[0m   Getting requirements to build wheel: finished with status 'done'\n",
      "  \u001b[31m   \u001b[0m   Preparing metadata (pyproject.toml): started\n",
      "  \u001b[31m   \u001b[0m   Preparing metadata (pyproject.toml): finished with status 'done'\n",
      "  \u001b[31m   \u001b[0m Collecting numpy<2.1.0,>=2.0.0\n",
      "  \u001b[31m   \u001b[0m   Using cached numpy-2.0.2-cp313-cp313-macosx_15_0_arm64.whl\n",
      "  \u001b[31m   \u001b[0m Collecting blis<1.1.0,>=1.0.0 (from thinc<8.4.0,>=8.3.0)\n",
      "  \u001b[31m   \u001b[0m   Using cached blis-1.0.2-cp313-cp313-macosx_11_0_arm64.whl.metadata (7.6 kB)\n",
      "  \u001b[31m   \u001b[0m Collecting wasabi<1.2.0,>=0.8.1 (from thinc<8.4.0,>=8.3.0)\n",
      "  \u001b[31m   \u001b[0m   Using cached wasabi-1.1.3-py3-none-any.whl.metadata (28 kB)\n",
      "  \u001b[31m   \u001b[0m Collecting srsly<3.0.0,>=2.4.0 (from thinc<8.4.0,>=8.3.0)\n",
      "  \u001b[31m   \u001b[0m   Using cached srsly-2.5.1-cp313-cp313-macosx_11_0_arm64.whl.metadata (19 kB)\n",
      "  \u001b[31m   \u001b[0m Collecting catalogue<2.1.0,>=2.0.4 (from thinc<8.4.0,>=8.3.0)\n",
      "  \u001b[31m   \u001b[0m   Using cached catalogue-2.0.10-py3-none-any.whl.metadata (14 kB)\n",
      "  \u001b[31m   \u001b[0m Collecting confection<1.0.0,>=0.0.1 (from thinc<8.4.0,>=8.3.0)\n",
      "  \u001b[31m   \u001b[0m   Using cached confection-0.1.5-py3-none-any.whl.metadata (19 kB)\n",
      "  \u001b[31m   \u001b[0m Collecting pydantic!=1.8,!=1.8.1,<3.0.0,>=1.7.4 (from thinc<8.4.0,>=8.3.0)\n",
      "  \u001b[31m   \u001b[0m   Using cached pydantic-2.10.6-py3-none-any.whl.metadata (30 kB)\n",
      "  \u001b[31m   \u001b[0m Collecting packaging>=20.0 (from thinc<8.4.0,>=8.3.0)\n",
      "  \u001b[31m   \u001b[0m   Using cached packaging-24.2-py3-none-any.whl.metadata (3.2 kB)\n",
      "  \u001b[31m   \u001b[0m Collecting annotated-types>=0.6.0 (from pydantic!=1.8,!=1.8.1,<3.0.0,>=1.7.4->thinc<8.4.0,>=8.3.0)\n",
      "  \u001b[31m   \u001b[0m   Using cached annotated_types-0.7.0-py3-none-any.whl.metadata (15 kB)\n",
      "  \u001b[31m   \u001b[0m Collecting pydantic-core==2.27.2 (from pydantic!=1.8,!=1.8.1,<3.0.0,>=1.7.4->thinc<8.4.0,>=8.3.0)\n",
      "  \u001b[31m   \u001b[0m   Using cached pydantic_core-2.27.2-cp313-cp313-macosx_11_0_arm64.whl.metadata (6.6 kB)\n",
      "  \u001b[31m   \u001b[0m Collecting typing-extensions>=4.12.2 (from pydantic!=1.8,!=1.8.1,<3.0.0,>=1.7.4->thinc<8.4.0,>=8.3.0)\n",
      "  \u001b[31m   \u001b[0m   Using cached typing_extensions-4.12.2-py3-none-any.whl.metadata (3.0 kB)\n",
      "  \u001b[31m   \u001b[0m Using cached setuptools-75.8.0-py3-none-any.whl (1.2 MB)\n",
      "  \u001b[31m   \u001b[0m Using cached Cython-0.29.37-py2.py3-none-any.whl (989 kB)\n",
      "  \u001b[31m   \u001b[0m Using cached cymem-2.0.11-cp313-cp313-macosx_11_0_arm64.whl (41 kB)\n",
      "  \u001b[31m   \u001b[0m Using cached murmurhash-1.0.12-cp313-cp313-macosx_11_0_arm64.whl (26 kB)\n",
      "  \u001b[31m   \u001b[0m Using cached blis-1.0.2-cp313-cp313-macosx_11_0_arm64.whl (1.1 MB)\n",
      "  \u001b[31m   \u001b[0m Using cached catalogue-2.0.10-py3-none-any.whl (17 kB)\n",
      "  \u001b[31m   \u001b[0m Using cached confection-0.1.5-py3-none-any.whl (35 kB)\n",
      "  \u001b[31m   \u001b[0m Using cached packaging-24.2-py3-none-any.whl (65 kB)\n",
      "  \u001b[31m   \u001b[0m Using cached pydantic-2.10.6-py3-none-any.whl (431 kB)\n",
      "  \u001b[31m   \u001b[0m Using cached pydantic_core-2.27.2-cp313-cp313-macosx_11_0_arm64.whl (1.8 MB)\n",
      "  \u001b[31m   \u001b[0m Using cached srsly-2.5.1-cp313-cp313-macosx_11_0_arm64.whl (632 kB)\n",
      "  \u001b[31m   \u001b[0m Using cached wasabi-1.1.3-py3-none-any.whl (27 kB)\n",
      "  \u001b[31m   \u001b[0m Using cached annotated_types-0.7.0-py3-none-any.whl (13 kB)\n",
      "  \u001b[31m   \u001b[0m Using cached typing_extensions-4.12.2-py3-none-any.whl (37 kB)\n",
      "  \u001b[31m   \u001b[0m Building wheels for collected packages: thinc\n",
      "  \u001b[31m   \u001b[0m   Building wheel for thinc (pyproject.toml): started\n",
      "  \u001b[31m   \u001b[0m   Building wheel for thinc (pyproject.toml): finished with status 'error'\n",
      "  \u001b[31m   \u001b[0m   \u001b[1;31merror\u001b[0m: \u001b[1msubprocess-exited-with-error\u001b[0m\n",
      "  \u001b[31m   \u001b[0m \n",
      "  \u001b[31m   \u001b[0m   \u001b[31m×\u001b[0m \u001b[32mBuilding wheel for thinc \u001b[0m\u001b[1;32m(\u001b[0m\u001b[32mpyproject.toml\u001b[0m\u001b[1;32m)\u001b[0m did not run successfully.\n",
      "  \u001b[31m   \u001b[0m   \u001b[31m│\u001b[0m exit code: \u001b[1;36m1\u001b[0m\n",
      "  \u001b[31m   \u001b[0m   \u001b[31m╰─>\u001b[0m \u001b[31m[383 lines of output]\u001b[0m\n",
      "  \u001b[31m   \u001b[0m   \u001b[31m   \u001b[0m Cythonizing sources\n",
      "  \u001b[31m   \u001b[0m   \u001b[31m   \u001b[0m running bdist_wheel\n",
      "  \u001b[31m   \u001b[0m   \u001b[31m   \u001b[0m running build\n",
      "  \u001b[31m   \u001b[0m   \u001b[31m   \u001b[0m running build_py\n",
      "  \u001b[31m   \u001b[0m   \u001b[31m   \u001b[0m creating build/lib.macosx-15.0-arm64-cpython-313/thinc\n",
      "  \u001b[31m   \u001b[0m   \u001b[31m   \u001b[0m copying thinc/config.py -> build/lib.macosx-15.0-arm64-cpython-313/thinc\n",
      "  \u001b[31m   \u001b[0m   \u001b[31m   \u001b[0m copying thinc/compat.py -> build/lib.macosx-15.0-arm64-cpython-313/thinc\n",
      "  \u001b[31m   \u001b[0m   \u001b[31m   \u001b[0m copying thinc/util.py -> build/lib.macosx-15.0-arm64-cpython-313/thinc\n",
      "  \u001b[31m   \u001b[0m   \u001b[31m   \u001b[0m copying thinc/__init__.py -> build/lib.macosx-15.0-arm64-cpython-313/thinc\n",
      "  \u001b[31m   \u001b[0m   \u001b[31m   \u001b[0m copying thinc/mypy.py -> build/lib.macosx-15.0-arm64-cpython-313/thinc\n",
      "  \u001b[31m   \u001b[0m   \u001b[31m   \u001b[0m copying thinc/types.py -> build/lib.macosx-15.0-arm64-cpython-313/thinc\n",
      "  \u001b[31m   \u001b[0m   \u001b[31m   \u001b[0m copying thinc/about.py -> build/lib.macosx-15.0-arm64-cpython-313/thinc\n",
      "  \u001b[31m   \u001b[0m   \u001b[31m   \u001b[0m copying thinc/model.py -> build/lib.macosx-15.0-arm64-cpython-313/thinc\n",
      "  \u001b[31m   \u001b[0m   \u001b[31m   \u001b[0m copying thinc/optimizers.py -> build/lib.macosx-15.0-arm64-cpython-313/thinc\n",
      "  \u001b[31m   \u001b[0m   \u001b[31m   \u001b[0m copying thinc/api.py -> build/lib.macosx-15.0-arm64-cpython-313/thinc\n",
      "  \u001b[31m   \u001b[0m   \u001b[31m   \u001b[0m copying thinc/loss.py -> build/lib.macosx-15.0-arm64-cpython-313/thinc\n",
      "  \u001b[31m   \u001b[0m   \u001b[31m   \u001b[0m copying thinc/initializers.py -> build/lib.macosx-15.0-arm64-cpython-313/thinc\n",
      "  \u001b[31m   \u001b[0m   \u001b[31m   \u001b[0m copying thinc/schedules.py -> build/lib.macosx-15.0-arm64-cpython-313/thinc\n",
      "  \u001b[31m   \u001b[0m   \u001b[31m   \u001b[0m creating build/lib.macosx-15.0-arm64-cpython-313/thinc/layers\n",
      "  \u001b[31m   \u001b[0m   \u001b[31m   \u001b[0m copying thinc/layers/remap_ids.py -> build/lib.macosx-15.0-arm64-cpython-313/thinc/layers\n",
      "  \u001b[31m   \u001b[0m   \u001b[31m   \u001b[0m copying thinc/layers/with_debug.py -> build/lib.macosx-15.0-arm64-cpython-313/thinc/layers\n",
      "  \u001b[31m   \u001b[0m   \u001b[31m   \u001b[0m copying thinc/layers/mxnetwrapper.py -> build/lib.macosx-15.0-arm64-cpython-313/thinc/layers\n",
      "  \u001b[31m   \u001b[0m   \u001b[31m   \u001b[0m copying thinc/layers/siamese.py -> build/lib.macosx-15.0-arm64-cpython-313/thinc/layers\n",
      "  \u001b[31m   \u001b[0m   \u001b[31m   \u001b[0m copying thinc/layers/concatenate.py -> build/lib.macosx-15.0-arm64-cpython-313/thinc/layers\n",
      "  \u001b[31m   \u001b[0m   \u001b[31m   \u001b[0m copying thinc/layers/reduce_sum.py -> build/lib.macosx-15.0-arm64-cpython-313/thinc/layers\n",
      "  \u001b[31m   \u001b[0m   \u001b[31m   \u001b[0m copying thinc/layers/softmax_activation.py -> build/lib.macosx-15.0-arm64-cpython-313/thinc/layers\n",
      "  \u001b[31m   \u001b[0m   \u001b[31m   \u001b[0m copying thinc/layers/hashembed.py -> build/lib.macosx-15.0-arm64-cpython-313/thinc/layers\n",
      "  \u001b[31m   \u001b[0m   \u001b[31m   \u001b[0m copying thinc/layers/expand_window.py -> build/lib.macosx-15.0-arm64-cpython-313/thinc/layers\n",
      "  \u001b[31m   \u001b[0m   \u001b[31m   \u001b[0m copying thinc/layers/list2padded.py -> build/lib.macosx-15.0-arm64-cpython-313/thinc/layers\n",
      "  \u001b[31m   \u001b[0m   \u001b[31m   \u001b[0m copying thinc/layers/with_padded.py -> build/lib.macosx-15.0-arm64-cpython-313/thinc/layers\n",
      "  \u001b[31m   \u001b[0m   \u001b[31m   \u001b[0m copying thinc/layers/with_nvtx_range.py -> build/lib.macosx-15.0-arm64-cpython-313/thinc/layers\n",
      "  \u001b[31m   \u001b[0m   \u001b[31m   \u001b[0m copying thinc/layers/layernorm.py -> build/lib.macosx-15.0-arm64-cpython-313/thinc/layers\n",
      "  \u001b[31m   \u001b[0m   \u001b[31m   \u001b[0m copying thinc/layers/maxout.py -> build/lib.macosx-15.0-arm64-cpython-313/thinc/layers\n",
      "  \u001b[31m   \u001b[0m   \u001b[31m   \u001b[0m copying thinc/layers/add.py -> build/lib.macosx-15.0-arm64-cpython-313/thinc/layers\n",
      "  \u001b[31m   \u001b[0m   \u001b[31m   \u001b[0m copying thinc/layers/embed.py -> build/lib.macosx-15.0-arm64-cpython-313/thinc/layers\n",
      "  \u001b[31m   \u001b[0m   \u001b[31m   \u001b[0m copying thinc/layers/residual.py -> build/lib.macosx-15.0-arm64-cpython-313/thinc/layers\n",
      "  \u001b[31m   \u001b[0m   \u001b[31m   \u001b[0m copying thinc/layers/reduce_first.py -> build/lib.macosx-15.0-arm64-cpython-313/thinc/layers\n",
      "  \u001b[31m   \u001b[0m   \u001b[31m   \u001b[0m copying thinc/layers/parametricattention_v2.py -> build/lib.macosx-15.0-arm64-cpython-313/thinc/layers\n",
      "  \u001b[31m   \u001b[0m   \u001b[31m   \u001b[0m copying thinc/layers/chain.py -> build/lib.macosx-15.0-arm64-cpython-313/thinc/layers\n",
      "  \u001b[31m   \u001b[0m   \u001b[31m   \u001b[0m copying thinc/layers/logistic.py -> build/lib.macosx-15.0-arm64-cpython-313/thinc/layers\n",
      "  \u001b[31m   \u001b[0m   \u001b[31m   \u001b[0m copying thinc/layers/linear.py -> build/lib.macosx-15.0-arm64-cpython-313/thinc/layers\n",
      "  \u001b[31m   \u001b[0m   \u001b[31m   \u001b[0m copying thinc/layers/gelu.py -> build/lib.macosx-15.0-arm64-cpython-313/thinc/layers\n",
      "  \u001b[31m   \u001b[0m   \u001b[31m   \u001b[0m copying thinc/layers/with_cpu.py -> build/lib.macosx-15.0-arm64-cpython-313/thinc/layers\n",
      "  \u001b[31m   \u001b[0m   \u001b[31m   \u001b[0m copying thinc/layers/torchscriptwrapper.py -> build/lib.macosx-15.0-arm64-cpython-313/thinc/layers\n",
      "  \u001b[31m   \u001b[0m   \u001b[31m   \u001b[0m copying thinc/layers/mish.py -> build/lib.macosx-15.0-arm64-cpython-313/thinc/layers\n",
      "  \u001b[31m   \u001b[0m   \u001b[31m   \u001b[0m copying thinc/layers/sigmoid_activation.py -> build/lib.macosx-15.0-arm64-cpython-313/thinc/layers\n",
      "  \u001b[31m   \u001b[0m   \u001b[31m   \u001b[0m copying thinc/layers/__init__.py -> build/lib.macosx-15.0-arm64-cpython-313/thinc/layers\n",
      "  \u001b[31m   \u001b[0m   \u001b[31m   \u001b[0m copying thinc/layers/pytorchwrapper.py -> build/lib.macosx-15.0-arm64-cpython-313/thinc/layers\n",
      "  \u001b[31m   \u001b[0m   \u001b[31m   \u001b[0m copying thinc/layers/with_array.py -> build/lib.macosx-15.0-arm64-cpython-313/thinc/layers\n",
      "  \u001b[31m   \u001b[0m   \u001b[31m   \u001b[0m copying thinc/layers/bidirectional.py -> build/lib.macosx-15.0-arm64-cpython-313/thinc/layers\n",
      "  \u001b[31m   \u001b[0m   \u001b[31m   \u001b[0m copying thinc/layers/hard_swish.py -> build/lib.macosx-15.0-arm64-cpython-313/thinc/layers\n",
      "  \u001b[31m   \u001b[0m   \u001b[31m   \u001b[0m copying thinc/layers/uniqued.py -> build/lib.macosx-15.0-arm64-cpython-313/thinc/layers\n",
      "  \u001b[31m   \u001b[0m   \u001b[31m   \u001b[0m copying thinc/layers/padded2list.py -> build/lib.macosx-15.0-arm64-cpython-313/thinc/layers\n",
      "  \u001b[31m   \u001b[0m   \u001b[31m   \u001b[0m copying thinc/layers/cauchysimilarity.py -> build/lib.macosx-15.0-arm64-cpython-313/thinc/layers\n",
      "  \u001b[31m   \u001b[0m   \u001b[31m   \u001b[0m copying thinc/layers/with_array2d.py -> build/lib.macosx-15.0-arm64-cpython-313/thinc/layers\n",
      "  \u001b[31m   \u001b[0m   \u001b[31m   \u001b[0m copying thinc/layers/strings2arrays.py -> build/lib.macosx-15.0-arm64-cpython-313/thinc/layers\n",
      "  \u001b[31m   \u001b[0m   \u001b[31m   \u001b[0m copying thinc/layers/with_getitem.py -> build/lib.macosx-15.0-arm64-cpython-313/thinc/layers\n",
      "  \u001b[31m   \u001b[0m   \u001b[31m   \u001b[0m copying thinc/layers/with_flatten_v2.py -> build/lib.macosx-15.0-arm64-cpython-313/thinc/layers\n",
      "  \u001b[31m   \u001b[0m   \u001b[31m   \u001b[0m copying thinc/layers/clipped_linear.py -> build/lib.macosx-15.0-arm64-cpython-313/thinc/layers\n",
      "  \u001b[31m   \u001b[0m   \u001b[31m   \u001b[0m copying thinc/layers/with_reshape.py -> build/lib.macosx-15.0-arm64-cpython-313/thinc/layers\n",
      "  \u001b[31m   \u001b[0m   \u001b[31m   \u001b[0m copying thinc/layers/tensorflowwrapper.py -> build/lib.macosx-15.0-arm64-cpython-313/thinc/layers\n",
      "  \u001b[31m   \u001b[0m   \u001b[31m   \u001b[0m copying thinc/layers/hard_swish_mobilenet.py -> build/lib.macosx-15.0-arm64-cpython-313/thinc/layers\n",
      "  \u001b[31m   \u001b[0m   \u001b[31m   \u001b[0m copying thinc/layers/noop.py -> build/lib.macosx-15.0-arm64-cpython-313/thinc/layers\n",
      "  \u001b[31m   \u001b[0m   \u001b[31m   \u001b[0m copying thinc/layers/relu.py -> build/lib.macosx-15.0-arm64-cpython-313/thinc/layers\n",
      "  \u001b[31m   \u001b[0m   \u001b[31m   \u001b[0m copying thinc/layers/swish.py -> build/lib.macosx-15.0-arm64-cpython-313/thinc/layers\n",
      "  \u001b[31m   \u001b[0m   \u001b[31m   \u001b[0m copying thinc/layers/with_signpost_interval.py -> build/lib.macosx-15.0-arm64-cpython-313/thinc/layers\n",
      "  \u001b[31m   \u001b[0m   \u001b[31m   \u001b[0m copying thinc/layers/ragged2list.py -> build/lib.macosx-15.0-arm64-cpython-313/thinc/layers\n",
      "  \u001b[31m   \u001b[0m   \u001b[31m   \u001b[0m copying thinc/layers/tuplify.py -> build/lib.macosx-15.0-arm64-cpython-313/thinc/layers\n",
      "  \u001b[31m   \u001b[0m   \u001b[31m   \u001b[0m copying thinc/layers/with_ragged.py -> build/lib.macosx-15.0-arm64-cpython-313/thinc/layers\n",
      "  \u001b[31m   \u001b[0m   \u001b[31m   \u001b[0m copying thinc/layers/list2ragged.py -> build/lib.macosx-15.0-arm64-cpython-313/thinc/layers\n",
      "  \u001b[31m   \u001b[0m   \u001b[31m   \u001b[0m copying thinc/layers/map_list.py -> build/lib.macosx-15.0-arm64-cpython-313/thinc/layers\n",
      "  \u001b[31m   \u001b[0m   \u001b[31m   \u001b[0m copying thinc/layers/dropout.py -> build/lib.macosx-15.0-arm64-cpython-313/thinc/layers\n",
      "  \u001b[31m   \u001b[0m   \u001b[31m   \u001b[0m copying thinc/layers/reduce_last.py -> build/lib.macosx-15.0-arm64-cpython-313/thinc/layers\n",
      "  \u001b[31m   \u001b[0m   \u001b[31m   \u001b[0m copying thinc/layers/list2array.py -> build/lib.macosx-15.0-arm64-cpython-313/thinc/layers\n",
      "  \u001b[31m   \u001b[0m   \u001b[31m   \u001b[0m copying thinc/layers/with_list.py -> build/lib.macosx-15.0-arm64-cpython-313/thinc/layers\n",
      "  \u001b[31m   \u001b[0m   \u001b[31m   \u001b[0m copying thinc/layers/lstm.py -> build/lib.macosx-15.0-arm64-cpython-313/thinc/layers\n",
      "  \u001b[31m   \u001b[0m   \u001b[31m   \u001b[0m copying thinc/layers/reduce_max.py -> build/lib.macosx-15.0-arm64-cpython-313/thinc/layers\n",
      "  \u001b[31m   \u001b[0m   \u001b[31m   \u001b[0m copying thinc/layers/with_flatten.py -> build/lib.macosx-15.0-arm64-cpython-313/thinc/layers\n",
      "  \u001b[31m   \u001b[0m   \u001b[31m   \u001b[0m copying thinc/layers/resizable.py -> build/lib.macosx-15.0-arm64-cpython-313/thinc/layers\n",
      "  \u001b[31m   \u001b[0m   \u001b[31m   \u001b[0m copying thinc/layers/sigmoid.py -> build/lib.macosx-15.0-arm64-cpython-313/thinc/layers\n",
      "  \u001b[31m   \u001b[0m   \u001b[31m   \u001b[0m copying thinc/layers/multisoftmax.py -> build/lib.macosx-15.0-arm64-cpython-313/thinc/layers\n",
      "  \u001b[31m   \u001b[0m   \u001b[31m   \u001b[0m copying thinc/layers/softmax.py -> build/lib.macosx-15.0-arm64-cpython-313/thinc/layers\n",
      "  \u001b[31m   \u001b[0m   \u001b[31m   \u001b[0m copying thinc/layers/reduce_mean.py -> build/lib.macosx-15.0-arm64-cpython-313/thinc/layers\n",
      "  \u001b[31m   \u001b[0m   \u001b[31m   \u001b[0m copying thinc/layers/array_getitem.py -> build/lib.macosx-15.0-arm64-cpython-313/thinc/layers\n",
      "  \u001b[31m   \u001b[0m   \u001b[31m   \u001b[0m copying thinc/layers/dish.py -> build/lib.macosx-15.0-arm64-cpython-313/thinc/layers\n",
      "  \u001b[31m   \u001b[0m   \u001b[31m   \u001b[0m copying thinc/layers/parametricattention.py -> build/lib.macosx-15.0-arm64-cpython-313/thinc/layers\n",
      "  \u001b[31m   \u001b[0m   \u001b[31m   \u001b[0m copying thinc/layers/clone.py -> build/lib.macosx-15.0-arm64-cpython-313/thinc/layers\n",
      "  \u001b[31m   \u001b[0m   \u001b[31m   \u001b[0m creating build/lib.macosx-15.0-arm64-cpython-313/thinc/backends\n",
      "  \u001b[31m   \u001b[0m   \u001b[31m   \u001b[0m copying thinc/backends/mps_ops.py -> build/lib.macosx-15.0-arm64-cpython-313/thinc/backends\n",
      "  \u001b[31m   \u001b[0m   \u001b[31m   \u001b[0m copying thinc/backends/__init__.py -> build/lib.macosx-15.0-arm64-cpython-313/thinc/backends\n",
      "  \u001b[31m   \u001b[0m   \u001b[31m   \u001b[0m copying thinc/backends/_param_server.py -> build/lib.macosx-15.0-arm64-cpython-313/thinc/backends\n",
      "  \u001b[31m   \u001b[0m   \u001b[31m   \u001b[0m copying thinc/backends/cupy_ops.py -> build/lib.macosx-15.0-arm64-cpython-313/thinc/backends\n",
      "  \u001b[31m   \u001b[0m   \u001b[31m   \u001b[0m copying thinc/backends/_custom_kernels.py -> build/lib.macosx-15.0-arm64-cpython-313/thinc/backends\n",
      "  \u001b[31m   \u001b[0m   \u001b[31m   \u001b[0m copying thinc/backends/ops.py -> build/lib.macosx-15.0-arm64-cpython-313/thinc/backends\n",
      "  \u001b[31m   \u001b[0m   \u001b[31m   \u001b[0m copying thinc/backends/_cupy_allocators.py -> build/lib.macosx-15.0-arm64-cpython-313/thinc/backends\n",
      "  \u001b[31m   \u001b[0m   \u001b[31m   \u001b[0m creating build/lib.macosx-15.0-arm64-cpython-313/thinc/tests\n",
      "  \u001b[31m   \u001b[0m   \u001b[31m   \u001b[0m copying thinc/tests/conftest.py -> build/lib.macosx-15.0-arm64-cpython-313/thinc/tests\n",
      "  \u001b[31m   \u001b[0m   \u001b[31m   \u001b[0m copying thinc/tests/enable_mxnet.py -> build/lib.macosx-15.0-arm64-cpython-313/thinc/tests\n",
      "  \u001b[31m   \u001b[0m   \u001b[31m   \u001b[0m copying thinc/tests/strategies.py -> build/lib.macosx-15.0-arm64-cpython-313/thinc/tests\n",
      "  \u001b[31m   \u001b[0m   \u001b[31m   \u001b[0m copying thinc/tests/test_schedules.py -> build/lib.macosx-15.0-arm64-cpython-313/thinc/tests\n",
      "  \u001b[31m   \u001b[0m   \u001b[31m   \u001b[0m copying thinc/tests/util.py -> build/lib.macosx-15.0-arm64-cpython-313/thinc/tests\n",
      "  \u001b[31m   \u001b[0m   \u001b[31m   \u001b[0m copying thinc/tests/test_initializers.py -> build/lib.macosx-15.0-arm64-cpython-313/thinc/tests\n",
      "  \u001b[31m   \u001b[0m   \u001b[31m   \u001b[0m copying thinc/tests/test_optimizers.py -> build/lib.macosx-15.0-arm64-cpython-313/thinc/tests\n",
      "  \u001b[31m   \u001b[0m   \u001b[31m   \u001b[0m copying thinc/tests/__init__.py -> build/lib.macosx-15.0-arm64-cpython-313/thinc/tests\n",
      "  \u001b[31m   \u001b[0m   \u001b[31m   \u001b[0m copying thinc/tests/test_util.py -> build/lib.macosx-15.0-arm64-cpython-313/thinc/tests\n",
      "  \u001b[31m   \u001b[0m   \u001b[31m   \u001b[0m copying thinc/tests/test_indexing.py -> build/lib.macosx-15.0-arm64-cpython-313/thinc/tests\n",
      "  \u001b[31m   \u001b[0m   \u001b[31m   \u001b[0m copying thinc/tests/test_config.py -> build/lib.macosx-15.0-arm64-cpython-313/thinc/tests\n",
      "  \u001b[31m   \u001b[0m   \u001b[31m   \u001b[0m copying thinc/tests/test_serialize.py -> build/lib.macosx-15.0-arm64-cpython-313/thinc/tests\n",
      "  \u001b[31m   \u001b[0m   \u001b[31m   \u001b[0m copying thinc/tests/test_loss.py -> build/lib.macosx-15.0-arm64-cpython-313/thinc/tests\n",
      "  \u001b[31m   \u001b[0m   \u001b[31m   \u001b[0m copying thinc/tests/test_import__all__.py -> build/lib.macosx-15.0-arm64-cpython-313/thinc/tests\n",
      "  \u001b[31m   \u001b[0m   \u001b[31m   \u001b[0m copying thinc/tests/enable_tensorflow.py -> build/lib.macosx-15.0-arm64-cpython-313/thinc/tests\n",
      "  \u001b[31m   \u001b[0m   \u001b[31m   \u001b[0m copying thinc/tests/test_examples.py -> build/lib.macosx-15.0-arm64-cpython-313/thinc/tests\n",
      "  \u001b[31m   \u001b[0m   \u001b[31m   \u001b[0m copying thinc/tests/test_types.py -> build/lib.macosx-15.0-arm64-cpython-313/thinc/tests\n",
      "  \u001b[31m   \u001b[0m   \u001b[31m   \u001b[0m creating build/lib.macosx-15.0-arm64-cpython-313/thinc/extra\n",
      "  \u001b[31m   \u001b[0m   \u001b[31m   \u001b[0m copying thinc/extra/__init__.py -> build/lib.macosx-15.0-arm64-cpython-313/thinc/extra\n",
      "  \u001b[31m   \u001b[0m   \u001b[31m   \u001b[0m creating build/lib.macosx-15.0-arm64-cpython-313/thinc/shims\n",
      "  \u001b[31m   \u001b[0m   \u001b[31m   \u001b[0m copying thinc/shims/mxnet.py -> build/lib.macosx-15.0-arm64-cpython-313/thinc/shims\n",
      "  \u001b[31m   \u001b[0m   \u001b[31m   \u001b[0m copying thinc/shims/__init__.py -> build/lib.macosx-15.0-arm64-cpython-313/thinc/shims\n",
      "  \u001b[31m   \u001b[0m   \u001b[31m   \u001b[0m copying thinc/shims/tensorflow.py -> build/lib.macosx-15.0-arm64-cpython-313/thinc/shims\n",
      "  \u001b[31m   \u001b[0m   \u001b[31m   \u001b[0m copying thinc/shims/pytorch.py -> build/lib.macosx-15.0-arm64-cpython-313/thinc/shims\n",
      "  \u001b[31m   \u001b[0m   \u001b[31m   \u001b[0m copying thinc/shims/torchscript.py -> build/lib.macosx-15.0-arm64-cpython-313/thinc/shims\n",
      "  \u001b[31m   \u001b[0m   \u001b[31m   \u001b[0m copying thinc/shims/pytorch_grad_scaler.py -> build/lib.macosx-15.0-arm64-cpython-313/thinc/shims\n",
      "  \u001b[31m   \u001b[0m   \u001b[31m   \u001b[0m copying thinc/shims/shim.py -> build/lib.macosx-15.0-arm64-cpython-313/thinc/shims\n",
      "  \u001b[31m   \u001b[0m   \u001b[31m   \u001b[0m creating build/lib.macosx-15.0-arm64-cpython-313/thinc/tests/layers\n",
      "  \u001b[31m   \u001b[0m   \u001b[31m   \u001b[0m copying thinc/tests/layers/test_with_flatten.py -> build/lib.macosx-15.0-arm64-cpython-313/thinc/tests/layers\n",
      "  \u001b[31m   \u001b[0m   \u001b[31m   \u001b[0m copying thinc/tests/layers/test_hash_embed.py -> build/lib.macosx-15.0-arm64-cpython-313/thinc/tests/layers\n",
      "  \u001b[31m   \u001b[0m   \u001b[31m   \u001b[0m copying thinc/tests/layers/test_layers_api.py -> build/lib.macosx-15.0-arm64-cpython-313/thinc/tests/layers\n",
      "  \u001b[31m   \u001b[0m   \u001b[31m   \u001b[0m copying thinc/tests/layers/test_with_transforms.py -> build/lib.macosx-15.0-arm64-cpython-313/thinc/tests/layers\n",
      "  \u001b[31m   \u001b[0m   \u001b[31m   \u001b[0m copying thinc/tests/layers/test_sparse_linear.py -> build/lib.macosx-15.0-arm64-cpython-313/thinc/tests/layers\n",
      "  \u001b[31m   \u001b[0m   \u001b[31m   \u001b[0m copying thinc/tests/layers/test_uniqued.py -> build/lib.macosx-15.0-arm64-cpython-313/thinc/tests/layers\n",
      "  \u001b[31m   \u001b[0m   \u001b[31m   \u001b[0m copying thinc/tests/layers/test_combinators.py -> build/lib.macosx-15.0-arm64-cpython-313/thinc/tests/layers\n",
      "  \u001b[31m   \u001b[0m   \u001b[31m   \u001b[0m copying thinc/tests/layers/test_tensorflow_wrapper.py -> build/lib.macosx-15.0-arm64-cpython-313/thinc/tests/layers\n",
      "  \u001b[31m   \u001b[0m   \u001b[31m   \u001b[0m copying thinc/tests/layers/__init__.py -> build/lib.macosx-15.0-arm64-cpython-313/thinc/tests/layers\n",
      "  \u001b[31m   \u001b[0m   \u001b[31m   \u001b[0m copying thinc/tests/layers/test_resizable.py -> build/lib.macosx-15.0-arm64-cpython-313/thinc/tests/layers\n",
      "  \u001b[31m   \u001b[0m   \u001b[31m   \u001b[0m copying thinc/tests/layers/test_mnist.py -> build/lib.macosx-15.0-arm64-cpython-313/thinc/tests/layers\n",
      "  \u001b[31m   \u001b[0m   \u001b[31m   \u001b[0m copying thinc/tests/layers/test_feed_forward.py -> build/lib.macosx-15.0-arm64-cpython-313/thinc/tests/layers\n",
      "  \u001b[31m   \u001b[0m   \u001b[31m   \u001b[0m copying thinc/tests/layers/test_torchscriptwrapper.py -> build/lib.macosx-15.0-arm64-cpython-313/thinc/tests/layers\n",
      "  \u001b[31m   \u001b[0m   \u001b[31m   \u001b[0m copying thinc/tests/layers/test_parametric_attention_v2.py -> build/lib.macosx-15.0-arm64-cpython-313/thinc/tests/layers\n",
      "  \u001b[31m   \u001b[0m   \u001b[31m   \u001b[0m copying thinc/tests/layers/test_reduce.py -> build/lib.macosx-15.0-arm64-cpython-313/thinc/tests/layers\n",
      "  \u001b[31m   \u001b[0m   \u001b[31m   \u001b[0m copying thinc/tests/layers/test_mappers.py -> build/lib.macosx-15.0-arm64-cpython-313/thinc/tests/layers\n",
      "  \u001b[31m   \u001b[0m   \u001b[31m   \u001b[0m copying thinc/tests/layers/test_transforms.py -> build/lib.macosx-15.0-arm64-cpython-313/thinc/tests/layers\n",
      "  \u001b[31m   \u001b[0m   \u001b[31m   \u001b[0m copying thinc/tests/layers/test_linear.py -> build/lib.macosx-15.0-arm64-cpython-313/thinc/tests/layers\n",
      "  \u001b[31m   \u001b[0m   \u001b[31m   \u001b[0m copying thinc/tests/layers/test_softmax.py -> build/lib.macosx-15.0-arm64-cpython-313/thinc/tests/layers\n",
      "  \u001b[31m   \u001b[0m   \u001b[31m   \u001b[0m copying thinc/tests/layers/test_pytorch_wrapper.py -> build/lib.macosx-15.0-arm64-cpython-313/thinc/tests/layers\n",
      "  \u001b[31m   \u001b[0m   \u001b[31m   \u001b[0m copying thinc/tests/layers/test_with_debug.py -> build/lib.macosx-15.0-arm64-cpython-313/thinc/tests/layers\n",
      "  \u001b[31m   \u001b[0m   \u001b[31m   \u001b[0m copying thinc/tests/layers/test_mxnet_wrapper.py -> build/lib.macosx-15.0-arm64-cpython-313/thinc/tests/layers\n",
      "  \u001b[31m   \u001b[0m   \u001b[31m   \u001b[0m copying thinc/tests/layers/test_shim.py -> build/lib.macosx-15.0-arm64-cpython-313/thinc/tests/layers\n",
      "  \u001b[31m   \u001b[0m   \u001b[31m   \u001b[0m copying thinc/tests/layers/test_lstm.py -> build/lib.macosx-15.0-arm64-cpython-313/thinc/tests/layers\n",
      "  \u001b[31m   \u001b[0m   \u001b[31m   \u001b[0m copying thinc/tests/layers/test_basic_tagger.py -> build/lib.macosx-15.0-arm64-cpython-313/thinc/tests/layers\n",
      "  \u001b[31m   \u001b[0m   \u001b[31m   \u001b[0m creating build/lib.macosx-15.0-arm64-cpython-313/thinc/tests/backends\n",
      "  \u001b[31m   \u001b[0m   \u001b[31m   \u001b[0m copying thinc/tests/backends/__init__.py -> build/lib.macosx-15.0-arm64-cpython-313/thinc/tests/backends\n",
      "  \u001b[31m   \u001b[0m   \u001b[31m   \u001b[0m copying thinc/tests/backends/test_ops.py -> build/lib.macosx-15.0-arm64-cpython-313/thinc/tests/backends\n",
      "  \u001b[31m   \u001b[0m   \u001b[31m   \u001b[0m copying thinc/tests/backends/test_mem.py -> build/lib.macosx-15.0-arm64-cpython-313/thinc/tests/backends\n",
      "  \u001b[31m   \u001b[0m   \u001b[31m   \u001b[0m creating build/lib.macosx-15.0-arm64-cpython-313/thinc/tests/extra\n",
      "  \u001b[31m   \u001b[0m   \u001b[31m   \u001b[0m copying thinc/tests/extra/test_beam_search.py -> build/lib.macosx-15.0-arm64-cpython-313/thinc/tests/extra\n",
      "  \u001b[31m   \u001b[0m   \u001b[31m   \u001b[0m copying thinc/tests/extra/__init__.py -> build/lib.macosx-15.0-arm64-cpython-313/thinc/tests/extra\n",
      "  \u001b[31m   \u001b[0m   \u001b[31m   \u001b[0m creating build/lib.macosx-15.0-arm64-cpython-313/thinc/tests/shims\n",
      "  \u001b[31m   \u001b[0m   \u001b[31m   \u001b[0m copying thinc/tests/shims/__init__.py -> build/lib.macosx-15.0-arm64-cpython-313/thinc/tests/shims\n",
      "  \u001b[31m   \u001b[0m   \u001b[31m   \u001b[0m copying thinc/tests/shims/test_pytorch_grad_scaler.py -> build/lib.macosx-15.0-arm64-cpython-313/thinc/tests/shims\n",
      "  \u001b[31m   \u001b[0m   \u001b[31m   \u001b[0m creating build/lib.macosx-15.0-arm64-cpython-313/thinc/tests/mypy\n",
      "  \u001b[31m   \u001b[0m   \u001b[31m   \u001b[0m copying thinc/tests/mypy/test_mypy.py -> build/lib.macosx-15.0-arm64-cpython-313/thinc/tests/mypy\n",
      "  \u001b[31m   \u001b[0m   \u001b[31m   \u001b[0m copying thinc/tests/mypy/__init__.py -> build/lib.macosx-15.0-arm64-cpython-313/thinc/tests/mypy\n",
      "  \u001b[31m   \u001b[0m   \u001b[31m   \u001b[0m creating build/lib.macosx-15.0-arm64-cpython-313/thinc/tests/model\n",
      "  \u001b[31m   \u001b[0m   \u001b[31m   \u001b[0m copying thinc/tests/model/test_model.py -> build/lib.macosx-15.0-arm64-cpython-313/thinc/tests/model\n",
      "  \u001b[31m   \u001b[0m   \u001b[31m   \u001b[0m copying thinc/tests/model/test_validation.py -> build/lib.macosx-15.0-arm64-cpython-313/thinc/tests/model\n",
      "  \u001b[31m   \u001b[0m   \u001b[31m   \u001b[0m copying thinc/tests/model/__init__.py -> build/lib.macosx-15.0-arm64-cpython-313/thinc/tests/model\n",
      "  \u001b[31m   \u001b[0m   \u001b[31m   \u001b[0m creating build/lib.macosx-15.0-arm64-cpython-313/thinc/tests/regression\n",
      "  \u001b[31m   \u001b[0m   \u001b[31m   \u001b[0m copying thinc/tests/regression/__init__.py -> build/lib.macosx-15.0-arm64-cpython-313/thinc/tests/regression\n",
      "  \u001b[31m   \u001b[0m   \u001b[31m   \u001b[0m copying thinc/tests/regression/test_issue208.py -> build/lib.macosx-15.0-arm64-cpython-313/thinc/tests/regression\n",
      "  \u001b[31m   \u001b[0m   \u001b[31m   \u001b[0m copying thinc/tests/regression/test_issue564.py -> build/lib.macosx-15.0-arm64-cpython-313/thinc/tests/regression\n",
      "  \u001b[31m   \u001b[0m   \u001b[31m   \u001b[0m creating build/lib.macosx-15.0-arm64-cpython-313/thinc/tests/mypy/modules\n",
      "  \u001b[31m   \u001b[0m   \u001b[31m   \u001b[0m copying thinc/tests/mypy/modules/fail_no_plugin.py -> build/lib.macosx-15.0-arm64-cpython-313/thinc/tests/mypy/modules\n",
      "  \u001b[31m   \u001b[0m   \u001b[31m   \u001b[0m copying thinc/tests/mypy/modules/success_no_plugin.py -> build/lib.macosx-15.0-arm64-cpython-313/thinc/tests/mypy/modules\n",
      "  \u001b[31m   \u001b[0m   \u001b[31m   \u001b[0m copying thinc/tests/mypy/modules/fail_plugin.py -> build/lib.macosx-15.0-arm64-cpython-313/thinc/tests/mypy/modules\n",
      "  \u001b[31m   \u001b[0m   \u001b[31m   \u001b[0m copying thinc/tests/mypy/modules/__init__.py -> build/lib.macosx-15.0-arm64-cpython-313/thinc/tests/mypy/modules\n",
      "  \u001b[31m   \u001b[0m   \u001b[31m   \u001b[0m copying thinc/tests/mypy/modules/success_plugin.py -> build/lib.macosx-15.0-arm64-cpython-313/thinc/tests/mypy/modules\n",
      "  \u001b[31m   \u001b[0m   \u001b[31m   \u001b[0m creating build/lib.macosx-15.0-arm64-cpython-313/thinc/tests/regression/issue519\n",
      "  \u001b[31m   \u001b[0m   \u001b[31m   \u001b[0m copying thinc/tests/regression/issue519/test_issue519.py -> build/lib.macosx-15.0-arm64-cpython-313/thinc/tests/regression/issue519\n",
      "  \u001b[31m   \u001b[0m   \u001b[31m   \u001b[0m copying thinc/tests/regression/issue519/__init__.py -> build/lib.macosx-15.0-arm64-cpython-313/thinc/tests/regression/issue519\n",
      "  \u001b[31m   \u001b[0m   \u001b[31m   \u001b[0m copying thinc/tests/regression/issue519/program.py -> build/lib.macosx-15.0-arm64-cpython-313/thinc/tests/regression/issue519\n",
      "  \u001b[31m   \u001b[0m   \u001b[31m   \u001b[0m creating build/lib.macosx-15.0-arm64-cpython-313/thinc/extra/tests\n",
      "  \u001b[31m   \u001b[0m   \u001b[31m   \u001b[0m copying thinc/extra/tests/__init__.py -> build/lib.macosx-15.0-arm64-cpython-313/thinc/extra/tests\n",
      "  \u001b[31m   \u001b[0m   \u001b[31m   \u001b[0m running egg_info\n",
      "  \u001b[31m   \u001b[0m   \u001b[31m   \u001b[0m writing thinc.egg-info/PKG-INFO\n",
      "  \u001b[31m   \u001b[0m   \u001b[31m   \u001b[0m writing dependency_links to thinc.egg-info/dependency_links.txt\n",
      "  \u001b[31m   \u001b[0m   \u001b[31m   \u001b[0m writing entry points to thinc.egg-info/entry_points.txt\n",
      "  \u001b[31m   \u001b[0m   \u001b[31m   \u001b[0m writing requirements to thinc.egg-info/requires.txt\n",
      "  \u001b[31m   \u001b[0m   \u001b[31m   \u001b[0m writing top-level names to thinc.egg-info/top_level.txt\n",
      "  \u001b[31m   \u001b[0m   \u001b[31m   \u001b[0m dependency /opt/homebrew/Cellar/python@3.13/3.13.1/Frameworks/Python.framework/Versions/3.13/include/python3.13/Python.h won't be automatically included in the manifest: the path must be relative\n",
      "  \u001b[31m   \u001b[0m   \u001b[31m   \u001b[0m dependency /private/var/folders/1j/wtq97vbs2pl0w4tb09kq4m1r0000gn/T/pip-build-env-mmmx4ez9/overlay/lib/python3.13/site-packages/numpy/_core/include/numpy/arrayobject.h won't be automatically included in the manifest: the path must be relative\n",
      "  \u001b[31m   \u001b[0m   \u001b[31m   \u001b[0m dependency /private/var/folders/1j/wtq97vbs2pl0w4tb09kq4m1r0000gn/T/pip-build-env-mmmx4ez9/overlay/lib/python3.13/site-packages/numpy/_core/include/numpy/arrayscalars.h won't be automatically included in the manifest: the path must be relative\n",
      "  \u001b[31m   \u001b[0m   \u001b[31m   \u001b[0m dependency /private/var/folders/1j/wtq97vbs2pl0w4tb09kq4m1r0000gn/T/pip-build-env-mmmx4ez9/overlay/lib/python3.13/site-packages/numpy/_core/include/numpy/ndarrayobject.h won't be automatically included in the manifest: the path must be relative\n",
      "  \u001b[31m   \u001b[0m   \u001b[31m   \u001b[0m dependency /private/var/folders/1j/wtq97vbs2pl0w4tb09kq4m1r0000gn/T/pip-build-env-mmmx4ez9/overlay/lib/python3.13/site-packages/numpy/_core/include/numpy/ndarraytypes.h won't be automatically included in the manifest: the path must be relative\n",
      "  \u001b[31m   \u001b[0m   \u001b[31m   \u001b[0m dependency /private/var/folders/1j/wtq97vbs2pl0w4tb09kq4m1r0000gn/T/pip-build-env-mmmx4ez9/overlay/lib/python3.13/site-packages/numpy/_core/include/numpy/ufuncobject.h won't be automatically included in the manifest: the path must be relative\n",
      "  \u001b[31m   \u001b[0m   \u001b[31m   \u001b[0m dependency /opt/homebrew/Cellar/python@3.13/3.13.1/Frameworks/Python.framework/Versions/3.13/include/python3.13/Python.h won't be automatically included in the manifest: the path must be relative\n",
      "  \u001b[31m   \u001b[0m   \u001b[31m   \u001b[0m dependency /private/var/folders/1j/wtq97vbs2pl0w4tb09kq4m1r0000gn/T/pip-build-env-mmmx4ez9/overlay/lib/python3.13/site-packages/numpy/_core/include/numpy/arrayobject.h won't be automatically included in the manifest: the path must be relative\n",
      "  \u001b[31m   \u001b[0m   \u001b[31m   \u001b[0m dependency /private/var/folders/1j/wtq97vbs2pl0w4tb09kq4m1r0000gn/T/pip-build-env-mmmx4ez9/overlay/lib/python3.13/site-packages/numpy/_core/include/numpy/arrayscalars.h won't be automatically included in the manifest: the path must be relative\n",
      "  \u001b[31m   \u001b[0m   \u001b[31m   \u001b[0m dependency /private/var/folders/1j/wtq97vbs2pl0w4tb09kq4m1r0000gn/T/pip-build-env-mmmx4ez9/overlay/lib/python3.13/site-packages/numpy/_core/include/numpy/ndarrayobject.h won't be automatically included in the manifest: the path must be relative\n",
      "  \u001b[31m   \u001b[0m   \u001b[31m   \u001b[0m dependency /private/var/folders/1j/wtq97vbs2pl0w4tb09kq4m1r0000gn/T/pip-build-env-mmmx4ez9/overlay/lib/python3.13/site-packages/numpy/_core/include/numpy/ndarraytypes.h won't be automatically included in the manifest: the path must be relative\n",
      "  \u001b[31m   \u001b[0m   \u001b[31m   \u001b[0m dependency /private/var/folders/1j/wtq97vbs2pl0w4tb09kq4m1r0000gn/T/pip-build-env-mmmx4ez9/overlay/lib/python3.13/site-packages/numpy/_core/include/numpy/ufuncobject.h won't be automatically included in the manifest: the path must be relative\n",
      "  \u001b[31m   \u001b[0m   \u001b[31m   \u001b[0m reading manifest file 'thinc.egg-info/SOURCES.txt'\n",
      "  \u001b[31m   \u001b[0m   \u001b[31m   \u001b[0m reading manifest template 'MANIFEST.in'\n",
      "  \u001b[31m   \u001b[0m   \u001b[31m   \u001b[0m no previously-included directories found matching 'tmp'\n",
      "  \u001b[31m   \u001b[0m   \u001b[31m   \u001b[0m adding license file 'LICENSE'\n",
      "  \u001b[31m   \u001b[0m   \u001b[31m   \u001b[0m writing manifest file 'thinc.egg-info/SOURCES.txt'\n",
      "  \u001b[31m   \u001b[0m   \u001b[31m   \u001b[0m /private/var/folders/1j/wtq97vbs2pl0w4tb09kq4m1r0000gn/T/pip-build-env-mmmx4ez9/overlay/lib/python3.13/site-packages/setuptools/command/build_py.py:212: _Warning: Package 'thinc.tests.mypy.configs' is absent from the `packages` configuration.\n",
      "  \u001b[31m   \u001b[0m   \u001b[31m   \u001b[0m !!\n",
      "  \u001b[31m   \u001b[0m   \u001b[31m   \u001b[0m\n",
      "  \u001b[31m   \u001b[0m   \u001b[31m   \u001b[0m         ********************************************************************************\n",
      "  \u001b[31m   \u001b[0m   \u001b[31m   \u001b[0m         ############################\n",
      "  \u001b[31m   \u001b[0m   \u001b[31m   \u001b[0m         # Package would be ignored #\n",
      "  \u001b[31m   \u001b[0m   \u001b[31m   \u001b[0m         ############################\n",
      "  \u001b[31m   \u001b[0m   \u001b[31m   \u001b[0m         Python recognizes 'thinc.tests.mypy.configs' as an importable package[^1],\n",
      "  \u001b[31m   \u001b[0m   \u001b[31m   \u001b[0m         but it is absent from setuptools' `packages` configuration.\n",
      "  \u001b[31m   \u001b[0m   \u001b[31m   \u001b[0m\n",
      "  \u001b[31m   \u001b[0m   \u001b[31m   \u001b[0m         This leads to an ambiguous overall configuration. If you want to distribute this\n",
      "  \u001b[31m   \u001b[0m   \u001b[31m   \u001b[0m         package, please make sure that 'thinc.tests.mypy.configs' is explicitly added\n",
      "  \u001b[31m   \u001b[0m   \u001b[31m   \u001b[0m         to the `packages` configuration field.\n",
      "  \u001b[31m   \u001b[0m   \u001b[31m   \u001b[0m\n",
      "  \u001b[31m   \u001b[0m   \u001b[31m   \u001b[0m         Alternatively, you can also rely on setuptools' discovery methods\n",
      "  \u001b[31m   \u001b[0m   \u001b[31m   \u001b[0m         (for example by using `find_namespace_packages(...)`/`find_namespace:`\n",
      "  \u001b[31m   \u001b[0m   \u001b[31m   \u001b[0m         instead of `find_packages(...)`/`find:`).\n",
      "  \u001b[31m   \u001b[0m   \u001b[31m   \u001b[0m\n",
      "  \u001b[31m   \u001b[0m   \u001b[31m   \u001b[0m         You can read more about \"package discovery\" on setuptools documentation page:\n",
      "  \u001b[31m   \u001b[0m   \u001b[31m   \u001b[0m\n",
      "  \u001b[31m   \u001b[0m   \u001b[31m   \u001b[0m         - https://setuptools.pypa.io/en/latest/userguide/package_discovery.html\n",
      "  \u001b[31m   \u001b[0m   \u001b[31m   \u001b[0m\n",
      "  \u001b[31m   \u001b[0m   \u001b[31m   \u001b[0m         If you don't want 'thinc.tests.mypy.configs' to be distributed and are\n",
      "  \u001b[31m   \u001b[0m   \u001b[31m   \u001b[0m         already explicitly excluding 'thinc.tests.mypy.configs' via\n",
      "  \u001b[31m   \u001b[0m   \u001b[31m   \u001b[0m         `find_namespace_packages(...)/find_namespace` or `find_packages(...)/find`,\n",
      "  \u001b[31m   \u001b[0m   \u001b[31m   \u001b[0m         you can try to use `exclude_package_data`, or `include-package-data=False` in\n",
      "  \u001b[31m   \u001b[0m   \u001b[31m   \u001b[0m         combination with a more fine grained `package-data` configuration.\n",
      "  \u001b[31m   \u001b[0m   \u001b[31m   \u001b[0m\n",
      "  \u001b[31m   \u001b[0m   \u001b[31m   \u001b[0m         You can read more about \"package data files\" on setuptools documentation page:\n",
      "  \u001b[31m   \u001b[0m   \u001b[31m   \u001b[0m\n",
      "  \u001b[31m   \u001b[0m   \u001b[31m   \u001b[0m         - https://setuptools.pypa.io/en/latest/userguide/datafiles.html\n",
      "  \u001b[31m   \u001b[0m   \u001b[31m   \u001b[0m\n",
      "  \u001b[31m   \u001b[0m   \u001b[31m   \u001b[0m\n",
      "  \u001b[31m   \u001b[0m   \u001b[31m   \u001b[0m         [^1]: For Python, any directory (with suitable naming) can be imported,\n",
      "  \u001b[31m   \u001b[0m   \u001b[31m   \u001b[0m               even if it does not contain any `.py` files.\n",
      "  \u001b[31m   \u001b[0m   \u001b[31m   \u001b[0m               On the other hand, currently there is no concept of package data\n",
      "  \u001b[31m   \u001b[0m   \u001b[31m   \u001b[0m               directory, all directories are treated like packages.\n",
      "  \u001b[31m   \u001b[0m   \u001b[31m   \u001b[0m         ********************************************************************************\n",
      "  \u001b[31m   \u001b[0m   \u001b[31m   \u001b[0m\n",
      "  \u001b[31m   \u001b[0m   \u001b[31m   \u001b[0m !!\n",
      "  \u001b[31m   \u001b[0m   \u001b[31m   \u001b[0m   check.warn(importable)\n",
      "  \u001b[31m   \u001b[0m   \u001b[31m   \u001b[0m /private/var/folders/1j/wtq97vbs2pl0w4tb09kq4m1r0000gn/T/pip-build-env-mmmx4ez9/overlay/lib/python3.13/site-packages/setuptools/command/build_py.py:212: _Warning: Package 'thinc.tests.mypy.outputs' is absent from the `packages` configuration.\n",
      "  \u001b[31m   \u001b[0m   \u001b[31m   \u001b[0m !!\n",
      "  \u001b[31m   \u001b[0m   \u001b[31m   \u001b[0m\n",
      "  \u001b[31m   \u001b[0m   \u001b[31m   \u001b[0m         ********************************************************************************\n",
      "  \u001b[31m   \u001b[0m   \u001b[31m   \u001b[0m         ############################\n",
      "  \u001b[31m   \u001b[0m   \u001b[31m   \u001b[0m         # Package would be ignored #\n",
      "  \u001b[31m   \u001b[0m   \u001b[31m   \u001b[0m         ############################\n",
      "  \u001b[31m   \u001b[0m   \u001b[31m   \u001b[0m         Python recognizes 'thinc.tests.mypy.outputs' as an importable package[^1],\n",
      "  \u001b[31m   \u001b[0m   \u001b[31m   \u001b[0m         but it is absent from setuptools' `packages` configuration.\n",
      "  \u001b[31m   \u001b[0m   \u001b[31m   \u001b[0m\n",
      "  \u001b[31m   \u001b[0m   \u001b[31m   \u001b[0m         This leads to an ambiguous overall configuration. If you want to distribute this\n",
      "  \u001b[31m   \u001b[0m   \u001b[31m   \u001b[0m         package, please make sure that 'thinc.tests.mypy.outputs' is explicitly added\n",
      "  \u001b[31m   \u001b[0m   \u001b[31m   \u001b[0m         to the `packages` configuration field.\n",
      "  \u001b[31m   \u001b[0m   \u001b[31m   \u001b[0m\n",
      "  \u001b[31m   \u001b[0m   \u001b[31m   \u001b[0m         Alternatively, you can also rely on setuptools' discovery methods\n",
      "  \u001b[31m   \u001b[0m   \u001b[31m   \u001b[0m         (for example by using `find_namespace_packages(...)`/`find_namespace:`\n",
      "  \u001b[31m   \u001b[0m   \u001b[31m   \u001b[0m         instead of `find_packages(...)`/`find:`).\n",
      "  \u001b[31m   \u001b[0m   \u001b[31m   \u001b[0m\n",
      "  \u001b[31m   \u001b[0m   \u001b[31m   \u001b[0m         You can read more about \"package discovery\" on setuptools documentation page:\n",
      "  \u001b[31m   \u001b[0m   \u001b[31m   \u001b[0m\n",
      "  \u001b[31m   \u001b[0m   \u001b[31m   \u001b[0m         - https://setuptools.pypa.io/en/latest/userguide/package_discovery.html\n",
      "  \u001b[31m   \u001b[0m   \u001b[31m   \u001b[0m\n",
      "  \u001b[31m   \u001b[0m   \u001b[31m   \u001b[0m         If you don't want 'thinc.tests.mypy.outputs' to be distributed and are\n",
      "  \u001b[31m   \u001b[0m   \u001b[31m   \u001b[0m         already explicitly excluding 'thinc.tests.mypy.outputs' via\n",
      "  \u001b[31m   \u001b[0m   \u001b[31m   \u001b[0m         `find_namespace_packages(...)/find_namespace` or `find_packages(...)/find`,\n",
      "  \u001b[31m   \u001b[0m   \u001b[31m   \u001b[0m         you can try to use `exclude_package_data`, or `include-package-data=False` in\n",
      "  \u001b[31m   \u001b[0m   \u001b[31m   \u001b[0m         combination with a more fine grained `package-data` configuration.\n",
      "  \u001b[31m   \u001b[0m   \u001b[31m   \u001b[0m\n",
      "  \u001b[31m   \u001b[0m   \u001b[31m   \u001b[0m         You can read more about \"package data files\" on setuptools documentation page:\n",
      "  \u001b[31m   \u001b[0m   \u001b[31m   \u001b[0m\n",
      "  \u001b[31m   \u001b[0m   \u001b[31m   \u001b[0m         - https://setuptools.pypa.io/en/latest/userguide/datafiles.html\n",
      "  \u001b[31m   \u001b[0m   \u001b[31m   \u001b[0m\n",
      "  \u001b[31m   \u001b[0m   \u001b[31m   \u001b[0m\n",
      "  \u001b[31m   \u001b[0m   \u001b[31m   \u001b[0m         [^1]: For Python, any directory (with suitable naming) can be imported,\n",
      "  \u001b[31m   \u001b[0m   \u001b[31m   \u001b[0m               even if it does not contain any `.py` files.\n",
      "  \u001b[31m   \u001b[0m   \u001b[31m   \u001b[0m               On the other hand, currently there is no concept of package data\n",
      "  \u001b[31m   \u001b[0m   \u001b[31m   \u001b[0m               directory, all directories are treated like packages.\n",
      "  \u001b[31m   \u001b[0m   \u001b[31m   \u001b[0m         ********************************************************************************\n",
      "  \u001b[31m   \u001b[0m   \u001b[31m   \u001b[0m\n",
      "  \u001b[31m   \u001b[0m   \u001b[31m   \u001b[0m !!\n",
      "  \u001b[31m   \u001b[0m   \u001b[31m   \u001b[0m   check.warn(importable)\n",
      "  \u001b[31m   \u001b[0m   \u001b[31m   \u001b[0m copying thinc/__init__.pxd -> build/lib.macosx-15.0-arm64-cpython-313/thinc\n",
      "  \u001b[31m   \u001b[0m   \u001b[31m   \u001b[0m copying thinc/py.typed -> build/lib.macosx-15.0-arm64-cpython-313/thinc\n",
      "  \u001b[31m   \u001b[0m   \u001b[31m   \u001b[0m copying thinc/layers/premap_ids.pyx -> build/lib.macosx-15.0-arm64-cpython-313/thinc/layers\n",
      "  \u001b[31m   \u001b[0m   \u001b[31m   \u001b[0m copying thinc/layers/sparselinear.pyx -> build/lib.macosx-15.0-arm64-cpython-313/thinc/layers\n",
      "  \u001b[31m   \u001b[0m   \u001b[31m   \u001b[0m copying thinc/backends/__init__.pxd -> build/lib.macosx-15.0-arm64-cpython-313/thinc/backends\n",
      "  \u001b[31m   \u001b[0m   \u001b[31m   \u001b[0m copying thinc/backends/_custom_kernels.cu -> build/lib.macosx-15.0-arm64-cpython-313/thinc/backends\n",
      "  \u001b[31m   \u001b[0m   \u001b[31m   \u001b[0m copying thinc/backends/_murmur3.cu -> build/lib.macosx-15.0-arm64-cpython-313/thinc/backends\n",
      "  \u001b[31m   \u001b[0m   \u001b[31m   \u001b[0m copying thinc/backends/cblas.pxd -> build/lib.macosx-15.0-arm64-cpython-313/thinc/backends\n",
      "  \u001b[31m   \u001b[0m   \u001b[31m   \u001b[0m copying thinc/backends/cblas.pyx -> build/lib.macosx-15.0-arm64-cpython-313/thinc/backends\n",
      "  \u001b[31m   \u001b[0m   \u001b[31m   \u001b[0m copying thinc/backends/cpu_kernels.hh -> build/lib.macosx-15.0-arm64-cpython-313/thinc/backends\n",
      "  \u001b[31m   \u001b[0m   \u001b[31m   \u001b[0m copying thinc/backends/linalg.pxd -> build/lib.macosx-15.0-arm64-cpython-313/thinc/backends\n",
      "  \u001b[31m   \u001b[0m   \u001b[31m   \u001b[0m copying thinc/backends/linalg.pyx -> build/lib.macosx-15.0-arm64-cpython-313/thinc/backends\n",
      "  \u001b[31m   \u001b[0m   \u001b[31m   \u001b[0m copying thinc/backends/numpy_ops.pxd -> build/lib.macosx-15.0-arm64-cpython-313/thinc/backends\n",
      "  \u001b[31m   \u001b[0m   \u001b[31m   \u001b[0m copying thinc/backends/numpy_ops.pyx -> build/lib.macosx-15.0-arm64-cpython-313/thinc/backends\n",
      "  \u001b[31m   \u001b[0m   \u001b[31m   \u001b[0m copying thinc/extra/__init__.pxd -> build/lib.macosx-15.0-arm64-cpython-313/thinc/extra\n",
      "  \u001b[31m   \u001b[0m   \u001b[31m   \u001b[0m copying thinc/extra/search.pxd -> build/lib.macosx-15.0-arm64-cpython-313/thinc/extra\n",
      "  \u001b[31m   \u001b[0m   \u001b[31m   \u001b[0m copying thinc/extra/search.pyx -> build/lib.macosx-15.0-arm64-cpython-313/thinc/extra\n",
      "  \u001b[31m   \u001b[0m   \u001b[31m   \u001b[0m creating build/lib.macosx-15.0-arm64-cpython-313/thinc/tests/mypy/configs\n",
      "  \u001b[31m   \u001b[0m   \u001b[31m   \u001b[0m copying thinc/tests/mypy/configs/mypy-default.ini -> build/lib.macosx-15.0-arm64-cpython-313/thinc/tests/mypy/configs\n",
      "  \u001b[31m   \u001b[0m   \u001b[31m   \u001b[0m copying thinc/tests/mypy/configs/mypy-plugin.ini -> build/lib.macosx-15.0-arm64-cpython-313/thinc/tests/mypy/configs\n",
      "  \u001b[31m   \u001b[0m   \u001b[31m   \u001b[0m creating build/lib.macosx-15.0-arm64-cpython-313/thinc/tests/mypy/outputs\n",
      "  \u001b[31m   \u001b[0m   \u001b[31m   \u001b[0m copying thinc/tests/mypy/outputs/fail-no-plugin.txt -> build/lib.macosx-15.0-arm64-cpython-313/thinc/tests/mypy/outputs\n",
      "  \u001b[31m   \u001b[0m   \u001b[31m   \u001b[0m copying thinc/tests/mypy/outputs/fail-plugin.txt -> build/lib.macosx-15.0-arm64-cpython-313/thinc/tests/mypy/outputs\n",
      "  \u001b[31m   \u001b[0m   \u001b[31m   \u001b[0m copying thinc/tests/mypy/outputs/success-no-plugin.txt -> build/lib.macosx-15.0-arm64-cpython-313/thinc/tests/mypy/outputs\n",
      "  \u001b[31m   \u001b[0m   \u001b[31m   \u001b[0m copying thinc/tests/mypy/outputs/success-plugin.txt -> build/lib.macosx-15.0-arm64-cpython-313/thinc/tests/mypy/outputs\n",
      "  \u001b[31m   \u001b[0m   \u001b[31m   \u001b[0m copying thinc/extra/tests/c_test_search.pyx -> build/lib.macosx-15.0-arm64-cpython-313/thinc/extra/tests\n",
      "  \u001b[31m   \u001b[0m   \u001b[31m   \u001b[0m running build_ext\n",
      "  \u001b[31m   \u001b[0m   \u001b[31m   \u001b[0m building 'thinc.backends.cblas' extension\n",
      "  \u001b[31m   \u001b[0m   \u001b[31m   \u001b[0m creating build/temp.macosx-15.0-arm64-cpython-313/thinc/backends\n",
      "  \u001b[31m   \u001b[0m   \u001b[31m   \u001b[0m clang++ -fno-strict-overflow -Wsign-compare -Wunreachable-code -fno-common -dynamic -DNDEBUG -g -O3 -Wall -I/private/var/folders/1j/wtq97vbs2pl0w4tb09kq4m1r0000gn/T/pip-build-env-mmmx4ez9/overlay/lib/python3.13/site-packages/numpy/_core/include -I/opt/homebrew/Cellar/python@3.13/3.13.1/Frameworks/Python.framework/Versions/3.13/include/python3.13 -I/Users/timon/.pyenv/versions/nlp/include -I/opt/homebrew/opt/python@3.13/Frameworks/Python.framework/Versions/3.13/include/python3.13 -c thinc/backends/cblas.cpp -o build/temp.macosx-15.0-arm64-cpython-313/thinc/backends/cblas.o -O3 -Wno-strict-prototypes -Wno-unused-function -std=c++11\n",
      "  \u001b[31m   \u001b[0m   \u001b[31m   \u001b[0m thinc/backends/cblas.cpp:871:59: warning: 'Py_UNICODE' is deprecated [-Wdeprecated-declarations]\n",
      "  \u001b[31m   \u001b[0m   \u001b[31m   \u001b[0m   871 | static CYTHON_INLINE size_t __Pyx_Py_UNICODE_strlen(const Py_UNICODE *u) {\n",
      "  \u001b[31m   \u001b[0m   \u001b[31m   \u001b[0m       |                                                           ^\n",
      "  \u001b[31m   \u001b[0m   \u001b[31m   \u001b[0m /opt/homebrew/Cellar/python@3.13/3.13.1/Frameworks/Python.framework/Versions/3.13/include/python3.13/cpython/unicodeobject.h:10:1: note: 'Py_UNICODE' has been explicitly marked deprecated here\n",
      "  \u001b[31m   \u001b[0m   \u001b[31m   \u001b[0m    10 | Py_DEPRECATED(3.13) typedef wchar_t Py_UNICODE;\n",
      "  \u001b[31m   \u001b[0m   \u001b[31m   \u001b[0m       | ^\n",
      "  \u001b[31m   \u001b[0m   \u001b[31m   \u001b[0m /opt/homebrew/Cellar/python@3.13/3.13.1/Frameworks/Python.framework/Versions/3.13/include/python3.13/pyport.h:251:54: note: expanded from macro 'Py_DEPRECATED'\n",
      "  \u001b[31m   \u001b[0m   \u001b[31m   \u001b[0m   251 | #define Py_DEPRECATED(VERSION_UNUSED) __attribute__((__deprecated__))\n",
      "  \u001b[31m   \u001b[0m   \u001b[31m   \u001b[0m       |                                                      ^\n",
      "  \u001b[31m   \u001b[0m   \u001b[31m   \u001b[0m thinc/backends/cblas.cpp:872:11: warning: 'Py_UNICODE' is deprecated [-Wdeprecated-declarations]\n",
      "  \u001b[31m   \u001b[0m   \u001b[31m   \u001b[0m   872 |     const Py_UNICODE *u_end = u;\n",
      "  \u001b[31m   \u001b[0m   \u001b[31m   \u001b[0m       |           ^\n",
      "  \u001b[31m   \u001b[0m   \u001b[31m   \u001b[0m /opt/homebrew/Cellar/python@3.13/3.13.1/Frameworks/Python.framework/Versions/3.13/include/python3.13/cpython/unicodeobject.h:10:1: note: 'Py_UNICODE' has been explicitly marked deprecated here\n",
      "  \u001b[31m   \u001b[0m   \u001b[31m   \u001b[0m    10 | Py_DEPRECATED(3.13) typedef wchar_t Py_UNICODE;\n",
      "  \u001b[31m   \u001b[0m   \u001b[31m   \u001b[0m       | ^\n",
      "  \u001b[31m   \u001b[0m   \u001b[31m   \u001b[0m /opt/homebrew/Cellar/python@3.13/3.13.1/Frameworks/Python.framework/Versions/3.13/include/python3.13/pyport.h:251:54: note: expanded from macro 'Py_DEPRECATED'\n",
      "  \u001b[31m   \u001b[0m   \u001b[31m   \u001b[0m   251 | #define Py_DEPRECATED(VERSION_UNUSED) __attribute__((__deprecated__))\n",
      "  \u001b[31m   \u001b[0m   \u001b[31m   \u001b[0m       |                                                      ^\n",
      "  \u001b[31m   \u001b[0m   \u001b[31m   \u001b[0m thinc/backends/cblas.cpp:1908:22: error: use of undeclared identifier '_PyList_Extend'; did you mean 'PyList_Extend'?\n",
      "  \u001b[31m   \u001b[0m   \u001b[31m   \u001b[0m  1908 |     PyObject* none = _PyList_Extend((PyListObject*)L, v);\n",
      "  \u001b[31m   \u001b[0m   \u001b[31m   \u001b[0m       |                      ^~~~~~~~~~~~~~\n",
      "  \u001b[31m   \u001b[0m   \u001b[31m   \u001b[0m       |                      PyList_Extend\n",
      "  \u001b[31m   \u001b[0m   \u001b[31m   \u001b[0m /opt/homebrew/Cellar/python@3.13/3.13.1/Frameworks/Python.framework/Versions/3.13/include/python3.13/cpython/listobject.h:52:17: note: 'PyList_Extend' declared here\n",
      "  \u001b[31m   \u001b[0m   \u001b[31m   \u001b[0m    52 | PyAPI_FUNC(int) PyList_Extend(PyObject *self, PyObject *iterable);\n",
      "  \u001b[31m   \u001b[0m   \u001b[31m   \u001b[0m       |                 ^\n",
      "  \u001b[31m   \u001b[0m   \u001b[31m   \u001b[0m thinc/backends/cblas.cpp:1908:37: error: cannot initialize a parameter of type 'PyObject *' (aka '_object *') with an rvalue of type 'PyListObject *'\n",
      "  \u001b[31m   \u001b[0m   \u001b[31m   \u001b[0m  1908 |     PyObject* none = _PyList_Extend((PyListObject*)L, v);\n",
      "  \u001b[31m   \u001b[0m   \u001b[31m   \u001b[0m       |                                     ^~~~~~~~~~~~~~~~\n",
      "  \u001b[31m   \u001b[0m   \u001b[31m   \u001b[0m /opt/homebrew/Cellar/python@3.13/3.13.1/Frameworks/Python.framework/Versions/3.13/include/python3.13/cpython/listobject.h:52:41: note: passing argument to parameter 'self' here\n",
      "  \u001b[31m   \u001b[0m   \u001b[31m   \u001b[0m    52 | PyAPI_FUNC(int) PyList_Extend(PyObject *self, PyObject *iterable);\n",
      "  \u001b[31m   \u001b[0m   \u001b[31m   \u001b[0m       |                                         ^\n",
      "  \u001b[31m   \u001b[0m   \u001b[31m   \u001b[0m thinc/backends/cblas.cpp:1946:39: error: use of undeclared identifier '_PyInterpreterState_GetConfig'\n",
      "  \u001b[31m   \u001b[0m   \u001b[31m   \u001b[0m  1946 |     __pyx_assertions_enabled_flag = ! _PyInterpreterState_GetConfig(__Pyx_PyThreadState_Current->interp)->optimization_level;\n",
      "  \u001b[31m   \u001b[0m   \u001b[31m   \u001b[0m       |                                       ^\n",
      "  \u001b[31m   \u001b[0m   \u001b[31m   \u001b[0m thinc/backends/cblas.cpp:20354:27: error: no matching function for call to '_PyLong_AsByteArray'\n",
      "  \u001b[31m   \u001b[0m   \u001b[31m   \u001b[0m  20354 |                 int ret = _PyLong_AsByteArray((PyLongObject *)v,\n",
      "  \u001b[31m   \u001b[0m   \u001b[31m   \u001b[0m        |                           ^~~~~~~~~~~~~~~~~~~\n",
      "  \u001b[31m   \u001b[0m   \u001b[31m   \u001b[0m /opt/homebrew/Cellar/python@3.13/3.13.1/Frameworks/Python.framework/Versions/3.13/include/python3.13/cpython/longobject.h:111:17: note: candidate function not viable: requires 6 arguments, but 5 were provided\n",
      "  \u001b[31m   \u001b[0m   \u001b[31m   \u001b[0m   111 | PyAPI_FUNC(int) _PyLong_AsByteArray(PyLongObject* v,\n",
      "  \u001b[31m   \u001b[0m   \u001b[31m   \u001b[0m       |                 ^                   ~~~~~~~~~~~~~~~~\n",
      "  \u001b[31m   \u001b[0m   \u001b[31m   \u001b[0m   112 |     unsigned char* bytes, size_t n,\n",
      "  \u001b[31m   \u001b[0m   \u001b[31m   \u001b[0m       |     ~~~~~~~~~~~~~~~~~~~~~~~~~~~~~~~\n",
      "  \u001b[31m   \u001b[0m   \u001b[31m   \u001b[0m   113 |     int little_endian, int is_signed, int with_exceptions);\n",
      "  \u001b[31m   \u001b[0m   \u001b[31m   \u001b[0m       |     ~~~~~~~~~~~~~~~~~~~~~~~~~~~~~~~~~~~~~~~~~~~~~~~~~~~~~\n",
      "  \u001b[31m   \u001b[0m   \u001b[31m   \u001b[0m thinc/backends/cblas.cpp:20550:27: error: no matching function for call to '_PyLong_AsByteArray'\n",
      "  \u001b[31m   \u001b[0m   \u001b[31m   \u001b[0m  20550 |                 int ret = _PyLong_AsByteArray((PyLongObject *)v,\n",
      "  \u001b[31m   \u001b[0m   \u001b[31m   \u001b[0m        |                           ^~~~~~~~~~~~~~~~~~~\n",
      "  \u001b[31m   \u001b[0m   \u001b[31m   \u001b[0m /opt/homebrew/Cellar/python@3.13/3.13.1/Frameworks/Python.framework/Versions/3.13/include/python3.13/cpython/longobject.h:111:17: note: candidate function not viable: requires 6 arguments, but 5 were provided\n",
      "  \u001b[31m   \u001b[0m   \u001b[31m   \u001b[0m   111 | PyAPI_FUNC(int) _PyLong_AsByteArray(PyLongObject* v,\n",
      "  \u001b[31m   \u001b[0m   \u001b[31m   \u001b[0m       |                 ^                   ~~~~~~~~~~~~~~~~\n",
      "  \u001b[31m   \u001b[0m   \u001b[31m   \u001b[0m   112 |     unsigned char* bytes, size_t n,\n",
      "  \u001b[31m   \u001b[0m   \u001b[31m   \u001b[0m       |     ~~~~~~~~~~~~~~~~~~~~~~~~~~~~~~~\n",
      "  \u001b[31m   \u001b[0m   \u001b[31m   \u001b[0m   113 |     int little_endian, int is_signed, int with_exceptions);\n",
      "  \u001b[31m   \u001b[0m   \u001b[31m   \u001b[0m       |     ~~~~~~~~~~~~~~~~~~~~~~~~~~~~~~~~~~~~~~~~~~~~~~~~~~~~~\n",
      "  \u001b[31m   \u001b[0m   \u001b[31m   \u001b[0m thinc/backends/cblas.cpp:20822:27: error: no matching function for call to '_PyLong_AsByteArray'\n",
      "  \u001b[31m   \u001b[0m   \u001b[31m   \u001b[0m  20822 |                 int ret = _PyLong_AsByteArray((PyLongObject *)v,\n",
      "  \u001b[31m   \u001b[0m   \u001b[31m   \u001b[0m        |                           ^~~~~~~~~~~~~~~~~~~\n",
      "  \u001b[31m   \u001b[0m   \u001b[31m   \u001b[0m /opt/homebrew/Cellar/python@3.13/3.13.1/Frameworks/Python.framework/Versions/3.13/include/python3.13/cpython/longobject.h:111:17: note: candidate function not viable: requires 6 arguments, but 5 were provided\n",
      "  \u001b[31m   \u001b[0m   \u001b[31m   \u001b[0m   111 | PyAPI_FUNC(int) _PyLong_AsByteArray(PyLongObject* v,\n",
      "  \u001b[31m   \u001b[0m   \u001b[31m   \u001b[0m       |                 ^                   ~~~~~~~~~~~~~~~~\n",
      "  \u001b[31m   \u001b[0m   \u001b[31m   \u001b[0m   112 |     unsigned char* bytes, size_t n,\n",
      "  \u001b[31m   \u001b[0m   \u001b[31m   \u001b[0m       |     ~~~~~~~~~~~~~~~~~~~~~~~~~~~~~~~\n",
      "  \u001b[31m   \u001b[0m   \u001b[31m   \u001b[0m   113 |     int little_endian, int is_signed, int with_exceptions);\n",
      "  \u001b[31m   \u001b[0m   \u001b[31m   \u001b[0m       |     ~~~~~~~~~~~~~~~~~~~~~~~~~~~~~~~~~~~~~~~~~~~~~~~~~~~~~\n",
      "  \u001b[31m   \u001b[0m   \u001b[31m   \u001b[0m 2 warnings and 6 errors generated.\n",
      "  \u001b[31m   \u001b[0m   \u001b[31m   \u001b[0m error: command '/usr/bin/clang++' failed with exit code 1\n",
      "  \u001b[31m   \u001b[0m   \u001b[31m   \u001b[0m \u001b[31m[end of output]\u001b[0m\n",
      "  \u001b[31m   \u001b[0m \n",
      "  \u001b[31m   \u001b[0m   \u001b[1;35mnote\u001b[0m: This error originates from a subprocess, and is likely not a problem with pip.\n",
      "  \u001b[31m   \u001b[0m \u001b[31m  ERROR: Failed building wheel for thinc\u001b[0m\u001b[31m\n",
      "  \u001b[31m   \u001b[0m \u001b[0mFailed to build thinc\n",
      "  \u001b[31m   \u001b[0m \u001b[31mERROR: ERROR: Failed to build installable wheels for some pyproject.toml based projects (thinc)\u001b[0m\u001b[31m\n",
      "  \u001b[31m   \u001b[0m \u001b[0m\n",
      "  \u001b[31m   \u001b[0m \u001b[31m[end of output]\u001b[0m\n",
      "  \n",
      "  \u001b[1;35mnote\u001b[0m: This error originates from a subprocess, and is likely not a problem with pip.\n",
      "\u001b[?25h\n",
      "\u001b[1m[\u001b[0m\u001b[34;49mnotice\u001b[0m\u001b[1;39;49m]\u001b[0m\u001b[39;49m A new release of pip is available: \u001b[0m\u001b[31;49m24.3.1\u001b[0m\u001b[39;49m -> \u001b[0m\u001b[32;49m25.0.1\u001b[0m\n",
      "\u001b[1m[\u001b[0m\u001b[34;49mnotice\u001b[0m\u001b[1;39;49m]\u001b[0m\u001b[39;49m To update, run: \u001b[0m\u001b[32;49mpip install --upgrade pip\u001b[0m\n",
      "\u001b[1;31merror\u001b[0m: \u001b[1msubprocess-exited-with-error\u001b[0m\n",
      "\n",
      "\u001b[31m×\u001b[0m \u001b[32mpip subprocess to install build dependencies\u001b[0m did not run successfully.\n",
      "\u001b[31m│\u001b[0m exit code: \u001b[1;36m1\u001b[0m\n",
      "\u001b[31m╰─>\u001b[0m See above for output.\n",
      "\n",
      "\u001b[1;35mnote\u001b[0m: This error originates from a subprocess, and is likely not a problem with pip.\n",
      "Note: you may need to restart the kernel to use updated packages.\n",
      "/Users/timon/.pyenv/versions/nlp/bin/python: No module named spacy\n"
     ]
    }
   ],
   "source": [
    "import os\n",
    "os.environ[\"TOKENIZERS_PARALLELISM\"] = \"false\"\n",
    "\n",
    "%pip install setuptools wheel\n",
    "%pip install 'spacy[apple]'\n",
    "!python -m spacy download en_core_web_sm"
   ]
  },
  {
   "cell_type": "markdown",
   "id": "5ce37219",
   "metadata": {},
   "source": [
    "*(You may have to restart your kernel after installing spacy.)*\n",
    "\n",
    "We can now load the NLP pipeline from the small model."
   ]
  },
  {
   "cell_type": "code",
   "execution_count": null,
   "id": "ef7c3812",
   "metadata": {},
   "outputs": [],
   "source": [
    "import spacy\n",
    "pipeline = spacy.load('en_core_web_sm')\n",
    "doc = pipeline('Apple is looking at buying U.K. startup for $1 billion.')"
   ]
  },
  {
   "attachments": {},
   "cell_type": "markdown",
   "id": "ebf94fec",
   "metadata": {},
   "source": [
    "The `doc` object has now tokenized our sentence and ran the NLP pipeline on it, as shown in this image:\n",
    "![spacy pipeline](https://spacy.io/images/pipeline.svg)\n",
    "\n",
    "Use the 101 guide to display the following information about each token.\n",
    "- Text: The original word text.\n",
    "- Lemma: The base form of the word.\n",
    "- POS: The simple [UPOS](https://universaldependencies.org/u/pos/) part-of-speech tag.\n",
    "- Tag: The detailed part-of-speech tag.\n",
    "- Dep: Syntactic dependency, i.e. the relation between tokens.\n",
    "- Shape: The word shape – capitalization, punctuation, digits.\n",
    "- is stopword: Is the token part of a stop list, i.e. the most common words of the language?"
   ]
  },
  {
   "cell_type": "code",
   "execution_count": null,
   "id": "cd87b5d5",
   "metadata": {},
   "outputs": [],
   "source": []
  },
  {
   "cell_type": "markdown",
   "id": "41f3326a",
   "metadata": {},
   "source": [
    "Looking at the named entities in `doc`, print the following information:\n",
    "- The token's text\n",
    "- The start index of the named entity\n",
    "- Its end index\n",
    "- The NER label"
   ]
  },
  {
   "cell_type": "code",
   "execution_count": null,
   "id": "40d7418a",
   "metadata": {},
   "outputs": [],
   "source": []
  },
  {
   "cell_type": "markdown",
   "id": "decfbf10",
   "metadata": {},
   "source": [
    "**Question:** Search the internet for a description of the entity labels `FAC`, `ORG`, `GPE` and `LOC`."
   ]
  },
  {
   "cell_type": "markdown",
   "id": "672d6e3e",
   "metadata": {},
   "source": [
    "**Answer:**"
   ]
  }
 ],
 "metadata": {
  "kernelspec": {
   "display_name": "nlp",
   "language": "python",
   "name": "python3"
  },
  "language_info": {
   "codemirror_mode": {
    "name": "ipython",
    "version": 3
   },
   "file_extension": ".py",
   "mimetype": "text/x-python",
   "name": "python",
   "nbconvert_exporter": "python",
   "pygments_lexer": "ipython3",
   "version": "3.13.1"
  }
 },
 "nbformat": 4,
 "nbformat_minor": 5
}
