{
 "cells": [
  {
   "cell_type": "markdown",
   "metadata": {},
   "source": [
    "# Word Embeddings\n",
    "We will use word2vec with gensim to solve word similarity and analogy tasks. Use gensim's [word2vec tutorial](https://radimrehurek.com/gensim/auto_examples/tutorials/run_word2vec.html) for a reference of the functions we need.\n",
    "\n",
    "First, we download the word embeddings pretrained on the (private) Google News corpus. The embeddings are quite big with 1.7 GB. They will be downloaded to your `<HOME>/gensim-data` directory."
   ]
  },
  {
   "cell_type": "code",
   "execution_count": null,
   "metadata": {},
   "outputs": [
    {
     "name": "stdout",
     "output_type": "stream",
     "text": [
      "[==================================================] 100.0% 1662.8/1662.8MB downloaded\n"
     ]
    }
   ],
   "source": [
    "import numpy as np\n",
    "import gensim.downloader as api\n",
    "\n",
    "wv = api.load('word2vec-google-news-300')"
   ]
  },
  {
   "cell_type": "markdown",
   "metadata": {},
   "source": [
    "Let's look at the vector size, vocabulary size and its first 10 and last 5 words."
   ]
  },
  {
   "cell_type": "code",
   "execution_count": 2,
   "metadata": {},
   "outputs": [
    {
     "name": "stdout",
     "output_type": "stream",
     "text": [
      "Vector Size: 300\n",
      "Vocabulary Size: 3000000\n",
      "['</s>', 'in', 'for', 'that', 'is', 'on', '##', 'The', 'with', 'said']\n",
      "['RAFFAELE', 'Bim_Skala_Bim', 'Mezze_Cafe', 'pulverizes_boulders', 'snowcapped_Caucasus']\n"
     ]
    }
   ],
   "source": [
    "print('Vector Size:', wv.vector_size)\n",
    "print('Vocabulary Size:', len(wv.index_to_key))\n",
    "print(wv.index_to_key[:10])\n",
    "print(wv.index_to_key[-5:])"
   ]
  },
  {
   "cell_type": "markdown",
   "metadata": {},
   "source": [
    "Get the vectors for woman, man, queen and king."
   ]
  },
  {
   "cell_type": "code",
   "execution_count": 3,
   "metadata": {},
   "outputs": [
    {
     "name": "stdout",
     "output_type": "stream",
     "text": [
      "4\n"
     ]
    }
   ],
   "source": [
    "vectors = [wv[word] for word in ['woman', 'man', 'queen', 'king']]\n",
    "\n",
    "print(len(vectors))"
   ]
  },
  {
   "cell_type": "markdown",
   "metadata": {},
   "source": [
    "Compute their norms. Are they normalized?"
   ]
  },
  {
   "cell_type": "code",
   "execution_count": null,
   "metadata": {},
   "outputs": [
    {
     "name": "stdout",
     "output_type": "stream",
     "text": [
      "[2.655624, 2.3106172, 3.0283043, 2.9022589]\n"
     ]
    }
   ],
   "source": [
    "norms = [np.linalg.norm(vec) for vec in vectors]\n",
    "print(norms)"
   ]
  },
  {
   "cell_type": "markdown",
   "metadata": {},
   "source": [
    "## Word Similarity\n",
    "We will now perform a few operations that use word similarity.\n",
    "\n",
    "Given the pairs below..."
   ]
  },
  {
   "cell_type": "code",
   "execution_count": 6,
   "metadata": {},
   "outputs": [],
   "source": [
    "pairs = [\n",
    "    ('car', 'minivan'),   # a minivan is a kind of car\n",
    "    ('car', 'bicycle'),   # still a wheeled vehicle\n",
    "    ('car', 'airplane'),  # ok, no wheels, but still a vehicle\n",
    "    ('car', 'cereal'),    # ... and so on\n",
    "    ('car', 'democracy'),\n",
    "]"
   ]
  },
  {
   "cell_type": "markdown",
   "metadata": {},
   "source": [
    "... compute the word similarity of each pair, once with [sklearn's cosine similarity](https://scikit-learn.org/stable/modules/generated/sklearn.metrics.pairwise.cosine_similarity.html), and once with gensim's similarity."
   ]
  },
  {
   "cell_type": "code",
   "execution_count": 11,
   "metadata": {},
   "outputs": [
    {
     "name": "stdout",
     "output_type": "stream",
     "text": [
      "car minivan [[0.69070363]] 0.69070363\n",
      "car bicycle [[0.5364485]] 0.5364485\n",
      "car airplane [[0.42435583]] 0.42435578\n",
      "car cereal [[0.13924748]] 0.13924748\n",
      "car democracy [[0.0788219]] 0.0788219\n"
     ]
    }
   ],
   "source": [
    "from sklearn.metrics.pairwise import cosine_similarity\n",
    "\n",
    "for w1, w2 in pairs:\n",
    "    print(w1, w2, cosine_similarity(wv[w1].reshape(1, -1), wv[w2].reshape(1, -1)), wv.similarity(w1, w2))"
   ]
  },
  {
   "cell_type": "markdown",
   "metadata": {},
   "source": [
    "Find the most similar word to all of the words: bike, train, plane, car, bus."
   ]
  },
  {
   "cell_type": "code",
   "execution_count": 12,
   "metadata": {},
   "outputs": [
    {
     "name": "stdout",
     "output_type": "stream",
     "text": [
      "[('bicycle', 0.678739607334137), ('scooter', 0.6726157069206238), ('van', 0.6673938632011414), ('buses', 0.6520541906356812), ('vehicle', 0.6501880288124084)]\n"
     ]
    }
   ],
   "source": [
    "print(wv.most_similar(positive=['bike', 'train', 'plane', 'car', 'bus'], topn=5))"
   ]
  },
  {
   "cell_type": "markdown",
   "metadata": {},
   "source": [
    "**Odd one out.** Find the term that doesn't fit the rest of the list: fire, water, land, car, sea, air."
   ]
  },
  {
   "cell_type": "code",
   "execution_count": 13,
   "metadata": {},
   "outputs": [
    {
     "name": "stdout",
     "output_type": "stream",
     "text": [
      "car\n"
     ]
    }
   ],
   "source": [
    "print(wv.doesnt_match(['fire', 'water', 'land', 'car', 'sea', 'air']))"
   ]
  },
  {
   "cell_type": "markdown",
   "metadata": {},
   "source": [
    "Let's evaluate our word vectors on the WordSim353 dataset. You can get it from `datapath('wordsim353.tsv')` (import `datapath` from `gensim.test.utils`). What's the Pearson correlation?"
   ]
  },
  {
   "cell_type": "code",
   "execution_count": 15,
   "metadata": {},
   "outputs": [
    {
     "name": "stdout",
     "output_type": "stream",
     "text": [
      "(PearsonRResult(statistic=0.6238773487289394, pvalue=1.7963224351224875e-39), SignificanceResult(statistic=0.6589215888009288, pvalue=2.534605645914962e-45), 0.0)\n"
     ]
    }
   ],
   "source": [
    "from gensim.test.utils import datapath\n",
    "\n",
    "similarity = wv.evaluate_word_pairs(datapath('wordsim353.tsv'))\n",
    "print(similarity)"
   ]
  },
  {
   "cell_type": "markdown",
   "metadata": {},
   "source": [
    "## Word Analogy\n",
    "We also want to evaluate our word embeddings on the word analogy task. The test set from the original word2vec paper also comes with gensim, and is found in `datapath('questions-words.txt')`. Let's look at the categories that are present in the test file."
   ]
  },
  {
   "cell_type": "code",
   "execution_count": 16,
   "metadata": {},
   "outputs": [
    {
     "name": "stdout",
     "output_type": "stream",
     "text": [
      "0 : capital-common-countries\n",
      "507 : capital-world\n",
      "5032 : currency\n",
      "5899 : city-in-state\n",
      "8367 : family\n",
      "8874 : gram1-adjective-to-adverb\n",
      "9867 : gram2-opposite\n",
      "10680 : gram3-comparative\n",
      "12013 : gram4-superlative\n",
      "13136 : gram5-present-participle\n",
      "14193 : gram6-nationality-adjective\n",
      "15793 : gram7-past-tense\n",
      "17354 : gram8-plural\n",
      "18687 : gram9-plural-verbs\n"
     ]
    }
   ],
   "source": [
    "with open(datapath('questions-words.txt')) as f:\n",
    "    for i, line in enumerate(f):\n",
    "        if line.startswith(':'):\n",
    "            print(i, line.strip())"
   ]
  },
  {
   "cell_type": "markdown",
   "metadata": {},
   "source": [
    "To save us some computation time, we're just going to use the first category, `capital-common-countries`. We store its evaluation examples in a new text file `word-analogies.txt`."
   ]
  },
  {
   "cell_type": "code",
   "execution_count": 17,
   "metadata": {},
   "outputs": [
    {
     "name": "stdout",
     "output_type": "stream",
     "text": [
      "[': capital-common-countries\\n', 'Athens Greece Baghdad Iraq\\n', 'Athens Greece Bangkok Thailand\\n', 'Athens Greece Beijing China\\n', 'Athens Greece Berlin Germany\\n', 'Athens Greece Bern Switzerland\\n', 'Athens Greece Cairo Egypt\\n', 'Athens Greece Canberra Australia\\n', 'Athens Greece Hanoi Vietnam\\n', 'Athens Greece Havana Cuba\\n']\n"
     ]
    }
   ],
   "source": [
    "lines = []\n",
    "with open(datapath('questions-words.txt')) as f:\n",
    "    for line in f:\n",
    "        if line.startswith(': capital-world'):\n",
    "            break\n",
    "        lines.append(line)\n",
    "print(lines[:10])\n",
    "with open(datapath('word-analogies.txt'), 'w') as f:\n",
    "    f.writelines(lines)"
   ]
  },
  {
   "cell_type": "markdown",
   "metadata": {},
   "source": [
    "Now we can evaluate our model with gensim's built-in function `evaluate_word_analogies`. Save the results to a variable `analogy_scores`."
   ]
  },
  {
   "cell_type": "code",
   "execution_count": 18,
   "metadata": {},
   "outputs": [
    {
     "name": "stdout",
     "output_type": "stream",
     "text": [
      "(0.8320158102766798, [{'section': 'capital-common-countries', 'correct': [('ATHENS', 'GREECE', 'BANGKOK', 'THAILAND'), ('ATHENS', 'GREECE', 'BEIJING', 'CHINA'), ('ATHENS', 'GREECE', 'BERLIN', 'GERMANY'), ('ATHENS', 'GREECE', 'BERN', 'SWITZERLAND'), ('ATHENS', 'GREECE', 'CAIRO', 'EGYPT'), ('ATHENS', 'GREECE', 'CANBERRA', 'AUSTRALIA'), ('ATHENS', 'GREECE', 'HAVANA', 'CUBA'), ('ATHENS', 'GREECE', 'HELSINKI', 'FINLAND'), ('ATHENS', 'GREECE', 'ISLAMABAD', 'PAKISTAN'), ('ATHENS', 'GREECE', 'MADRID', 'SPAIN'), ('ATHENS', 'GREECE', 'MOSCOW', 'RUSSIA'), ('ATHENS', 'GREECE', 'OSLO', 'NORWAY'), ('ATHENS', 'GREECE', 'OTTAWA', 'CANADA'), ('ATHENS', 'GREECE', 'PARIS', 'FRANCE'), ('ATHENS', 'GREECE', 'ROME', 'ITALY'), ('ATHENS', 'GREECE', 'STOCKHOLM', 'SWEDEN'), ('ATHENS', 'GREECE', 'TEHRAN', 'IRAN'), ('ATHENS', 'GREECE', 'TOKYO', 'JAPAN'), ('BAGHDAD', 'IRAQ', 'BANGKOK', 'THAILAND'), ('BAGHDAD', 'IRAQ', 'BEIJING', 'CHINA'), ('BAGHDAD', 'IRAQ', 'BERLIN', 'GERMANY'), ('BAGHDAD', 'IRAQ', 'CAIRO', 'EGYPT'), ('BAGHDAD', 'IRAQ', 'HANOI', 'VIETNAM'), ('BAGHDAD', 'IRAQ', 'HAVANA', 'CUBA'), ('BAGHDAD', 'IRAQ', 'HELSINKI', 'FINLAND'), ('BAGHDAD', 'IRAQ', 'ISLAMABAD', 'PAKISTAN'), ('BAGHDAD', 'IRAQ', 'KABUL', 'AFGHANISTAN'), ('BAGHDAD', 'IRAQ', 'MADRID', 'SPAIN'), ('BAGHDAD', 'IRAQ', 'MOSCOW', 'RUSSIA'), ('BAGHDAD', 'IRAQ', 'OSLO', 'NORWAY'), ('BAGHDAD', 'IRAQ', 'PARIS', 'FRANCE'), ('BAGHDAD', 'IRAQ', 'ROME', 'ITALY'), ('BAGHDAD', 'IRAQ', 'STOCKHOLM', 'SWEDEN'), ('BAGHDAD', 'IRAQ', 'TEHRAN', 'IRAN'), ('BAGHDAD', 'IRAQ', 'TOKYO', 'JAPAN'), ('BAGHDAD', 'IRAQ', 'ATHENS', 'GREECE'), ('BANGKOK', 'THAILAND', 'BEIJING', 'CHINA'), ('BANGKOK', 'THAILAND', 'BERLIN', 'GERMANY'), ('BANGKOK', 'THAILAND', 'BERN', 'SWITZERLAND'), ('BANGKOK', 'THAILAND', 'CAIRO', 'EGYPT'), ('BANGKOK', 'THAILAND', 'CANBERRA', 'AUSTRALIA'), ('BANGKOK', 'THAILAND', 'HAVANA', 'CUBA'), ('BANGKOK', 'THAILAND', 'HELSINKI', 'FINLAND'), ('BANGKOK', 'THAILAND', 'ISLAMABAD', 'PAKISTAN'), ('BANGKOK', 'THAILAND', 'KABUL', 'AFGHANISTAN'), ('BANGKOK', 'THAILAND', 'MADRID', 'SPAIN'), ('BANGKOK', 'THAILAND', 'MOSCOW', 'RUSSIA'), ('BANGKOK', 'THAILAND', 'OSLO', 'NORWAY'), ('BANGKOK', 'THAILAND', 'OTTAWA', 'CANADA'), ('BANGKOK', 'THAILAND', 'PARIS', 'FRANCE'), ('BANGKOK', 'THAILAND', 'ROME', 'ITALY'), ('BANGKOK', 'THAILAND', 'STOCKHOLM', 'SWEDEN'), ('BANGKOK', 'THAILAND', 'TEHRAN', 'IRAN'), ('BANGKOK', 'THAILAND', 'TOKYO', 'JAPAN'), ('BANGKOK', 'THAILAND', 'ATHENS', 'GREECE'), ('BEIJING', 'CHINA', 'BERLIN', 'GERMANY'), ('BEIJING', 'CHINA', 'CAIRO', 'EGYPT'), ('BEIJING', 'CHINA', 'CANBERRA', 'AUSTRALIA'), ('BEIJING', 'CHINA', 'HAVANA', 'CUBA'), ('BEIJING', 'CHINA', 'HELSINKI', 'FINLAND'), ('BEIJING', 'CHINA', 'ISLAMABAD', 'PAKISTAN'), ('BEIJING', 'CHINA', 'MADRID', 'SPAIN'), ('BEIJING', 'CHINA', 'MOSCOW', 'RUSSIA'), ('BEIJING', 'CHINA', 'OSLO', 'NORWAY'), ('BEIJING', 'CHINA', 'OTTAWA', 'CANADA'), ('BEIJING', 'CHINA', 'PARIS', 'FRANCE'), ('BEIJING', 'CHINA', 'ROME', 'ITALY'), ('BEIJING', 'CHINA', 'STOCKHOLM', 'SWEDEN'), ('BEIJING', 'CHINA', 'TEHRAN', 'IRAN'), ('BEIJING', 'CHINA', 'TOKYO', 'JAPAN'), ('BEIJING', 'CHINA', 'ATHENS', 'GREECE'), ('BEIJING', 'CHINA', 'BANGKOK', 'THAILAND'), ('BERLIN', 'GERMANY', 'BERN', 'SWITZERLAND'), ('BERLIN', 'GERMANY', 'CAIRO', 'EGYPT'), ('BERLIN', 'GERMANY', 'CANBERRA', 'AUSTRALIA'), ('BERLIN', 'GERMANY', 'HAVANA', 'CUBA'), ('BERLIN', 'GERMANY', 'HELSINKI', 'FINLAND'), ('BERLIN', 'GERMANY', 'ISLAMABAD', 'PAKISTAN'), ('BERLIN', 'GERMANY', 'MADRID', 'SPAIN'), ('BERLIN', 'GERMANY', 'MOSCOW', 'RUSSIA'), ('BERLIN', 'GERMANY', 'OSLO', 'NORWAY'), ('BERLIN', 'GERMANY', 'OTTAWA', 'CANADA'), ('BERLIN', 'GERMANY', 'PARIS', 'FRANCE'), ('BERLIN', 'GERMANY', 'ROME', 'ITALY'), ('BERLIN', 'GERMANY', 'STOCKHOLM', 'SWEDEN'), ('BERLIN', 'GERMANY', 'TEHRAN', 'IRAN'), ('BERLIN', 'GERMANY', 'TOKYO', 'JAPAN'), ('BERLIN', 'GERMANY', 'ATHENS', 'GREECE'), ('BERLIN', 'GERMANY', 'BANGKOK', 'THAILAND'), ('BERLIN', 'GERMANY', 'BEIJING', 'CHINA'), ('BERN', 'SWITZERLAND', 'CAIRO', 'EGYPT'), ('BERN', 'SWITZERLAND', 'CANBERRA', 'AUSTRALIA'), ('BERN', 'SWITZERLAND', 'HAVANA', 'CUBA'), ('BERN', 'SWITZERLAND', 'HELSINKI', 'FINLAND'), ('BERN', 'SWITZERLAND', 'ISLAMABAD', 'PAKISTAN'), ('BERN', 'SWITZERLAND', 'KABUL', 'AFGHANISTAN'), ('BERN', 'SWITZERLAND', 'MADRID', 'SPAIN'), ('BERN', 'SWITZERLAND', 'MOSCOW', 'RUSSIA'), ('BERN', 'SWITZERLAND', 'OSLO', 'NORWAY'), ('BERN', 'SWITZERLAND', 'OTTAWA', 'CANADA'), ('BERN', 'SWITZERLAND', 'PARIS', 'FRANCE'), ('BERN', 'SWITZERLAND', 'ROME', 'ITALY'), ('BERN', 'SWITZERLAND', 'STOCKHOLM', 'SWEDEN'), ('BERN', 'SWITZERLAND', 'TEHRAN', 'IRAN'), ('BERN', 'SWITZERLAND', 'TOKYO', 'JAPAN'), ('BERN', 'SWITZERLAND', 'ATHENS', 'GREECE'), ('BERN', 'SWITZERLAND', 'BANGKOK', 'THAILAND'), ('BERN', 'SWITZERLAND', 'BEIJING', 'CHINA'), ('BERN', 'SWITZERLAND', 'BERLIN', 'GERMANY'), ('CAIRO', 'EGYPT', 'CANBERRA', 'AUSTRALIA'), ('CAIRO', 'EGYPT', 'HAVANA', 'CUBA'), ('CAIRO', 'EGYPT', 'HELSINKI', 'FINLAND'), ('CAIRO', 'EGYPT', 'ISLAMABAD', 'PAKISTAN'), ('CAIRO', 'EGYPT', 'MADRID', 'SPAIN'), ('CAIRO', 'EGYPT', 'MOSCOW', 'RUSSIA'), ('CAIRO', 'EGYPT', 'OSLO', 'NORWAY'), ('CAIRO', 'EGYPT', 'OTTAWA', 'CANADA'), ('CAIRO', 'EGYPT', 'PARIS', 'FRANCE'), ('CAIRO', 'EGYPT', 'ROME', 'ITALY'), ('CAIRO', 'EGYPT', 'STOCKHOLM', 'SWEDEN'), ('CAIRO', 'EGYPT', 'TEHRAN', 'IRAN'), ('CAIRO', 'EGYPT', 'TOKYO', 'JAPAN'), ('CAIRO', 'EGYPT', 'ATHENS', 'GREECE'), ('CAIRO', 'EGYPT', 'BANGKOK', 'THAILAND'), ('CAIRO', 'EGYPT', 'BEIJING', 'CHINA'), ('CAIRO', 'EGYPT', 'BERLIN', 'GERMANY'), ('CAIRO', 'EGYPT', 'BERN', 'SWITZERLAND'), ('CANBERRA', 'AUSTRALIA', 'HAVANA', 'CUBA'), ('CANBERRA', 'AUSTRALIA', 'HELSINKI', 'FINLAND'), ('CANBERRA', 'AUSTRALIA', 'ISLAMABAD', 'PAKISTAN'), ('CANBERRA', 'AUSTRALIA', 'MADRID', 'SPAIN'), ('CANBERRA', 'AUSTRALIA', 'MOSCOW', 'RUSSIA'), ('CANBERRA', 'AUSTRALIA', 'OSLO', 'NORWAY'), ('CANBERRA', 'AUSTRALIA', 'OTTAWA', 'CANADA'), ('CANBERRA', 'AUSTRALIA', 'PARIS', 'FRANCE'), ('CANBERRA', 'AUSTRALIA', 'ROME', 'ITALY'), ('CANBERRA', 'AUSTRALIA', 'STOCKHOLM', 'SWEDEN'), ('CANBERRA', 'AUSTRALIA', 'TEHRAN', 'IRAN'), ('CANBERRA', 'AUSTRALIA', 'TOKYO', 'JAPAN'), ('CANBERRA', 'AUSTRALIA', 'ATHENS', 'GREECE'), ('CANBERRA', 'AUSTRALIA', 'BANGKOK', 'THAILAND'), ('CANBERRA', 'AUSTRALIA', 'BEIJING', 'CHINA'), ('CANBERRA', 'AUSTRALIA', 'BERLIN', 'GERMANY'), ('CANBERRA', 'AUSTRALIA', 'BERN', 'SWITZERLAND'), ('CANBERRA', 'AUSTRALIA', 'CAIRO', 'EGYPT'), ('HANOI', 'VIETNAM', 'HAVANA', 'CUBA'), ('HANOI', 'VIETNAM', 'HELSINKI', 'FINLAND'), ('HANOI', 'VIETNAM', 'ISLAMABAD', 'PAKISTAN'), ('HANOI', 'VIETNAM', 'KABUL', 'AFGHANISTAN'), ('HANOI', 'VIETNAM', 'MADRID', 'SPAIN'), ('HANOI', 'VIETNAM', 'MOSCOW', 'RUSSIA'), ('HANOI', 'VIETNAM', 'OSLO', 'NORWAY'), ('HANOI', 'VIETNAM', 'OTTAWA', 'CANADA'), ('HANOI', 'VIETNAM', 'PARIS', 'FRANCE'), ('HANOI', 'VIETNAM', 'ROME', 'ITALY'), ('HANOI', 'VIETNAM', 'STOCKHOLM', 'SWEDEN'), ('HANOI', 'VIETNAM', 'TEHRAN', 'IRAN'), ('HANOI', 'VIETNAM', 'TOKYO', 'JAPAN'), ('HANOI', 'VIETNAM', 'ATHENS', 'GREECE'), ('HANOI', 'VIETNAM', 'BAGHDAD', 'IRAQ'), ('HANOI', 'VIETNAM', 'BANGKOK', 'THAILAND'), ('HANOI', 'VIETNAM', 'BEIJING', 'CHINA'), ('HANOI', 'VIETNAM', 'BERLIN', 'GERMANY'), ('HANOI', 'VIETNAM', 'CAIRO', 'EGYPT'), ('HANOI', 'VIETNAM', 'CANBERRA', 'AUSTRALIA'), ('HAVANA', 'CUBA', 'HELSINKI', 'FINLAND'), ('HAVANA', 'CUBA', 'ISLAMABAD', 'PAKISTAN'), ('HAVANA', 'CUBA', 'KABUL', 'AFGHANISTAN'), ('HAVANA', 'CUBA', 'MADRID', 'SPAIN'), ('HAVANA', 'CUBA', 'MOSCOW', 'RUSSIA'), ('HAVANA', 'CUBA', 'OSLO', 'NORWAY'), ('HAVANA', 'CUBA', 'OTTAWA', 'CANADA'), ('HAVANA', 'CUBA', 'PARIS', 'FRANCE'), ('HAVANA', 'CUBA', 'ROME', 'ITALY'), ('HAVANA', 'CUBA', 'STOCKHOLM', 'SWEDEN'), ('HAVANA', 'CUBA', 'TEHRAN', 'IRAN'), ('HAVANA', 'CUBA', 'TOKYO', 'JAPAN'), ('HAVANA', 'CUBA', 'ATHENS', 'GREECE'), ('HAVANA', 'CUBA', 'BAGHDAD', 'IRAQ'), ('HAVANA', 'CUBA', 'BANGKOK', 'THAILAND'), ('HAVANA', 'CUBA', 'BEIJING', 'CHINA'), ('HAVANA', 'CUBA', 'BERLIN', 'GERMANY'), ('HAVANA', 'CUBA', 'BERN', 'SWITZERLAND'), ('HAVANA', 'CUBA', 'CAIRO', 'EGYPT'), ('HAVANA', 'CUBA', 'CANBERRA', 'AUSTRALIA'), ('HELSINKI', 'FINLAND', 'ISLAMABAD', 'PAKISTAN'), ('HELSINKI', 'FINLAND', 'MADRID', 'SPAIN'), ('HELSINKI', 'FINLAND', 'MOSCOW', 'RUSSIA'), ('HELSINKI', 'FINLAND', 'OSLO', 'NORWAY'), ('HELSINKI', 'FINLAND', 'OTTAWA', 'CANADA'), ('HELSINKI', 'FINLAND', 'PARIS', 'FRANCE'), ('HELSINKI', 'FINLAND', 'ROME', 'ITALY'), ('HELSINKI', 'FINLAND', 'STOCKHOLM', 'SWEDEN'), ('HELSINKI', 'FINLAND', 'TEHRAN', 'IRAN'), ('HELSINKI', 'FINLAND', 'TOKYO', 'JAPAN'), ('HELSINKI', 'FINLAND', 'ATHENS', 'GREECE'), ('HELSINKI', 'FINLAND', 'BANGKOK', 'THAILAND'), ('HELSINKI', 'FINLAND', 'BEIJING', 'CHINA'), ('HELSINKI', 'FINLAND', 'BERLIN', 'GERMANY'), ('HELSINKI', 'FINLAND', 'BERN', 'SWITZERLAND'), ('HELSINKI', 'FINLAND', 'CAIRO', 'EGYPT'), ('HELSINKI', 'FINLAND', 'CANBERRA', 'AUSTRALIA'), ('HELSINKI', 'FINLAND', 'HAVANA', 'CUBA'), ('ISLAMABAD', 'PAKISTAN', 'MADRID', 'SPAIN'), ('ISLAMABAD', 'PAKISTAN', 'MOSCOW', 'RUSSIA'), ('ISLAMABAD', 'PAKISTAN', 'OSLO', 'NORWAY'), ('ISLAMABAD', 'PAKISTAN', 'OTTAWA', 'CANADA'), ('ISLAMABAD', 'PAKISTAN', 'PARIS', 'FRANCE'), ('ISLAMABAD', 'PAKISTAN', 'ROME', 'ITALY'), ('ISLAMABAD', 'PAKISTAN', 'STOCKHOLM', 'SWEDEN'), ('ISLAMABAD', 'PAKISTAN', 'TEHRAN', 'IRAN'), ('ISLAMABAD', 'PAKISTAN', 'TOKYO', 'JAPAN'), ('ISLAMABAD', 'PAKISTAN', 'ATHENS', 'GREECE'), ('ISLAMABAD', 'PAKISTAN', 'BANGKOK', 'THAILAND'), ('ISLAMABAD', 'PAKISTAN', 'BEIJING', 'CHINA'), ('ISLAMABAD', 'PAKISTAN', 'BERLIN', 'GERMANY'), ('ISLAMABAD', 'PAKISTAN', 'BERN', 'SWITZERLAND'), ('ISLAMABAD', 'PAKISTAN', 'CAIRO', 'EGYPT'), ('ISLAMABAD', 'PAKISTAN', 'CANBERRA', 'AUSTRALIA'), ('ISLAMABAD', 'PAKISTAN', 'HAVANA', 'CUBA'), ('ISLAMABAD', 'PAKISTAN', 'HELSINKI', 'FINLAND'), ('KABUL', 'AFGHANISTAN', 'MADRID', 'SPAIN'), ('KABUL', 'AFGHANISTAN', 'MOSCOW', 'RUSSIA'), ('KABUL', 'AFGHANISTAN', 'OSLO', 'NORWAY'), ('KABUL', 'AFGHANISTAN', 'PARIS', 'FRANCE'), ('KABUL', 'AFGHANISTAN', 'ROME', 'ITALY'), ('KABUL', 'AFGHANISTAN', 'STOCKHOLM', 'SWEDEN'), ('KABUL', 'AFGHANISTAN', 'TEHRAN', 'IRAN'), ('KABUL', 'AFGHANISTAN', 'TOKYO', 'JAPAN'), ('KABUL', 'AFGHANISTAN', 'ATHENS', 'GREECE'), ('KABUL', 'AFGHANISTAN', 'BAGHDAD', 'IRAQ'), ('KABUL', 'AFGHANISTAN', 'BANGKOK', 'THAILAND'), ('KABUL', 'AFGHANISTAN', 'BEIJING', 'CHINA'), ('KABUL', 'AFGHANISTAN', 'BERLIN', 'GERMANY'), ('KABUL', 'AFGHANISTAN', 'CAIRO', 'EGYPT'), ('KABUL', 'AFGHANISTAN', 'HANOI', 'VIETNAM'), ('KABUL', 'AFGHANISTAN', 'HAVANA', 'CUBA'), ('KABUL', 'AFGHANISTAN', 'HELSINKI', 'FINLAND'), ('KABUL', 'AFGHANISTAN', 'ISLAMABAD', 'PAKISTAN'), ('LONDON', 'ENGLAND', 'MADRID', 'SPAIN'), ('LONDON', 'ENGLAND', 'MOSCOW', 'RUSSIA'), ('LONDON', 'ENGLAND', 'OSLO', 'NORWAY'), ('LONDON', 'ENGLAND', 'OTTAWA', 'CANADA'), ('LONDON', 'ENGLAND', 'PARIS', 'FRANCE'), ('LONDON', 'ENGLAND', 'ROME', 'ITALY'), ('LONDON', 'ENGLAND', 'STOCKHOLM', 'SWEDEN'), ('LONDON', 'ENGLAND', 'TEHRAN', 'IRAN'), ('LONDON', 'ENGLAND', 'TOKYO', 'JAPAN'), ('LONDON', 'ENGLAND', 'ATHENS', 'GREECE'), ('LONDON', 'ENGLAND', 'BANGKOK', 'THAILAND'), ('LONDON', 'ENGLAND', 'BEIJING', 'CHINA'), ('LONDON', 'ENGLAND', 'BERLIN', 'GERMANY'), ('LONDON', 'ENGLAND', 'CAIRO', 'EGYPT'), ('LONDON', 'ENGLAND', 'CANBERRA', 'AUSTRALIA'), ('LONDON', 'ENGLAND', 'HAVANA', 'CUBA'), ('LONDON', 'ENGLAND', 'HELSINKI', 'FINLAND'), ('LONDON', 'ENGLAND', 'ISLAMABAD', 'PAKISTAN'), ('MADRID', 'SPAIN', 'MOSCOW', 'RUSSIA'), ('MADRID', 'SPAIN', 'OSLO', 'NORWAY'), ('MADRID', 'SPAIN', 'OTTAWA', 'CANADA'), ('MADRID', 'SPAIN', 'PARIS', 'FRANCE'), ('MADRID', 'SPAIN', 'ROME', 'ITALY'), ('MADRID', 'SPAIN', 'STOCKHOLM', 'SWEDEN'), ('MADRID', 'SPAIN', 'TEHRAN', 'IRAN'), ('MADRID', 'SPAIN', 'TOKYO', 'JAPAN'), ('MADRID', 'SPAIN', 'ATHENS', 'GREECE'), ('MADRID', 'SPAIN', 'BANGKOK', 'THAILAND'), ('MADRID', 'SPAIN', 'BEIJING', 'CHINA'), ('MADRID', 'SPAIN', 'BERLIN', 'GERMANY'), ('MADRID', 'SPAIN', 'BERN', 'SWITZERLAND'), ('MADRID', 'SPAIN', 'CAIRO', 'EGYPT'), ('MADRID', 'SPAIN', 'CANBERRA', 'AUSTRALIA'), ('MADRID', 'SPAIN', 'HAVANA', 'CUBA'), ('MADRID', 'SPAIN', 'HELSINKI', 'FINLAND'), ('MADRID', 'SPAIN', 'ISLAMABAD', 'PAKISTAN'), ('MOSCOW', 'RUSSIA', 'OSLO', 'NORWAY'), ('MOSCOW', 'RUSSIA', 'OTTAWA', 'CANADA'), ('MOSCOW', 'RUSSIA', 'PARIS', 'FRANCE'), ('MOSCOW', 'RUSSIA', 'ROME', 'ITALY'), ('MOSCOW', 'RUSSIA', 'STOCKHOLM', 'SWEDEN'), ('MOSCOW', 'RUSSIA', 'TEHRAN', 'IRAN'), ('MOSCOW', 'RUSSIA', 'TOKYO', 'JAPAN'), ('MOSCOW', 'RUSSIA', 'ATHENS', 'GREECE'), ('MOSCOW', 'RUSSIA', 'BANGKOK', 'THAILAND'), ('MOSCOW', 'RUSSIA', 'BEIJING', 'CHINA'), ('MOSCOW', 'RUSSIA', 'BERLIN', 'GERMANY'), ('MOSCOW', 'RUSSIA', 'BERN', 'SWITZERLAND'), ('MOSCOW', 'RUSSIA', 'CAIRO', 'EGYPT'), ('MOSCOW', 'RUSSIA', 'CANBERRA', 'AUSTRALIA'), ('MOSCOW', 'RUSSIA', 'HAVANA', 'CUBA'), ('MOSCOW', 'RUSSIA', 'HELSINKI', 'FINLAND'), ('MOSCOW', 'RUSSIA', 'ISLAMABAD', 'PAKISTAN'), ('MOSCOW', 'RUSSIA', 'MADRID', 'SPAIN'), ('OSLO', 'NORWAY', 'OTTAWA', 'CANADA'), ('OSLO', 'NORWAY', 'PARIS', 'FRANCE'), ('OSLO', 'NORWAY', 'ROME', 'ITALY'), ('OSLO', 'NORWAY', 'STOCKHOLM', 'SWEDEN'), ('OSLO', 'NORWAY', 'TEHRAN', 'IRAN'), ('OSLO', 'NORWAY', 'TOKYO', 'JAPAN'), ('OSLO', 'NORWAY', 'ATHENS', 'GREECE'), ('OSLO', 'NORWAY', 'BANGKOK', 'THAILAND'), ('OSLO', 'NORWAY', 'BEIJING', 'CHINA'), ('OSLO', 'NORWAY', 'BERLIN', 'GERMANY'), ('OSLO', 'NORWAY', 'BERN', 'SWITZERLAND'), ('OSLO', 'NORWAY', 'CAIRO', 'EGYPT'), ('OSLO', 'NORWAY', 'CANBERRA', 'AUSTRALIA'), ('OSLO', 'NORWAY', 'HAVANA', 'CUBA'), ('OSLO', 'NORWAY', 'HELSINKI', 'FINLAND'), ('OSLO', 'NORWAY', 'ISLAMABAD', 'PAKISTAN'), ('OSLO', 'NORWAY', 'MADRID', 'SPAIN'), ('OSLO', 'NORWAY', 'MOSCOW', 'RUSSIA'), ('OTTAWA', 'CANADA', 'PARIS', 'FRANCE'), ('OTTAWA', 'CANADA', 'ROME', 'ITALY'), ('OTTAWA', 'CANADA', 'STOCKHOLM', 'SWEDEN'), ('OTTAWA', 'CANADA', 'TEHRAN', 'IRAN'), ('OTTAWA', 'CANADA', 'TOKYO', 'JAPAN'), ('OTTAWA', 'CANADA', 'ATHENS', 'GREECE'), ('OTTAWA', 'CANADA', 'BANGKOK', 'THAILAND'), ('OTTAWA', 'CANADA', 'BEIJING', 'CHINA'), ('OTTAWA', 'CANADA', 'BERLIN', 'GERMANY'), ('OTTAWA', 'CANADA', 'BERN', 'SWITZERLAND'), ('OTTAWA', 'CANADA', 'CAIRO', 'EGYPT'), ('OTTAWA', 'CANADA', 'CANBERRA', 'AUSTRALIA'), ('OTTAWA', 'CANADA', 'HAVANA', 'CUBA'), ('OTTAWA', 'CANADA', 'HELSINKI', 'FINLAND'), ('OTTAWA', 'CANADA', 'ISLAMABAD', 'PAKISTAN'), ('OTTAWA', 'CANADA', 'MADRID', 'SPAIN'), ('OTTAWA', 'CANADA', 'MOSCOW', 'RUSSIA'), ('OTTAWA', 'CANADA', 'OSLO', 'NORWAY'), ('PARIS', 'FRANCE', 'ROME', 'ITALY'), ('PARIS', 'FRANCE', 'STOCKHOLM', 'SWEDEN'), ('PARIS', 'FRANCE', 'TEHRAN', 'IRAN'), ('PARIS', 'FRANCE', 'TOKYO', 'JAPAN'), ('PARIS', 'FRANCE', 'ATHENS', 'GREECE'), ('PARIS', 'FRANCE', 'BANGKOK', 'THAILAND'), ('PARIS', 'FRANCE', 'BEIJING', 'CHINA'), ('PARIS', 'FRANCE', 'BERLIN', 'GERMANY'), ('PARIS', 'FRANCE', 'BERN', 'SWITZERLAND'), ('PARIS', 'FRANCE', 'CAIRO', 'EGYPT'), ('PARIS', 'FRANCE', 'CANBERRA', 'AUSTRALIA'), ('PARIS', 'FRANCE', 'HAVANA', 'CUBA'), ('PARIS', 'FRANCE', 'HELSINKI', 'FINLAND'), ('PARIS', 'FRANCE', 'ISLAMABAD', 'PAKISTAN'), ('PARIS', 'FRANCE', 'MADRID', 'SPAIN'), ('PARIS', 'FRANCE', 'MOSCOW', 'RUSSIA'), ('PARIS', 'FRANCE', 'OSLO', 'NORWAY'), ('PARIS', 'FRANCE', 'OTTAWA', 'CANADA'), ('ROME', 'ITALY', 'STOCKHOLM', 'SWEDEN'), ('ROME', 'ITALY', 'TEHRAN', 'IRAN'), ('ROME', 'ITALY', 'TOKYO', 'JAPAN'), ('ROME', 'ITALY', 'ATHENS', 'GREECE'), ('ROME', 'ITALY', 'BANGKOK', 'THAILAND'), ('ROME', 'ITALY', 'BEIJING', 'CHINA'), ('ROME', 'ITALY', 'BERLIN', 'GERMANY'), ('ROME', 'ITALY', 'BERN', 'SWITZERLAND'), ('ROME', 'ITALY', 'CAIRO', 'EGYPT'), ('ROME', 'ITALY', 'CANBERRA', 'AUSTRALIA'), ('ROME', 'ITALY', 'HAVANA', 'CUBA'), ('ROME', 'ITALY', 'HELSINKI', 'FINLAND'), ('ROME', 'ITALY', 'ISLAMABAD', 'PAKISTAN'), ('ROME', 'ITALY', 'MADRID', 'SPAIN'), ('ROME', 'ITALY', 'MOSCOW', 'RUSSIA'), ('ROME', 'ITALY', 'OSLO', 'NORWAY'), ('ROME', 'ITALY', 'OTTAWA', 'CANADA'), ('ROME', 'ITALY', 'PARIS', 'FRANCE'), ('STOCKHOLM', 'SWEDEN', 'TEHRAN', 'IRAN'), ('STOCKHOLM', 'SWEDEN', 'TOKYO', 'JAPAN'), ('STOCKHOLM', 'SWEDEN', 'ATHENS', 'GREECE'), ('STOCKHOLM', 'SWEDEN', 'BANGKOK', 'THAILAND'), ('STOCKHOLM', 'SWEDEN', 'BEIJING', 'CHINA'), ('STOCKHOLM', 'SWEDEN', 'BERLIN', 'GERMANY'), ('STOCKHOLM', 'SWEDEN', 'BERN', 'SWITZERLAND'), ('STOCKHOLM', 'SWEDEN', 'CAIRO', 'EGYPT'), ('STOCKHOLM', 'SWEDEN', 'CANBERRA', 'AUSTRALIA'), ('STOCKHOLM', 'SWEDEN', 'HAVANA', 'CUBA'), ('STOCKHOLM', 'SWEDEN', 'HELSINKI', 'FINLAND'), ('STOCKHOLM', 'SWEDEN', 'ISLAMABAD', 'PAKISTAN'), ('STOCKHOLM', 'SWEDEN', 'MADRID', 'SPAIN'), ('STOCKHOLM', 'SWEDEN', 'MOSCOW', 'RUSSIA'), ('STOCKHOLM', 'SWEDEN', 'OSLO', 'NORWAY'), ('STOCKHOLM', 'SWEDEN', 'OTTAWA', 'CANADA'), ('STOCKHOLM', 'SWEDEN', 'PARIS', 'FRANCE'), ('STOCKHOLM', 'SWEDEN', 'ROME', 'ITALY'), ('TEHRAN', 'IRAN', 'TOKYO', 'JAPAN'), ('TEHRAN', 'IRAN', 'ATHENS', 'GREECE'), ('TEHRAN', 'IRAN', 'BAGHDAD', 'IRAQ'), ('TEHRAN', 'IRAN', 'BANGKOK', 'THAILAND'), ('TEHRAN', 'IRAN', 'BEIJING', 'CHINA'), ('TEHRAN', 'IRAN', 'BERLIN', 'GERMANY'), ('TEHRAN', 'IRAN', 'CAIRO', 'EGYPT'), ('TEHRAN', 'IRAN', 'CANBERRA', 'AUSTRALIA'), ('TEHRAN', 'IRAN', 'HAVANA', 'CUBA'), ('TEHRAN', 'IRAN', 'HELSINKI', 'FINLAND'), ('TEHRAN', 'IRAN', 'ISLAMABAD', 'PAKISTAN'), ('TEHRAN', 'IRAN', 'MADRID', 'SPAIN'), ('TEHRAN', 'IRAN', 'MOSCOW', 'RUSSIA'), ('TEHRAN', 'IRAN', 'OSLO', 'NORWAY'), ('TEHRAN', 'IRAN', 'OTTAWA', 'CANADA'), ('TEHRAN', 'IRAN', 'PARIS', 'FRANCE'), ('TEHRAN', 'IRAN', 'ROME', 'ITALY'), ('TEHRAN', 'IRAN', 'STOCKHOLM', 'SWEDEN'), ('TOKYO', 'JAPAN', 'ATHENS', 'GREECE'), ('TOKYO', 'JAPAN', 'BAGHDAD', 'IRAQ'), ('TOKYO', 'JAPAN', 'BANGKOK', 'THAILAND'), ('TOKYO', 'JAPAN', 'BEIJING', 'CHINA'), ('TOKYO', 'JAPAN', 'BERLIN', 'GERMANY'), ('TOKYO', 'JAPAN', 'BERN', 'SWITZERLAND'), ('TOKYO', 'JAPAN', 'CAIRO', 'EGYPT'), ('TOKYO', 'JAPAN', 'CANBERRA', 'AUSTRALIA'), ('TOKYO', 'JAPAN', 'HAVANA', 'CUBA'), ('TOKYO', 'JAPAN', 'HELSINKI', 'FINLAND'), ('TOKYO', 'JAPAN', 'ISLAMABAD', 'PAKISTAN'), ('TOKYO', 'JAPAN', 'KABUL', 'AFGHANISTAN'), ('TOKYO', 'JAPAN', 'MADRID', 'SPAIN'), ('TOKYO', 'JAPAN', 'MOSCOW', 'RUSSIA'), ('TOKYO', 'JAPAN', 'OSLO', 'NORWAY'), ('TOKYO', 'JAPAN', 'OTTAWA', 'CANADA'), ('TOKYO', 'JAPAN', 'PARIS', 'FRANCE'), ('TOKYO', 'JAPAN', 'ROME', 'ITALY'), ('TOKYO', 'JAPAN', 'STOCKHOLM', 'SWEDEN'), ('TOKYO', 'JAPAN', 'TEHRAN', 'IRAN')], 'incorrect': [('ATHENS', 'GREECE', 'BAGHDAD', 'IRAQ'), ('ATHENS', 'GREECE', 'HANOI', 'VIETNAM'), ('ATHENS', 'GREECE', 'KABUL', 'AFGHANISTAN'), ('ATHENS', 'GREECE', 'LONDON', 'ENGLAND'), ('BAGHDAD', 'IRAQ', 'BERN', 'SWITZERLAND'), ('BAGHDAD', 'IRAQ', 'CANBERRA', 'AUSTRALIA'), ('BAGHDAD', 'IRAQ', 'LONDON', 'ENGLAND'), ('BAGHDAD', 'IRAQ', 'OTTAWA', 'CANADA'), ('BANGKOK', 'THAILAND', 'HANOI', 'VIETNAM'), ('BANGKOK', 'THAILAND', 'LONDON', 'ENGLAND'), ('BANGKOK', 'THAILAND', 'BAGHDAD', 'IRAQ'), ('BEIJING', 'CHINA', 'BERN', 'SWITZERLAND'), ('BEIJING', 'CHINA', 'HANOI', 'VIETNAM'), ('BEIJING', 'CHINA', 'KABUL', 'AFGHANISTAN'), ('BEIJING', 'CHINA', 'LONDON', 'ENGLAND'), ('BEIJING', 'CHINA', 'BAGHDAD', 'IRAQ'), ('BERLIN', 'GERMANY', 'HANOI', 'VIETNAM'), ('BERLIN', 'GERMANY', 'KABUL', 'AFGHANISTAN'), ('BERLIN', 'GERMANY', 'LONDON', 'ENGLAND'), ('BERLIN', 'GERMANY', 'BAGHDAD', 'IRAQ'), ('BERN', 'SWITZERLAND', 'HANOI', 'VIETNAM'), ('BERN', 'SWITZERLAND', 'LONDON', 'ENGLAND'), ('BERN', 'SWITZERLAND', 'BAGHDAD', 'IRAQ'), ('CAIRO', 'EGYPT', 'HANOI', 'VIETNAM'), ('CAIRO', 'EGYPT', 'KABUL', 'AFGHANISTAN'), ('CAIRO', 'EGYPT', 'LONDON', 'ENGLAND'), ('CAIRO', 'EGYPT', 'BAGHDAD', 'IRAQ'), ('CANBERRA', 'AUSTRALIA', 'HANOI', 'VIETNAM'), ('CANBERRA', 'AUSTRALIA', 'KABUL', 'AFGHANISTAN'), ('CANBERRA', 'AUSTRALIA', 'LONDON', 'ENGLAND'), ('CANBERRA', 'AUSTRALIA', 'BAGHDAD', 'IRAQ'), ('HANOI', 'VIETNAM', 'LONDON', 'ENGLAND'), ('HANOI', 'VIETNAM', 'BERN', 'SWITZERLAND'), ('HAVANA', 'CUBA', 'LONDON', 'ENGLAND'), ('HAVANA', 'CUBA', 'HANOI', 'VIETNAM'), ('HELSINKI', 'FINLAND', 'KABUL', 'AFGHANISTAN'), ('HELSINKI', 'FINLAND', 'LONDON', 'ENGLAND'), ('HELSINKI', 'FINLAND', 'BAGHDAD', 'IRAQ'), ('HELSINKI', 'FINLAND', 'HANOI', 'VIETNAM'), ('ISLAMABAD', 'PAKISTAN', 'KABUL', 'AFGHANISTAN'), ('ISLAMABAD', 'PAKISTAN', 'LONDON', 'ENGLAND'), ('ISLAMABAD', 'PAKISTAN', 'BAGHDAD', 'IRAQ'), ('ISLAMABAD', 'PAKISTAN', 'HANOI', 'VIETNAM'), ('KABUL', 'AFGHANISTAN', 'LONDON', 'ENGLAND'), ('KABUL', 'AFGHANISTAN', 'OTTAWA', 'CANADA'), ('KABUL', 'AFGHANISTAN', 'BERN', 'SWITZERLAND'), ('KABUL', 'AFGHANISTAN', 'CANBERRA', 'AUSTRALIA'), ('LONDON', 'ENGLAND', 'BAGHDAD', 'IRAQ'), ('LONDON', 'ENGLAND', 'BERN', 'SWITZERLAND'), ('LONDON', 'ENGLAND', 'HANOI', 'VIETNAM'), ('LONDON', 'ENGLAND', 'KABUL', 'AFGHANISTAN'), ('MADRID', 'SPAIN', 'BAGHDAD', 'IRAQ'), ('MADRID', 'SPAIN', 'HANOI', 'VIETNAM'), ('MADRID', 'SPAIN', 'KABUL', 'AFGHANISTAN'), ('MADRID', 'SPAIN', 'LONDON', 'ENGLAND'), ('MOSCOW', 'RUSSIA', 'BAGHDAD', 'IRAQ'), ('MOSCOW', 'RUSSIA', 'HANOI', 'VIETNAM'), ('MOSCOW', 'RUSSIA', 'KABUL', 'AFGHANISTAN'), ('MOSCOW', 'RUSSIA', 'LONDON', 'ENGLAND'), ('OSLO', 'NORWAY', 'BAGHDAD', 'IRAQ'), ('OSLO', 'NORWAY', 'HANOI', 'VIETNAM'), ('OSLO', 'NORWAY', 'KABUL', 'AFGHANISTAN'), ('OSLO', 'NORWAY', 'LONDON', 'ENGLAND'), ('OTTAWA', 'CANADA', 'BAGHDAD', 'IRAQ'), ('OTTAWA', 'CANADA', 'HANOI', 'VIETNAM'), ('OTTAWA', 'CANADA', 'KABUL', 'AFGHANISTAN'), ('OTTAWA', 'CANADA', 'LONDON', 'ENGLAND'), ('PARIS', 'FRANCE', 'BAGHDAD', 'IRAQ'), ('PARIS', 'FRANCE', 'HANOI', 'VIETNAM'), ('PARIS', 'FRANCE', 'KABUL', 'AFGHANISTAN'), ('PARIS', 'FRANCE', 'LONDON', 'ENGLAND'), ('ROME', 'ITALY', 'BAGHDAD', 'IRAQ'), ('ROME', 'ITALY', 'HANOI', 'VIETNAM'), ('ROME', 'ITALY', 'KABUL', 'AFGHANISTAN'), ('ROME', 'ITALY', 'LONDON', 'ENGLAND'), ('STOCKHOLM', 'SWEDEN', 'BAGHDAD', 'IRAQ'), ('STOCKHOLM', 'SWEDEN', 'HANOI', 'VIETNAM'), ('STOCKHOLM', 'SWEDEN', 'KABUL', 'AFGHANISTAN'), ('STOCKHOLM', 'SWEDEN', 'LONDON', 'ENGLAND'), ('TEHRAN', 'IRAN', 'BERN', 'SWITZERLAND'), ('TEHRAN', 'IRAN', 'HANOI', 'VIETNAM'), ('TEHRAN', 'IRAN', 'KABUL', 'AFGHANISTAN'), ('TEHRAN', 'IRAN', 'LONDON', 'ENGLAND'), ('TOKYO', 'JAPAN', 'HANOI', 'VIETNAM'), ('TOKYO', 'JAPAN', 'LONDON', 'ENGLAND')]}, {'section': 'Total accuracy', 'correct': [('ATHENS', 'GREECE', 'BANGKOK', 'THAILAND'), ('ATHENS', 'GREECE', 'BEIJING', 'CHINA'), ('ATHENS', 'GREECE', 'BERLIN', 'GERMANY'), ('ATHENS', 'GREECE', 'BERN', 'SWITZERLAND'), ('ATHENS', 'GREECE', 'CAIRO', 'EGYPT'), ('ATHENS', 'GREECE', 'CANBERRA', 'AUSTRALIA'), ('ATHENS', 'GREECE', 'HAVANA', 'CUBA'), ('ATHENS', 'GREECE', 'HELSINKI', 'FINLAND'), ('ATHENS', 'GREECE', 'ISLAMABAD', 'PAKISTAN'), ('ATHENS', 'GREECE', 'MADRID', 'SPAIN'), ('ATHENS', 'GREECE', 'MOSCOW', 'RUSSIA'), ('ATHENS', 'GREECE', 'OSLO', 'NORWAY'), ('ATHENS', 'GREECE', 'OTTAWA', 'CANADA'), ('ATHENS', 'GREECE', 'PARIS', 'FRANCE'), ('ATHENS', 'GREECE', 'ROME', 'ITALY'), ('ATHENS', 'GREECE', 'STOCKHOLM', 'SWEDEN'), ('ATHENS', 'GREECE', 'TEHRAN', 'IRAN'), ('ATHENS', 'GREECE', 'TOKYO', 'JAPAN'), ('BAGHDAD', 'IRAQ', 'BANGKOK', 'THAILAND'), ('BAGHDAD', 'IRAQ', 'BEIJING', 'CHINA'), ('BAGHDAD', 'IRAQ', 'BERLIN', 'GERMANY'), ('BAGHDAD', 'IRAQ', 'CAIRO', 'EGYPT'), ('BAGHDAD', 'IRAQ', 'HANOI', 'VIETNAM'), ('BAGHDAD', 'IRAQ', 'HAVANA', 'CUBA'), ('BAGHDAD', 'IRAQ', 'HELSINKI', 'FINLAND'), ('BAGHDAD', 'IRAQ', 'ISLAMABAD', 'PAKISTAN'), ('BAGHDAD', 'IRAQ', 'KABUL', 'AFGHANISTAN'), ('BAGHDAD', 'IRAQ', 'MADRID', 'SPAIN'), ('BAGHDAD', 'IRAQ', 'MOSCOW', 'RUSSIA'), ('BAGHDAD', 'IRAQ', 'OSLO', 'NORWAY'), ('BAGHDAD', 'IRAQ', 'PARIS', 'FRANCE'), ('BAGHDAD', 'IRAQ', 'ROME', 'ITALY'), ('BAGHDAD', 'IRAQ', 'STOCKHOLM', 'SWEDEN'), ('BAGHDAD', 'IRAQ', 'TEHRAN', 'IRAN'), ('BAGHDAD', 'IRAQ', 'TOKYO', 'JAPAN'), ('BAGHDAD', 'IRAQ', 'ATHENS', 'GREECE'), ('BANGKOK', 'THAILAND', 'BEIJING', 'CHINA'), ('BANGKOK', 'THAILAND', 'BERLIN', 'GERMANY'), ('BANGKOK', 'THAILAND', 'BERN', 'SWITZERLAND'), ('BANGKOK', 'THAILAND', 'CAIRO', 'EGYPT'), ('BANGKOK', 'THAILAND', 'CANBERRA', 'AUSTRALIA'), ('BANGKOK', 'THAILAND', 'HAVANA', 'CUBA'), ('BANGKOK', 'THAILAND', 'HELSINKI', 'FINLAND'), ('BANGKOK', 'THAILAND', 'ISLAMABAD', 'PAKISTAN'), ('BANGKOK', 'THAILAND', 'KABUL', 'AFGHANISTAN'), ('BANGKOK', 'THAILAND', 'MADRID', 'SPAIN'), ('BANGKOK', 'THAILAND', 'MOSCOW', 'RUSSIA'), ('BANGKOK', 'THAILAND', 'OSLO', 'NORWAY'), ('BANGKOK', 'THAILAND', 'OTTAWA', 'CANADA'), ('BANGKOK', 'THAILAND', 'PARIS', 'FRANCE'), ('BANGKOK', 'THAILAND', 'ROME', 'ITALY'), ('BANGKOK', 'THAILAND', 'STOCKHOLM', 'SWEDEN'), ('BANGKOK', 'THAILAND', 'TEHRAN', 'IRAN'), ('BANGKOK', 'THAILAND', 'TOKYO', 'JAPAN'), ('BANGKOK', 'THAILAND', 'ATHENS', 'GREECE'), ('BEIJING', 'CHINA', 'BERLIN', 'GERMANY'), ('BEIJING', 'CHINA', 'CAIRO', 'EGYPT'), ('BEIJING', 'CHINA', 'CANBERRA', 'AUSTRALIA'), ('BEIJING', 'CHINA', 'HAVANA', 'CUBA'), ('BEIJING', 'CHINA', 'HELSINKI', 'FINLAND'), ('BEIJING', 'CHINA', 'ISLAMABAD', 'PAKISTAN'), ('BEIJING', 'CHINA', 'MADRID', 'SPAIN'), ('BEIJING', 'CHINA', 'MOSCOW', 'RUSSIA'), ('BEIJING', 'CHINA', 'OSLO', 'NORWAY'), ('BEIJING', 'CHINA', 'OTTAWA', 'CANADA'), ('BEIJING', 'CHINA', 'PARIS', 'FRANCE'), ('BEIJING', 'CHINA', 'ROME', 'ITALY'), ('BEIJING', 'CHINA', 'STOCKHOLM', 'SWEDEN'), ('BEIJING', 'CHINA', 'TEHRAN', 'IRAN'), ('BEIJING', 'CHINA', 'TOKYO', 'JAPAN'), ('BEIJING', 'CHINA', 'ATHENS', 'GREECE'), ('BEIJING', 'CHINA', 'BANGKOK', 'THAILAND'), ('BERLIN', 'GERMANY', 'BERN', 'SWITZERLAND'), ('BERLIN', 'GERMANY', 'CAIRO', 'EGYPT'), ('BERLIN', 'GERMANY', 'CANBERRA', 'AUSTRALIA'), ('BERLIN', 'GERMANY', 'HAVANA', 'CUBA'), ('BERLIN', 'GERMANY', 'HELSINKI', 'FINLAND'), ('BERLIN', 'GERMANY', 'ISLAMABAD', 'PAKISTAN'), ('BERLIN', 'GERMANY', 'MADRID', 'SPAIN'), ('BERLIN', 'GERMANY', 'MOSCOW', 'RUSSIA'), ('BERLIN', 'GERMANY', 'OSLO', 'NORWAY'), ('BERLIN', 'GERMANY', 'OTTAWA', 'CANADA'), ('BERLIN', 'GERMANY', 'PARIS', 'FRANCE'), ('BERLIN', 'GERMANY', 'ROME', 'ITALY'), ('BERLIN', 'GERMANY', 'STOCKHOLM', 'SWEDEN'), ('BERLIN', 'GERMANY', 'TEHRAN', 'IRAN'), ('BERLIN', 'GERMANY', 'TOKYO', 'JAPAN'), ('BERLIN', 'GERMANY', 'ATHENS', 'GREECE'), ('BERLIN', 'GERMANY', 'BANGKOK', 'THAILAND'), ('BERLIN', 'GERMANY', 'BEIJING', 'CHINA'), ('BERN', 'SWITZERLAND', 'CAIRO', 'EGYPT'), ('BERN', 'SWITZERLAND', 'CANBERRA', 'AUSTRALIA'), ('BERN', 'SWITZERLAND', 'HAVANA', 'CUBA'), ('BERN', 'SWITZERLAND', 'HELSINKI', 'FINLAND'), ('BERN', 'SWITZERLAND', 'ISLAMABAD', 'PAKISTAN'), ('BERN', 'SWITZERLAND', 'KABUL', 'AFGHANISTAN'), ('BERN', 'SWITZERLAND', 'MADRID', 'SPAIN'), ('BERN', 'SWITZERLAND', 'MOSCOW', 'RUSSIA'), ('BERN', 'SWITZERLAND', 'OSLO', 'NORWAY'), ('BERN', 'SWITZERLAND', 'OTTAWA', 'CANADA'), ('BERN', 'SWITZERLAND', 'PARIS', 'FRANCE'), ('BERN', 'SWITZERLAND', 'ROME', 'ITALY'), ('BERN', 'SWITZERLAND', 'STOCKHOLM', 'SWEDEN'), ('BERN', 'SWITZERLAND', 'TEHRAN', 'IRAN'), ('BERN', 'SWITZERLAND', 'TOKYO', 'JAPAN'), ('BERN', 'SWITZERLAND', 'ATHENS', 'GREECE'), ('BERN', 'SWITZERLAND', 'BANGKOK', 'THAILAND'), ('BERN', 'SWITZERLAND', 'BEIJING', 'CHINA'), ('BERN', 'SWITZERLAND', 'BERLIN', 'GERMANY'), ('CAIRO', 'EGYPT', 'CANBERRA', 'AUSTRALIA'), ('CAIRO', 'EGYPT', 'HAVANA', 'CUBA'), ('CAIRO', 'EGYPT', 'HELSINKI', 'FINLAND'), ('CAIRO', 'EGYPT', 'ISLAMABAD', 'PAKISTAN'), ('CAIRO', 'EGYPT', 'MADRID', 'SPAIN'), ('CAIRO', 'EGYPT', 'MOSCOW', 'RUSSIA'), ('CAIRO', 'EGYPT', 'OSLO', 'NORWAY'), ('CAIRO', 'EGYPT', 'OTTAWA', 'CANADA'), ('CAIRO', 'EGYPT', 'PARIS', 'FRANCE'), ('CAIRO', 'EGYPT', 'ROME', 'ITALY'), ('CAIRO', 'EGYPT', 'STOCKHOLM', 'SWEDEN'), ('CAIRO', 'EGYPT', 'TEHRAN', 'IRAN'), ('CAIRO', 'EGYPT', 'TOKYO', 'JAPAN'), ('CAIRO', 'EGYPT', 'ATHENS', 'GREECE'), ('CAIRO', 'EGYPT', 'BANGKOK', 'THAILAND'), ('CAIRO', 'EGYPT', 'BEIJING', 'CHINA'), ('CAIRO', 'EGYPT', 'BERLIN', 'GERMANY'), ('CAIRO', 'EGYPT', 'BERN', 'SWITZERLAND'), ('CANBERRA', 'AUSTRALIA', 'HAVANA', 'CUBA'), ('CANBERRA', 'AUSTRALIA', 'HELSINKI', 'FINLAND'), ('CANBERRA', 'AUSTRALIA', 'ISLAMABAD', 'PAKISTAN'), ('CANBERRA', 'AUSTRALIA', 'MADRID', 'SPAIN'), ('CANBERRA', 'AUSTRALIA', 'MOSCOW', 'RUSSIA'), ('CANBERRA', 'AUSTRALIA', 'OSLO', 'NORWAY'), ('CANBERRA', 'AUSTRALIA', 'OTTAWA', 'CANADA'), ('CANBERRA', 'AUSTRALIA', 'PARIS', 'FRANCE'), ('CANBERRA', 'AUSTRALIA', 'ROME', 'ITALY'), ('CANBERRA', 'AUSTRALIA', 'STOCKHOLM', 'SWEDEN'), ('CANBERRA', 'AUSTRALIA', 'TEHRAN', 'IRAN'), ('CANBERRA', 'AUSTRALIA', 'TOKYO', 'JAPAN'), ('CANBERRA', 'AUSTRALIA', 'ATHENS', 'GREECE'), ('CANBERRA', 'AUSTRALIA', 'BANGKOK', 'THAILAND'), ('CANBERRA', 'AUSTRALIA', 'BEIJING', 'CHINA'), ('CANBERRA', 'AUSTRALIA', 'BERLIN', 'GERMANY'), ('CANBERRA', 'AUSTRALIA', 'BERN', 'SWITZERLAND'), ('CANBERRA', 'AUSTRALIA', 'CAIRO', 'EGYPT'), ('HANOI', 'VIETNAM', 'HAVANA', 'CUBA'), ('HANOI', 'VIETNAM', 'HELSINKI', 'FINLAND'), ('HANOI', 'VIETNAM', 'ISLAMABAD', 'PAKISTAN'), ('HANOI', 'VIETNAM', 'KABUL', 'AFGHANISTAN'), ('HANOI', 'VIETNAM', 'MADRID', 'SPAIN'), ('HANOI', 'VIETNAM', 'MOSCOW', 'RUSSIA'), ('HANOI', 'VIETNAM', 'OSLO', 'NORWAY'), ('HANOI', 'VIETNAM', 'OTTAWA', 'CANADA'), ('HANOI', 'VIETNAM', 'PARIS', 'FRANCE'), ('HANOI', 'VIETNAM', 'ROME', 'ITALY'), ('HANOI', 'VIETNAM', 'STOCKHOLM', 'SWEDEN'), ('HANOI', 'VIETNAM', 'TEHRAN', 'IRAN'), ('HANOI', 'VIETNAM', 'TOKYO', 'JAPAN'), ('HANOI', 'VIETNAM', 'ATHENS', 'GREECE'), ('HANOI', 'VIETNAM', 'BAGHDAD', 'IRAQ'), ('HANOI', 'VIETNAM', 'BANGKOK', 'THAILAND'), ('HANOI', 'VIETNAM', 'BEIJING', 'CHINA'), ('HANOI', 'VIETNAM', 'BERLIN', 'GERMANY'), ('HANOI', 'VIETNAM', 'CAIRO', 'EGYPT'), ('HANOI', 'VIETNAM', 'CANBERRA', 'AUSTRALIA'), ('HAVANA', 'CUBA', 'HELSINKI', 'FINLAND'), ('HAVANA', 'CUBA', 'ISLAMABAD', 'PAKISTAN'), ('HAVANA', 'CUBA', 'KABUL', 'AFGHANISTAN'), ('HAVANA', 'CUBA', 'MADRID', 'SPAIN'), ('HAVANA', 'CUBA', 'MOSCOW', 'RUSSIA'), ('HAVANA', 'CUBA', 'OSLO', 'NORWAY'), ('HAVANA', 'CUBA', 'OTTAWA', 'CANADA'), ('HAVANA', 'CUBA', 'PARIS', 'FRANCE'), ('HAVANA', 'CUBA', 'ROME', 'ITALY'), ('HAVANA', 'CUBA', 'STOCKHOLM', 'SWEDEN'), ('HAVANA', 'CUBA', 'TEHRAN', 'IRAN'), ('HAVANA', 'CUBA', 'TOKYO', 'JAPAN'), ('HAVANA', 'CUBA', 'ATHENS', 'GREECE'), ('HAVANA', 'CUBA', 'BAGHDAD', 'IRAQ'), ('HAVANA', 'CUBA', 'BANGKOK', 'THAILAND'), ('HAVANA', 'CUBA', 'BEIJING', 'CHINA'), ('HAVANA', 'CUBA', 'BERLIN', 'GERMANY'), ('HAVANA', 'CUBA', 'BERN', 'SWITZERLAND'), ('HAVANA', 'CUBA', 'CAIRO', 'EGYPT'), ('HAVANA', 'CUBA', 'CANBERRA', 'AUSTRALIA'), ('HELSINKI', 'FINLAND', 'ISLAMABAD', 'PAKISTAN'), ('HELSINKI', 'FINLAND', 'MADRID', 'SPAIN'), ('HELSINKI', 'FINLAND', 'MOSCOW', 'RUSSIA'), ('HELSINKI', 'FINLAND', 'OSLO', 'NORWAY'), ('HELSINKI', 'FINLAND', 'OTTAWA', 'CANADA'), ('HELSINKI', 'FINLAND', 'PARIS', 'FRANCE'), ('HELSINKI', 'FINLAND', 'ROME', 'ITALY'), ('HELSINKI', 'FINLAND', 'STOCKHOLM', 'SWEDEN'), ('HELSINKI', 'FINLAND', 'TEHRAN', 'IRAN'), ('HELSINKI', 'FINLAND', 'TOKYO', 'JAPAN'), ('HELSINKI', 'FINLAND', 'ATHENS', 'GREECE'), ('HELSINKI', 'FINLAND', 'BANGKOK', 'THAILAND'), ('HELSINKI', 'FINLAND', 'BEIJING', 'CHINA'), ('HELSINKI', 'FINLAND', 'BERLIN', 'GERMANY'), ('HELSINKI', 'FINLAND', 'BERN', 'SWITZERLAND'), ('HELSINKI', 'FINLAND', 'CAIRO', 'EGYPT'), ('HELSINKI', 'FINLAND', 'CANBERRA', 'AUSTRALIA'), ('HELSINKI', 'FINLAND', 'HAVANA', 'CUBA'), ('ISLAMABAD', 'PAKISTAN', 'MADRID', 'SPAIN'), ('ISLAMABAD', 'PAKISTAN', 'MOSCOW', 'RUSSIA'), ('ISLAMABAD', 'PAKISTAN', 'OSLO', 'NORWAY'), ('ISLAMABAD', 'PAKISTAN', 'OTTAWA', 'CANADA'), ('ISLAMABAD', 'PAKISTAN', 'PARIS', 'FRANCE'), ('ISLAMABAD', 'PAKISTAN', 'ROME', 'ITALY'), ('ISLAMABAD', 'PAKISTAN', 'STOCKHOLM', 'SWEDEN'), ('ISLAMABAD', 'PAKISTAN', 'TEHRAN', 'IRAN'), ('ISLAMABAD', 'PAKISTAN', 'TOKYO', 'JAPAN'), ('ISLAMABAD', 'PAKISTAN', 'ATHENS', 'GREECE'), ('ISLAMABAD', 'PAKISTAN', 'BANGKOK', 'THAILAND'), ('ISLAMABAD', 'PAKISTAN', 'BEIJING', 'CHINA'), ('ISLAMABAD', 'PAKISTAN', 'BERLIN', 'GERMANY'), ('ISLAMABAD', 'PAKISTAN', 'BERN', 'SWITZERLAND'), ('ISLAMABAD', 'PAKISTAN', 'CAIRO', 'EGYPT'), ('ISLAMABAD', 'PAKISTAN', 'CANBERRA', 'AUSTRALIA'), ('ISLAMABAD', 'PAKISTAN', 'HAVANA', 'CUBA'), ('ISLAMABAD', 'PAKISTAN', 'HELSINKI', 'FINLAND'), ('KABUL', 'AFGHANISTAN', 'MADRID', 'SPAIN'), ('KABUL', 'AFGHANISTAN', 'MOSCOW', 'RUSSIA'), ('KABUL', 'AFGHANISTAN', 'OSLO', 'NORWAY'), ('KABUL', 'AFGHANISTAN', 'PARIS', 'FRANCE'), ('KABUL', 'AFGHANISTAN', 'ROME', 'ITALY'), ('KABUL', 'AFGHANISTAN', 'STOCKHOLM', 'SWEDEN'), ('KABUL', 'AFGHANISTAN', 'TEHRAN', 'IRAN'), ('KABUL', 'AFGHANISTAN', 'TOKYO', 'JAPAN'), ('KABUL', 'AFGHANISTAN', 'ATHENS', 'GREECE'), ('KABUL', 'AFGHANISTAN', 'BAGHDAD', 'IRAQ'), ('KABUL', 'AFGHANISTAN', 'BANGKOK', 'THAILAND'), ('KABUL', 'AFGHANISTAN', 'BEIJING', 'CHINA'), ('KABUL', 'AFGHANISTAN', 'BERLIN', 'GERMANY'), ('KABUL', 'AFGHANISTAN', 'CAIRO', 'EGYPT'), ('KABUL', 'AFGHANISTAN', 'HANOI', 'VIETNAM'), ('KABUL', 'AFGHANISTAN', 'HAVANA', 'CUBA'), ('KABUL', 'AFGHANISTAN', 'HELSINKI', 'FINLAND'), ('KABUL', 'AFGHANISTAN', 'ISLAMABAD', 'PAKISTAN'), ('LONDON', 'ENGLAND', 'MADRID', 'SPAIN'), ('LONDON', 'ENGLAND', 'MOSCOW', 'RUSSIA'), ('LONDON', 'ENGLAND', 'OSLO', 'NORWAY'), ('LONDON', 'ENGLAND', 'OTTAWA', 'CANADA'), ('LONDON', 'ENGLAND', 'PARIS', 'FRANCE'), ('LONDON', 'ENGLAND', 'ROME', 'ITALY'), ('LONDON', 'ENGLAND', 'STOCKHOLM', 'SWEDEN'), ('LONDON', 'ENGLAND', 'TEHRAN', 'IRAN'), ('LONDON', 'ENGLAND', 'TOKYO', 'JAPAN'), ('LONDON', 'ENGLAND', 'ATHENS', 'GREECE'), ('LONDON', 'ENGLAND', 'BANGKOK', 'THAILAND'), ('LONDON', 'ENGLAND', 'BEIJING', 'CHINA'), ('LONDON', 'ENGLAND', 'BERLIN', 'GERMANY'), ('LONDON', 'ENGLAND', 'CAIRO', 'EGYPT'), ('LONDON', 'ENGLAND', 'CANBERRA', 'AUSTRALIA'), ('LONDON', 'ENGLAND', 'HAVANA', 'CUBA'), ('LONDON', 'ENGLAND', 'HELSINKI', 'FINLAND'), ('LONDON', 'ENGLAND', 'ISLAMABAD', 'PAKISTAN'), ('MADRID', 'SPAIN', 'MOSCOW', 'RUSSIA'), ('MADRID', 'SPAIN', 'OSLO', 'NORWAY'), ('MADRID', 'SPAIN', 'OTTAWA', 'CANADA'), ('MADRID', 'SPAIN', 'PARIS', 'FRANCE'), ('MADRID', 'SPAIN', 'ROME', 'ITALY'), ('MADRID', 'SPAIN', 'STOCKHOLM', 'SWEDEN'), ('MADRID', 'SPAIN', 'TEHRAN', 'IRAN'), ('MADRID', 'SPAIN', 'TOKYO', 'JAPAN'), ('MADRID', 'SPAIN', 'ATHENS', 'GREECE'), ('MADRID', 'SPAIN', 'BANGKOK', 'THAILAND'), ('MADRID', 'SPAIN', 'BEIJING', 'CHINA'), ('MADRID', 'SPAIN', 'BERLIN', 'GERMANY'), ('MADRID', 'SPAIN', 'BERN', 'SWITZERLAND'), ('MADRID', 'SPAIN', 'CAIRO', 'EGYPT'), ('MADRID', 'SPAIN', 'CANBERRA', 'AUSTRALIA'), ('MADRID', 'SPAIN', 'HAVANA', 'CUBA'), ('MADRID', 'SPAIN', 'HELSINKI', 'FINLAND'), ('MADRID', 'SPAIN', 'ISLAMABAD', 'PAKISTAN'), ('MOSCOW', 'RUSSIA', 'OSLO', 'NORWAY'), ('MOSCOW', 'RUSSIA', 'OTTAWA', 'CANADA'), ('MOSCOW', 'RUSSIA', 'PARIS', 'FRANCE'), ('MOSCOW', 'RUSSIA', 'ROME', 'ITALY'), ('MOSCOW', 'RUSSIA', 'STOCKHOLM', 'SWEDEN'), ('MOSCOW', 'RUSSIA', 'TEHRAN', 'IRAN'), ('MOSCOW', 'RUSSIA', 'TOKYO', 'JAPAN'), ('MOSCOW', 'RUSSIA', 'ATHENS', 'GREECE'), ('MOSCOW', 'RUSSIA', 'BANGKOK', 'THAILAND'), ('MOSCOW', 'RUSSIA', 'BEIJING', 'CHINA'), ('MOSCOW', 'RUSSIA', 'BERLIN', 'GERMANY'), ('MOSCOW', 'RUSSIA', 'BERN', 'SWITZERLAND'), ('MOSCOW', 'RUSSIA', 'CAIRO', 'EGYPT'), ('MOSCOW', 'RUSSIA', 'CANBERRA', 'AUSTRALIA'), ('MOSCOW', 'RUSSIA', 'HAVANA', 'CUBA'), ('MOSCOW', 'RUSSIA', 'HELSINKI', 'FINLAND'), ('MOSCOW', 'RUSSIA', 'ISLAMABAD', 'PAKISTAN'), ('MOSCOW', 'RUSSIA', 'MADRID', 'SPAIN'), ('OSLO', 'NORWAY', 'OTTAWA', 'CANADA'), ('OSLO', 'NORWAY', 'PARIS', 'FRANCE'), ('OSLO', 'NORWAY', 'ROME', 'ITALY'), ('OSLO', 'NORWAY', 'STOCKHOLM', 'SWEDEN'), ('OSLO', 'NORWAY', 'TEHRAN', 'IRAN'), ('OSLO', 'NORWAY', 'TOKYO', 'JAPAN'), ('OSLO', 'NORWAY', 'ATHENS', 'GREECE'), ('OSLO', 'NORWAY', 'BANGKOK', 'THAILAND'), ('OSLO', 'NORWAY', 'BEIJING', 'CHINA'), ('OSLO', 'NORWAY', 'BERLIN', 'GERMANY'), ('OSLO', 'NORWAY', 'BERN', 'SWITZERLAND'), ('OSLO', 'NORWAY', 'CAIRO', 'EGYPT'), ('OSLO', 'NORWAY', 'CANBERRA', 'AUSTRALIA'), ('OSLO', 'NORWAY', 'HAVANA', 'CUBA'), ('OSLO', 'NORWAY', 'HELSINKI', 'FINLAND'), ('OSLO', 'NORWAY', 'ISLAMABAD', 'PAKISTAN'), ('OSLO', 'NORWAY', 'MADRID', 'SPAIN'), ('OSLO', 'NORWAY', 'MOSCOW', 'RUSSIA'), ('OTTAWA', 'CANADA', 'PARIS', 'FRANCE'), ('OTTAWA', 'CANADA', 'ROME', 'ITALY'), ('OTTAWA', 'CANADA', 'STOCKHOLM', 'SWEDEN'), ('OTTAWA', 'CANADA', 'TEHRAN', 'IRAN'), ('OTTAWA', 'CANADA', 'TOKYO', 'JAPAN'), ('OTTAWA', 'CANADA', 'ATHENS', 'GREECE'), ('OTTAWA', 'CANADA', 'BANGKOK', 'THAILAND'), ('OTTAWA', 'CANADA', 'BEIJING', 'CHINA'), ('OTTAWA', 'CANADA', 'BERLIN', 'GERMANY'), ('OTTAWA', 'CANADA', 'BERN', 'SWITZERLAND'), ('OTTAWA', 'CANADA', 'CAIRO', 'EGYPT'), ('OTTAWA', 'CANADA', 'CANBERRA', 'AUSTRALIA'), ('OTTAWA', 'CANADA', 'HAVANA', 'CUBA'), ('OTTAWA', 'CANADA', 'HELSINKI', 'FINLAND'), ('OTTAWA', 'CANADA', 'ISLAMABAD', 'PAKISTAN'), ('OTTAWA', 'CANADA', 'MADRID', 'SPAIN'), ('OTTAWA', 'CANADA', 'MOSCOW', 'RUSSIA'), ('OTTAWA', 'CANADA', 'OSLO', 'NORWAY'), ('PARIS', 'FRANCE', 'ROME', 'ITALY'), ('PARIS', 'FRANCE', 'STOCKHOLM', 'SWEDEN'), ('PARIS', 'FRANCE', 'TEHRAN', 'IRAN'), ('PARIS', 'FRANCE', 'TOKYO', 'JAPAN'), ('PARIS', 'FRANCE', 'ATHENS', 'GREECE'), ('PARIS', 'FRANCE', 'BANGKOK', 'THAILAND'), ('PARIS', 'FRANCE', 'BEIJING', 'CHINA'), ('PARIS', 'FRANCE', 'BERLIN', 'GERMANY'), ('PARIS', 'FRANCE', 'BERN', 'SWITZERLAND'), ('PARIS', 'FRANCE', 'CAIRO', 'EGYPT'), ('PARIS', 'FRANCE', 'CANBERRA', 'AUSTRALIA'), ('PARIS', 'FRANCE', 'HAVANA', 'CUBA'), ('PARIS', 'FRANCE', 'HELSINKI', 'FINLAND'), ('PARIS', 'FRANCE', 'ISLAMABAD', 'PAKISTAN'), ('PARIS', 'FRANCE', 'MADRID', 'SPAIN'), ('PARIS', 'FRANCE', 'MOSCOW', 'RUSSIA'), ('PARIS', 'FRANCE', 'OSLO', 'NORWAY'), ('PARIS', 'FRANCE', 'OTTAWA', 'CANADA'), ('ROME', 'ITALY', 'STOCKHOLM', 'SWEDEN'), ('ROME', 'ITALY', 'TEHRAN', 'IRAN'), ('ROME', 'ITALY', 'TOKYO', 'JAPAN'), ('ROME', 'ITALY', 'ATHENS', 'GREECE'), ('ROME', 'ITALY', 'BANGKOK', 'THAILAND'), ('ROME', 'ITALY', 'BEIJING', 'CHINA'), ('ROME', 'ITALY', 'BERLIN', 'GERMANY'), ('ROME', 'ITALY', 'BERN', 'SWITZERLAND'), ('ROME', 'ITALY', 'CAIRO', 'EGYPT'), ('ROME', 'ITALY', 'CANBERRA', 'AUSTRALIA'), ('ROME', 'ITALY', 'HAVANA', 'CUBA'), ('ROME', 'ITALY', 'HELSINKI', 'FINLAND'), ('ROME', 'ITALY', 'ISLAMABAD', 'PAKISTAN'), ('ROME', 'ITALY', 'MADRID', 'SPAIN'), ('ROME', 'ITALY', 'MOSCOW', 'RUSSIA'), ('ROME', 'ITALY', 'OSLO', 'NORWAY'), ('ROME', 'ITALY', 'OTTAWA', 'CANADA'), ('ROME', 'ITALY', 'PARIS', 'FRANCE'), ('STOCKHOLM', 'SWEDEN', 'TEHRAN', 'IRAN'), ('STOCKHOLM', 'SWEDEN', 'TOKYO', 'JAPAN'), ('STOCKHOLM', 'SWEDEN', 'ATHENS', 'GREECE'), ('STOCKHOLM', 'SWEDEN', 'BANGKOK', 'THAILAND'), ('STOCKHOLM', 'SWEDEN', 'BEIJING', 'CHINA'), ('STOCKHOLM', 'SWEDEN', 'BERLIN', 'GERMANY'), ('STOCKHOLM', 'SWEDEN', 'BERN', 'SWITZERLAND'), ('STOCKHOLM', 'SWEDEN', 'CAIRO', 'EGYPT'), ('STOCKHOLM', 'SWEDEN', 'CANBERRA', 'AUSTRALIA'), ('STOCKHOLM', 'SWEDEN', 'HAVANA', 'CUBA'), ('STOCKHOLM', 'SWEDEN', 'HELSINKI', 'FINLAND'), ('STOCKHOLM', 'SWEDEN', 'ISLAMABAD', 'PAKISTAN'), ('STOCKHOLM', 'SWEDEN', 'MADRID', 'SPAIN'), ('STOCKHOLM', 'SWEDEN', 'MOSCOW', 'RUSSIA'), ('STOCKHOLM', 'SWEDEN', 'OSLO', 'NORWAY'), ('STOCKHOLM', 'SWEDEN', 'OTTAWA', 'CANADA'), ('STOCKHOLM', 'SWEDEN', 'PARIS', 'FRANCE'), ('STOCKHOLM', 'SWEDEN', 'ROME', 'ITALY'), ('TEHRAN', 'IRAN', 'TOKYO', 'JAPAN'), ('TEHRAN', 'IRAN', 'ATHENS', 'GREECE'), ('TEHRAN', 'IRAN', 'BAGHDAD', 'IRAQ'), ('TEHRAN', 'IRAN', 'BANGKOK', 'THAILAND'), ('TEHRAN', 'IRAN', 'BEIJING', 'CHINA'), ('TEHRAN', 'IRAN', 'BERLIN', 'GERMANY'), ('TEHRAN', 'IRAN', 'CAIRO', 'EGYPT'), ('TEHRAN', 'IRAN', 'CANBERRA', 'AUSTRALIA'), ('TEHRAN', 'IRAN', 'HAVANA', 'CUBA'), ('TEHRAN', 'IRAN', 'HELSINKI', 'FINLAND'), ('TEHRAN', 'IRAN', 'ISLAMABAD', 'PAKISTAN'), ('TEHRAN', 'IRAN', 'MADRID', 'SPAIN'), ('TEHRAN', 'IRAN', 'MOSCOW', 'RUSSIA'), ('TEHRAN', 'IRAN', 'OSLO', 'NORWAY'), ('TEHRAN', 'IRAN', 'OTTAWA', 'CANADA'), ('TEHRAN', 'IRAN', 'PARIS', 'FRANCE'), ('TEHRAN', 'IRAN', 'ROME', 'ITALY'), ('TEHRAN', 'IRAN', 'STOCKHOLM', 'SWEDEN'), ('TOKYO', 'JAPAN', 'ATHENS', 'GREECE'), ('TOKYO', 'JAPAN', 'BAGHDAD', 'IRAQ'), ('TOKYO', 'JAPAN', 'BANGKOK', 'THAILAND'), ('TOKYO', 'JAPAN', 'BEIJING', 'CHINA'), ('TOKYO', 'JAPAN', 'BERLIN', 'GERMANY'), ('TOKYO', 'JAPAN', 'BERN', 'SWITZERLAND'), ('TOKYO', 'JAPAN', 'CAIRO', 'EGYPT'), ('TOKYO', 'JAPAN', 'CANBERRA', 'AUSTRALIA'), ('TOKYO', 'JAPAN', 'HAVANA', 'CUBA'), ('TOKYO', 'JAPAN', 'HELSINKI', 'FINLAND'), ('TOKYO', 'JAPAN', 'ISLAMABAD', 'PAKISTAN'), ('TOKYO', 'JAPAN', 'KABUL', 'AFGHANISTAN'), ('TOKYO', 'JAPAN', 'MADRID', 'SPAIN'), ('TOKYO', 'JAPAN', 'MOSCOW', 'RUSSIA'), ('TOKYO', 'JAPAN', 'OSLO', 'NORWAY'), ('TOKYO', 'JAPAN', 'OTTAWA', 'CANADA'), ('TOKYO', 'JAPAN', 'PARIS', 'FRANCE'), ('TOKYO', 'JAPAN', 'ROME', 'ITALY'), ('TOKYO', 'JAPAN', 'STOCKHOLM', 'SWEDEN'), ('TOKYO', 'JAPAN', 'TEHRAN', 'IRAN')], 'incorrect': [('ATHENS', 'GREECE', 'BAGHDAD', 'IRAQ'), ('ATHENS', 'GREECE', 'HANOI', 'VIETNAM'), ('ATHENS', 'GREECE', 'KABUL', 'AFGHANISTAN'), ('ATHENS', 'GREECE', 'LONDON', 'ENGLAND'), ('BAGHDAD', 'IRAQ', 'BERN', 'SWITZERLAND'), ('BAGHDAD', 'IRAQ', 'CANBERRA', 'AUSTRALIA'), ('BAGHDAD', 'IRAQ', 'LONDON', 'ENGLAND'), ('BAGHDAD', 'IRAQ', 'OTTAWA', 'CANADA'), ('BANGKOK', 'THAILAND', 'HANOI', 'VIETNAM'), ('BANGKOK', 'THAILAND', 'LONDON', 'ENGLAND'), ('BANGKOK', 'THAILAND', 'BAGHDAD', 'IRAQ'), ('BEIJING', 'CHINA', 'BERN', 'SWITZERLAND'), ('BEIJING', 'CHINA', 'HANOI', 'VIETNAM'), ('BEIJING', 'CHINA', 'KABUL', 'AFGHANISTAN'), ('BEIJING', 'CHINA', 'LONDON', 'ENGLAND'), ('BEIJING', 'CHINA', 'BAGHDAD', 'IRAQ'), ('BERLIN', 'GERMANY', 'HANOI', 'VIETNAM'), ('BERLIN', 'GERMANY', 'KABUL', 'AFGHANISTAN'), ('BERLIN', 'GERMANY', 'LONDON', 'ENGLAND'), ('BERLIN', 'GERMANY', 'BAGHDAD', 'IRAQ'), ('BERN', 'SWITZERLAND', 'HANOI', 'VIETNAM'), ('BERN', 'SWITZERLAND', 'LONDON', 'ENGLAND'), ('BERN', 'SWITZERLAND', 'BAGHDAD', 'IRAQ'), ('CAIRO', 'EGYPT', 'HANOI', 'VIETNAM'), ('CAIRO', 'EGYPT', 'KABUL', 'AFGHANISTAN'), ('CAIRO', 'EGYPT', 'LONDON', 'ENGLAND'), ('CAIRO', 'EGYPT', 'BAGHDAD', 'IRAQ'), ('CANBERRA', 'AUSTRALIA', 'HANOI', 'VIETNAM'), ('CANBERRA', 'AUSTRALIA', 'KABUL', 'AFGHANISTAN'), ('CANBERRA', 'AUSTRALIA', 'LONDON', 'ENGLAND'), ('CANBERRA', 'AUSTRALIA', 'BAGHDAD', 'IRAQ'), ('HANOI', 'VIETNAM', 'LONDON', 'ENGLAND'), ('HANOI', 'VIETNAM', 'BERN', 'SWITZERLAND'), ('HAVANA', 'CUBA', 'LONDON', 'ENGLAND'), ('HAVANA', 'CUBA', 'HANOI', 'VIETNAM'), ('HELSINKI', 'FINLAND', 'KABUL', 'AFGHANISTAN'), ('HELSINKI', 'FINLAND', 'LONDON', 'ENGLAND'), ('HELSINKI', 'FINLAND', 'BAGHDAD', 'IRAQ'), ('HELSINKI', 'FINLAND', 'HANOI', 'VIETNAM'), ('ISLAMABAD', 'PAKISTAN', 'KABUL', 'AFGHANISTAN'), ('ISLAMABAD', 'PAKISTAN', 'LONDON', 'ENGLAND'), ('ISLAMABAD', 'PAKISTAN', 'BAGHDAD', 'IRAQ'), ('ISLAMABAD', 'PAKISTAN', 'HANOI', 'VIETNAM'), ('KABUL', 'AFGHANISTAN', 'LONDON', 'ENGLAND'), ('KABUL', 'AFGHANISTAN', 'OTTAWA', 'CANADA'), ('KABUL', 'AFGHANISTAN', 'BERN', 'SWITZERLAND'), ('KABUL', 'AFGHANISTAN', 'CANBERRA', 'AUSTRALIA'), ('LONDON', 'ENGLAND', 'BAGHDAD', 'IRAQ'), ('LONDON', 'ENGLAND', 'BERN', 'SWITZERLAND'), ('LONDON', 'ENGLAND', 'HANOI', 'VIETNAM'), ('LONDON', 'ENGLAND', 'KABUL', 'AFGHANISTAN'), ('MADRID', 'SPAIN', 'BAGHDAD', 'IRAQ'), ('MADRID', 'SPAIN', 'HANOI', 'VIETNAM'), ('MADRID', 'SPAIN', 'KABUL', 'AFGHANISTAN'), ('MADRID', 'SPAIN', 'LONDON', 'ENGLAND'), ('MOSCOW', 'RUSSIA', 'BAGHDAD', 'IRAQ'), ('MOSCOW', 'RUSSIA', 'HANOI', 'VIETNAM'), ('MOSCOW', 'RUSSIA', 'KABUL', 'AFGHANISTAN'), ('MOSCOW', 'RUSSIA', 'LONDON', 'ENGLAND'), ('OSLO', 'NORWAY', 'BAGHDAD', 'IRAQ'), ('OSLO', 'NORWAY', 'HANOI', 'VIETNAM'), ('OSLO', 'NORWAY', 'KABUL', 'AFGHANISTAN'), ('OSLO', 'NORWAY', 'LONDON', 'ENGLAND'), ('OTTAWA', 'CANADA', 'BAGHDAD', 'IRAQ'), ('OTTAWA', 'CANADA', 'HANOI', 'VIETNAM'), ('OTTAWA', 'CANADA', 'KABUL', 'AFGHANISTAN'), ('OTTAWA', 'CANADA', 'LONDON', 'ENGLAND'), ('PARIS', 'FRANCE', 'BAGHDAD', 'IRAQ'), ('PARIS', 'FRANCE', 'HANOI', 'VIETNAM'), ('PARIS', 'FRANCE', 'KABUL', 'AFGHANISTAN'), ('PARIS', 'FRANCE', 'LONDON', 'ENGLAND'), ('ROME', 'ITALY', 'BAGHDAD', 'IRAQ'), ('ROME', 'ITALY', 'HANOI', 'VIETNAM'), ('ROME', 'ITALY', 'KABUL', 'AFGHANISTAN'), ('ROME', 'ITALY', 'LONDON', 'ENGLAND'), ('STOCKHOLM', 'SWEDEN', 'BAGHDAD', 'IRAQ'), ('STOCKHOLM', 'SWEDEN', 'HANOI', 'VIETNAM'), ('STOCKHOLM', 'SWEDEN', 'KABUL', 'AFGHANISTAN'), ('STOCKHOLM', 'SWEDEN', 'LONDON', 'ENGLAND'), ('TEHRAN', 'IRAN', 'BERN', 'SWITZERLAND'), ('TEHRAN', 'IRAN', 'HANOI', 'VIETNAM'), ('TEHRAN', 'IRAN', 'KABUL', 'AFGHANISTAN'), ('TEHRAN', 'IRAN', 'LONDON', 'ENGLAND'), ('TOKYO', 'JAPAN', 'HANOI', 'VIETNAM'), ('TOKYO', 'JAPAN', 'LONDON', 'ENGLAND')]}])\n"
     ]
    }
   ],
   "source": [
    "analogy_scores = wv.evaluate_word_analogies(datapath('word-analogies.txt'))\n",
    "print(analogy_scores)"
   ]
  },
  {
   "cell_type": "markdown",
   "metadata": {},
   "source": [
    "Print the accuracy and show an example of a correctly solved analogy, and an incorrectly solved one."
   ]
  },
  {
   "cell_type": "code",
   "execution_count": 26,
   "metadata": {},
   "outputs": [
    {
     "name": "stdout",
     "output_type": "stream",
     "text": [
      "Accuracy: 0.8320158102766798\n",
      "dict_keys(['section', 'correct', 'incorrect'])\n",
      "capital-common-countries\n",
      "('ATHENS', 'GREECE', 'BANGKOK', 'THAILAND')\n",
      "('ATHENS', 'GREECE', 'BAGHDAD', 'IRAQ')\n"
     ]
    }
   ],
   "source": [
    "print('Accuracy:', analogy_scores[0])\n",
    "print(analogy_scores[1][0].keys())\n",
    "print(analogy_scores[1][0]['section'])\n",
    "print(analogy_scores[1][0]['correct'][0])\n",
    "print(analogy_scores[1][0]['incorrect'][0])"
   ]
  },
  {
   "cell_type": "markdown",
   "metadata": {},
   "source": [
    "## Visualization\n",
    "Let's visualize our word embeddings in two dimensions. We use PCA to reduce the dimensionality of our 300-dim word vectors to 2. Below is a function `display_scatterplot` that takes a list of words as input and plots them in 2D."
   ]
  },
  {
   "cell_type": "code",
   "execution_count": 27,
   "metadata": {},
   "outputs": [],
   "source": [
    "from sklearn.decomposition import PCA\n",
    "import matplotlib.pyplot as plt\n",
    "%matplotlib inline\n",
    "\n",
    "def display_scatterplot(model, words): # assumes all words are in the vocabulary\n",
    "    word_vectors = [model[word] for word in words]\n",
    "    twodim = PCA().fit_transform(word_vectors)[:,:2]\n",
    "    plt.figure(figsize=(6,6))\n",
    "    plt.scatter(twodim[:,0], twodim[:,1], edgecolors='k', c='r')\n",
    "    for word, (x,y) in zip(words, twodim):\n",
    "        plt.text(x + 0.03, y + 0.03, word)"
   ]
  },
  {
   "cell_type": "markdown",
   "metadata": {},
   "source": [
    "Define a list of words that could be present in an analogy task. Plot their down-projected embeddings. Can you detect a vector for the relation of your analogy?"
   ]
  },
  {
   "cell_type": "code",
   "execution_count": 37,
   "metadata": {},
   "outputs": [
    {
     "data": {
      "image/png": "[encoded data removed]",
      "text/plain": [
       "<Figure size 600x600 with 1 Axes>"
      ]
     },
     "metadata": {},
     "output_type": "display_data"
    }
   ],
   "source": [
    "display_scatterplot(wv, ['football', 'grass', 'ski', 'snow', 'hockey', 'ice', 'tennis', 'sand'])"
   ]
  },
  {
   "cell_type": "code",
   "execution_count": null,
   "metadata": {},
   "outputs": [],
   "source": [
    "display_scatterplot(wv, [''])"
   ]
  },
  {
   "cell_type": "markdown",
   "metadata": {},
   "source": [
    "## Fun with words\n",
    "Try your own skills in guessing the hidden word by entering words and receiving the cosine similarity on [Semantle](https://semantle.com/)."
   ]
  }
 ],
 "metadata": {
  "kernelspec": {
   "display_name": "nlp",
   "language": "python",
   "name": "python3"
  },
  "language_info": {
   "codemirror_mode": {
    "name": "ipython",
    "version": 3
   },
   "file_extension": ".py",
   "mimetype": "text/x-python",
   "name": "python",
   "nbconvert_exporter": "python",
   "pygments_lexer": "ipython3",
   "version": "3.9.21"
  }
 },
 "nbformat": 4,
 "nbformat_minor": 4
}
